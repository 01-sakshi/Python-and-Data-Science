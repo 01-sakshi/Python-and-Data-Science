{
 "cells": [
  {
   "cell_type": "code",
   "execution_count": null,
   "metadata": {},
   "outputs": [],
   "source": [
    "print(\"hello\")"
   ]
  },
  {
   "cell_type": "code",
   "execution_count": null,
   "metadata": {},
   "outputs": [],
   "source": []
  },
  {
   "cell_type": "code",
   "execution_count": null,
   "metadata": {},
   "outputs": [],
   "source": [
    "a=input()\n",
    "b=input()\n",
    "c=int(a)+int(b)\n",
    "print(c)"
   ]
  },
  {
   "cell_type": "code",
   "execution_count": null,
   "metadata": {},
   "outputs": [],
   "source": [
    "a=eval(input())\n",
    "b=eval(input())\n",
    "c=a+b\n",
    "print(c)"
   ]
  },
  {
   "cell_type": "code",
   "execution_count": null,
   "metadata": {},
   "outputs": [],
   "source": [
    "a=eval(input())\n",
    "b=eval(input())\n",
    "c=a+b\n",
    "print(c)"
   ]
  },
  {
   "cell_type": "code",
   "execution_count": null,
   "metadata": {},
   "outputs": [],
   "source": [
    "a=eval(input())\n",
    "b=eval(input())\n",
    "if a>b:\n",
    "    print(\"a is greatest\")\n",
    "else:\n",
    "    print(\"b is greatest\")"
   ]
  },
  {
   "cell_type": "code",
   "execution_count": null,
   "metadata": {},
   "outputs": [],
   "source": [
    "a=int(input())\n",
    "b=int(input())\n",
    "print(a // b)\n",
    "print(a/b)"
   ]
  },
  {
   "cell_type": "code",
   "execution_count": null,
   "metadata": {},
   "outputs": [],
   "source": [
    "#Input the basic pay of an employee and calculate the gross pay as per rules.\n",
    "bpay=eval(input())  #basic pay\n",
    "hra=0.2*bpay\n",
    "if hra>3000:\n",
    "    hra=3000\n",
    "    \n",
    "if bpay<50000:      #DA\n",
    "    da=0.3*bpay\n",
    "elif (bpay<60000 and bpay>=50000):\n",
    "    da=0.4*bpay\n",
    "else:\n",
    "    da=0.5*bpay\n",
    "    \n",
    "pf=0.8*(bpay+da)     #PF\n",
    "gpay=bpay+hra+da-pf  #gpay\n",
    "print(gpay)"
   ]
  },
  {
   "cell_type": "code",
   "execution_count": null,
   "metadata": {},
   "outputs": [],
   "source": [
    "#Enter the shape which may be 'C' for Circle,'R' for rectangle,'T' for triangle.Calculate the area after taking values.\n",
    "shape=eval(input(\"Enter Character:\"))\n",
    "if (shape=='C' or shape=='c'):\n",
    "    rad=eval(input(\"Enter Radius:\"))\n",
    "    area=3.14*rad*rad\n",
    "    print(area)\n",
    "elif (shape=='R' or shape=='r'):\n",
    "    len=eval(input(\"Enter Length:\"))\n",
    "    bre=eval(input(\"Enter Breadth:\"))\n",
    "    area=len*bre\n",
    "    print(area)\n",
    "elif (shape=='T' or shape=='t'):\n",
    "    base=eval(input(\"Enter Base:\"))\n",
    "    height=eval(input(\"Enter Height:\"))\n",
    "    area=0.5*base*height\n",
    "    print(area)"
   ]
  },
  {
   "cell_type": "code",
   "execution_count": null,
   "metadata": {},
   "outputs": [],
   "source": [
    "#Enter the income and calculate the income tax as per rules.\n",
    "income=eval(input(\"Enter income:\"))\n",
    "if income<500000:\n",
    "    print(\"No Tax\")\n",
    "elif income<1000000:\n",
    "    tax=0.1*(income-500000)\n",
    "    print(tax)\n",
    "elif income<2000000:\n",
    "    incomee=income-1500000\n",
    "    tax=0.2*incomee+0.1*(income-incomee)\n",
    "    print(tax)\n",
    "elif income<3000000:\n",
    "    sincome=income-1500000\n",
    "    gincome=(income-sincome-500000)\n",
    "    tax=0.2*sincome+0.1*gincome\n",
    "    print(tax)\n",
    "else:\n",
    "    sincome=(income-3500000)\n",
    "    gincome=(income-sincome-1500000)\n",
    "    tax=0.3*sincome+0.2*gincome+0.1*"
   ]
  },
  {
   "cell_type": "code",
   "execution_count": null,
   "metadata": {},
   "outputs": [],
   "source": [
    "#Enter marks in java,python and C which are out of 100 each.Calculate the percentage of students and award grades.\n",
    "python=eval(input(\"Enter marks in Python out of 100:\"))\n",
    "java=eval(input(\"Enter marks in Java out of 100:\"))\n",
    "C=eval(input(\"Enter marks in C out of 100:\"))\n",
    "per=((python+java+C)*100)/300\n",
    "if per>80:\n",
    "    print(\"you got A\")\n",
    "elif (per>60 and per<=80):\n",
    "    print(\"you got B\")\n",
    "elif (per>40 and per<=60):\n",
    "    print(\"you got C\")\n",
    "else:\n",
    "    print(\"Fail\")"
   ]
  },
  {
   "cell_type": "code",
   "execution_count": null,
   "metadata": {},
   "outputs": [],
   "source": [
    "one=eval(input(\"Enter first no.\"))\n",
    "two=eval(input(\"Enter second no.\"))\n",
    "three=eval(input(\"Enter third no.\"))\n",
    "four=eval(input(\"Enter fourth no.\"))\n",
    "five=eval(input(\"Enter fifth no.\"))\n"
   ]
  },
  {
   "cell_type": "code",
   "execution_count": null,
   "metadata": {},
   "outputs": [],
   "source": [
    "x=10\n",
    "print(x)\n",
    "del x\n",
    "print(x)"
   ]
  },
  {
   "cell_type": "code",
   "execution_count": null,
   "metadata": {},
   "outputs": [],
   "source": [
    "s=\"sakshi\"\n",
    "del s[0]"
   ]
  },
  {
   "cell_type": "code",
   "execution_count": null,
   "metadata": {},
   "outputs": [],
   "source": [
    "s1=\"hello\"\n",
    "s2=\"hello\"\n",
    "s3=\"hello\"\n",
    "print(id(s1),id(s2),id(s3))"
   ]
  },
  {
   "cell_type": "code",
   "execution_count": null,
   "metadata": {},
   "outputs": [],
   "source": [
    "#print all odd no's between 0 to 100\n",
    "for i in range(100):\n",
    "    if(i%2!=0):\n",
    "        print(i,end=' ')"
   ]
  },
  {
   "cell_type": "code",
   "execution_count": 192,
   "metadata": {},
   "outputs": [
    {
     "name": "stdout",
     "output_type": "stream",
     "text": [
      "4\n",
      "4 is not prime\n"
     ]
    }
   ],
   "source": [
    "#print all prime no's between 0 and 100\n",
    "num=eval(input())\n",
    "flag=1\n",
    "for i in range(2,num):\n",
    "    if num%i==0:\n",
    "        flag=0\n",
    "        i+=1\n",
    "    else:\n",
    "        flag=1\n",
    "if(flag==0):\n",
    "    print(num,\"is prime\")\n",
    "else:\n",
    "    print(num,\"is not prime\")\n",
    "    "
   ]
  },
  {
   "cell_type": "code",
   "execution_count": 193,
   "metadata": {},
   "outputs": [
    {
     "name": "stdout",
     "output_type": "stream",
     "text": [
      "Enter start:2\n",
      "Enter end:13\n",
      "2 3 5 7 11 13 "
     ]
    }
   ],
   "source": [
    "#WAP to find prime numbers within a given range\n",
    "beg=eval(input(\"Enter start:\"))\n",
    "end=eval(input(\"Enter end:\"))\n",
    "for num in range(beg,end+1):\n",
    "    count=0\n",
    "    for i in range(2,(num//2+1)):\n",
    "        if(num%i==0):\n",
    "            count+=1\n",
    "    if(count==0):\n",
    "        print(num,end=' ')"
   ]
  },
  {
   "cell_type": "code",
   "execution_count": null,
   "metadata": {},
   "outputs": [],
   "source": [
    "#WAP to find those numbers which are divisible by 7 and multiple of 5\n",
    "for num in range(1500,2700+1):\n",
    "    if(num%7==0 and num%5==0):\n",
    "        print(num,end=' ')"
   ]
  },
  {
   "cell_type": "code",
   "execution_count": null,
   "metadata": {},
   "outputs": [],
   "source": [
    "a=eval(input())\n",
    "b=eval(input())\n",
    "print(\"A\") if a>b else print(\"A==B\") if a==b else print(\"B\")"
   ]
  },
  {
   "cell_type": "code",
   "execution_count": null,
   "metadata": {},
   "outputs": [],
   "source": [
    "#Print greatest of three numbers using if else in single line\n",
    "a=eval(input())\n",
    "b=eval(input())\n",
    "c=eval(input())\n",
    "print(\"A\") if a>c else print(\"C\") if a>b else print(\"B\") if b>c else print(\"C\")"
   ]
  },
  {
   "cell_type": "code",
   "execution_count": null,
   "metadata": {},
   "outputs": [],
   "source": [
    "#Fibonacci Series\n",
    "a=0\n",
    "b=1\n",
    "print(a,end=' ')\n",
    "print(b,end=' ')\n",
    "for num in range(2,51):\n",
    "    c=a+b\n",
    "    print(c,end=' ')\n",
    "    a=b\n",
    "    b=c"
   ]
  },
  {
   "cell_type": "code",
   "execution_count": null,
   "metadata": {},
   "outputs": [],
   "source": [
    "#WAP to print all the numbers from 0 to 6 except 3 and 6\n",
    "for i in range(0,7):\n",
    "    if i==3 or i==6:\n",
    "        continue\n",
    "    print(i)"
   ]
  },
  {
   "cell_type": "code",
   "execution_count": null,
   "metadata": {},
   "outputs": [],
   "source": [
    "#WAP which iterates the integers from 1 to 50.For multiples of 3 print \"Fizz\" instead of the number and for the multiples of 5 \n",
    "#print \"Buzz\".For numbers which are multiples of both 3 and 5 print \"FizzBuzz\"\n",
    "for i in range(1,51):\n",
    "    i=int(input())\n",
    "    if i%3==0 and i%5!=0:\n",
    "        print(\"Fizz\")\n",
    "    elif i%5==0 and i%3!=0:\n",
    "        print(\"Buzz\")\n",
    "    elif i%3==0 and i%5==0:\n",
    "        print(\"FizzBuzz\")"
   ]
  },
  {
   "cell_type": "code",
   "execution_count": null,
   "metadata": {},
   "outputs": [],
   "source": [
    "#WAP to calculate a dog's age in dog's years.\n",
    "#for first two years,a dog year is equal to 10.5 human years.\n",
    "#After that,each dog year equals 4 human years\n",
    "\n",
    "hage=eval(input(\"Enter dog's age in human years:\"))\n",
    "dogage=((hage-2)*4)+((hage-(hage-2))*10.5)\n",
    "print(int(dogage))"
   ]
  },
  {
   "cell_type": "code",
   "execution_count": null,
   "metadata": {},
   "outputs": [],
   "source": [
    "#WAP to convert month name into number of days\n",
    "month=eval(input(\"Enter month name:\"))\n",
    "if month==\"February\" or month==\"february\":\n",
    "    year=eval(input(\"Enter year:\"))\n",
    "    if year%4==0:\n",
    "        print(\"29 days\")\n",
    "    elif year%400==0:\n",
    "        print(\"print 29 days\")\n",
    "    elif year%100==0:\n",
    "        print(\"28 days\")\n",
    "    else:\n",
    "        print(\"28 days\")\n",
    "elif month in (\"April\",\"June\",\"September\",\"November\") or month in (\"april\",\"june\",\"september\",\"november\"):\n",
    "    print(\"30 days\")\n",
    "elif month in (\"January\",\"March\",\"May\",\"July\",\"August\",\"October\",\"December\") or month in (\"january\",\"march\",\"may\",\"july\",\"august\",\"october\",\"december\"):\n",
    "    print(\"31 days\")\n",
    "else:\n",
    "    print(\"Enter valid month\")"
   ]
  },
  {
   "cell_type": "code",
   "execution_count": null,
   "metadata": {},
   "outputs": [],
   "source": [
    "#WAP to sum of two given integers.If the sum is between 15 to 20 it will return 20.\n",
    "num1=int(input(\"Enter first number:\"))\n",
    "num2=int(input(\"Enter second number:\"))\n",
    "sum=num1+num2\n",
    "if sum in range(15,21):\n",
    "    print(\"sum is:\",20)\n",
    "else:\n",
    "    print(\"sum is:\",sum)"
   ]
  },
  {
   "cell_type": "code",
   "execution_count": null,
   "metadata": {},
   "outputs": [],
   "source": [
    "#WAP to print the next day of the given date\n",
    "year=eval(input(\"Enter year:\"))\n",
    "mon=eval(input(\"Enter month:\"))\n",
    "dat=eval(input(\"Enter date:\"))\n",
    "if year%4==0:                     #Year\n",
    "    leap_year=True\n",
    "elif year%400==0:\n",
    "    leap_year=True\n",
    "elif year%100==0:\n",
    "    leap_year=False\n",
    "else:\n",
    "    leap_year=False\n",
    "if mon in (1,3,5,7,8,10,12):       #Month\n",
    "    month_length=31\n",
    "elif mon==2:          \n",
    "    if leap_year:\n",
    "        month_length=29\n",
    "    else:\n",
    "        month_length=28\n",
    "else:\n",
    "    month_length=30\n",
    "if dat<month_length:                 #date\n",
    "    dat=dat+1\n",
    "else:\n",
    "    dat=1\n",
    "    if mon==12:\n",
    "        mon=1\n",
    "        year=year+1\n",
    "    else:\n",
    "        mon=mon+1\n",
    "print(\"The next date:\",year,mon,dat)"
   ]
  },
  {
   "cell_type": "code",
   "execution_count": null,
   "metadata": {},
   "outputs": [],
   "source": [
    "a=int(input(\"a:\"))\n",
    "b=int(input(\"b:\"))\n",
    "if a>b:\n",
    "    print(\"a is greater\",str(a))\n",
    "else:\n",
    "    print(\"b is greater\",str(b))"
   ]
  },
  {
   "cell_type": "code",
   "execution_count": null,
   "metadata": {},
   "outputs": [],
   "source": [
    "for i in range(500,400,-5):   #reverse order\n",
    "    print(i,end=' ')"
   ]
  },
  {
   "cell_type": "code",
   "execution_count": null,
   "metadata": {},
   "outputs": [],
   "source": [
    "s='durga'\n",
    "s*10    #  * is repetitive operator"
   ]
  },
  {
   "cell_type": "code",
   "execution_count": null,
   "metadata": {},
   "outputs": [],
   "source": [
    "complex(10,\"10\")"
   ]
  },
  {
   "cell_type": "code",
   "execution_count": null,
   "metadata": {},
   "outputs": [],
   "source": [
    "v1=\"Hyd\"\n",
    "v2=\"Hyd\"\n",
    "v3=\"Hyd\"\n",
    "print(id(v1))\n",
    "print(id(v2))\n",
    "print(id(v3))\n",
    "v3='warangle'\n",
    "print(v3)\n",
    "print(v2)"
   ]
  },
  {
   "cell_type": "code",
   "execution_count": null,
   "metadata": {},
   "outputs": [],
   "source": [
    "width=17\n",
    "height=12.0\n",
    "delimiter='.'\n",
    "\n",
    "print(width/2)\n",
    "print(width/2.0)\n",
    "print(height/3)\n",
    "print(1+2*5)\n",
    "print(delimiter*5)"
   ]
  },
  {
   "cell_type": "code",
   "execution_count": null,
   "metadata": {},
   "outputs": [],
   "source": [
    "rad=5\n",
    "print((4*3.14*5*5*5)/3)   #Volume of sphere"
   ]
  },
  {
   "cell_type": "code",
   "execution_count": null,
   "metadata": {},
   "outputs": [],
   "source": [
    "#WAP to count the number of even and odd numbers from a series of numbers\n",
    "numbers=(1,2,3,4,5,6,7,8,9)\n",
    "count_odd=0\n",
    "count_even=0\n",
    "for x in numbers:\n",
    "    if x%2==0:\n",
    "        count_even+=1\n",
    "    else:\n",
    "        count_odd+=1\n",
    "print(\"Number of odd numbers:\",count_odd)\n",
    "print(\"Number of even numbers:\",count_even)"
   ]
  },
  {
   "cell_type": "code",
   "execution_count": null,
   "metadata": {},
   "outputs": [],
   "source": [
    "#WAP to find factorial of a number\n",
    "number=int(input(\"Enter a number:\"))\n",
    "fact=1\n",
    "for i in range(1,number+1):\n",
    "    fact=fact*i\n",
    "print(fact)"
   ]
  },
  {
   "cell_type": "code",
   "execution_count": null,
   "metadata": {},
   "outputs": [],
   "source": [
    "a=33\n",
    "b=200\n",
    "if b>a:\n",
    "    pass  \n",
    "#if statement cant be empty,but if you for some reason have an if statement with no content,\n",
    "#put in the pass statement to avoid getting an error"
   ]
  },
  {
   "cell_type": "code",
   "execution_count": null,
   "metadata": {},
   "outputs": [],
   "source": [
    "#WAP to check whether a number is perfect number or not\n",
    "num=int(input(\"Enter a number:\"))\n",
    "sum=0\n",
    "for i in range(1,num):\n",
    "    if num%i==0:\n",
    "        sum+=i\n",
    "#print(num)\n",
    "#print(sum)\n",
    "if num==sum:\n",
    "    print(num,'is a perfect number')\n",
    "else:\n",
    "    print(num,'is not a perfect number')"
   ]
  },
  {
   "cell_type": "code",
   "execution_count": null,
   "metadata": {},
   "outputs": [],
   "source": [
    "#WAP to check whether a number is armstrong or not.\n",
    "num=int(input(\"Enter a number:\"))\n",
    "q=num\n",
    "count=0\n",
    "summ=0\n",
    "mult=1\n",
    "while num!=0:\n",
    "    count+=1\n",
    "    num=num//10\n",
    "#print(count,\"count\")\n",
    "#print(q,\"q\")\n",
    "r=q\n",
    "while q!=0:\n",
    "    rem=q%10\n",
    "    summ=summ+rem**count   # ** is power operator\n",
    "    q=q//10\n",
    "if r==summ:\n",
    "    print(r,'is armstrong')\n",
    "else:\n",
    "    print(r,'is not armstrong')"
   ]
  },
  {
   "cell_type": "code",
   "execution_count": null,
   "metadata": {},
   "outputs": [],
   "source": [
    "#WAP to find the sum of first n natural numbers.\n",
    "n=int(input(\"Enter a number:\"))\n",
    "sum1=0\n",
    "for i in range(1,n+1):\n",
    "    sum1=sum1+i**2\n",
    "print(sum1,\" is the sum of squares of first\",n,\"natural numbers\")"
   ]
  },
  {
   "cell_type": "code",
   "execution_count": null,
   "metadata": {},
   "outputs": [],
   "source": [
    "#WAP to find the ascii value of the character entered.\n",
    "symb=eval(input(\"Enter a character:\"))\n",
    "print(ord(symb))  \n",
    "# ord() function converts the given string of length 'one' into an integer representing the unicode code point of character"
   ]
  },
  {
   "cell_type": "code",
   "execution_count": null,
   "metadata": {},
   "outputs": [],
   "source": [
    "#Simple Method to use Ternary Operator in Python\n",
    "a,b=10,20\n",
    "min=a if a<b else b\n",
    "print(min)"
   ]
  },
  {
   "cell_type": "code",
   "execution_count": null,
   "metadata": {},
   "outputs": [],
   "source": [
    "#WAP to find the reverse of a number\n",
    "num=int(input(\"Enter a number\"))\n",
    "rev=0\n",
    "while num!=0:\n",
    "    rem=num%10\n",
    "    rev=rev*10+rem\n",
    "    num=num//10\n",
    "print(rev,\"is the reverse of the number\")"
   ]
  },
  {
   "cell_type": "code",
   "execution_count": null,
   "metadata": {},
   "outputs": [],
   "source": [
    "#WAP to find the sum of first and last digit of the number entered\n",
    "num=int(input(\"Enter a number:\"))\n",
    "q=num\n",
    "last_digit=q%10\n",
    "while num>9:   # or num<10\n",
    "    num=num//10\n",
    "first_digit=num\n",
    "print(first_digit+last_digit,'is the sum of first and last digit')"
   ]
  },
  {
   "cell_type": "code",
   "execution_count": null,
   "metadata": {},
   "outputs": [],
   "source": [
    "print(223//100)"
   ]
  },
  {
   "cell_type": "code",
   "execution_count": null,
   "metadata": {},
   "outputs": [],
   "source": [
    "#WAP to print even no's upto user's choice range\n",
    "n=int(input(\"Enter number:\"))\n",
    "for i in range(1,n+1):\n",
    "    if i%2==0:\n",
    "        print(i,end=' ')"
   ]
  },
  {
   "cell_type": "code",
   "execution_count": null,
   "metadata": {},
   "outputs": [],
   "source": [
    "#WAP to print 1,4,9,16,25,......\n",
    "n=int(input(\"Enter number:\"))\n",
    "for i in range(1,n+1):\n",
    "    print(i**2,end=',')"
   ]
  },
  {
   "cell_type": "code",
   "execution_count": null,
   "metadata": {},
   "outputs": [],
   "source": [
    "#WAP to print 1,10,100,1000,10000,.....\n",
    "n=int(input(\"Enter number:\"))\n",
    "mul=1\n",
    "print(mul,end=',')\n",
    "for i in range(1,n):\n",
    "    mul=mul*10\n",
    "    print(mul,end=',')"
   ]
  },
  {
   "cell_type": "code",
   "execution_count": null,
   "metadata": {},
   "outputs": [],
   "source": [
    "#WAP to enter a number and find sum of even digits and product of odd digits\n",
    "num=int(input(\"Enter a number:\"))\n",
    "sum2,mul2=0,1\n",
    "while num!=0:\n",
    "    rem=num%10\n",
    "    if(rem%2==0):\n",
    "        sum2=sum2+rem\n",
    "    else:\n",
    "        mul2=mul2*rem\n",
    "    num=num//10\n",
    "print(sum2,\"is the sum\")\n",
    "print(mul2,\"is the product\")"
   ]
  },
  {
   "cell_type": "code",
   "execution_count": null,
   "metadata": {},
   "outputs": [],
   "source": [
    "#Retreiving Sub-String\n",
    "data='From stephen.marquard@uct.ac.za Sat Jan 509:14:16 2008'\n",
    "atpos=data.find('@')\n",
    "datpos=data.find('.')\n",
    "satpos=data.find(' ')\n",
    "#print(atpos)\n",
    "\n",
    "sppos=data.find(' ',atpos)  #find space from atpos index\n",
    "weekpos=data.find(' ',sppos+1)\n",
    "monpos=data.find(' ',weekpos+1)\n",
    "datepos=data.find(' ',monpos+1)\n",
    "yearpos=data.find(\"'\",datepos+1)\n",
    "#print(datepos)\n",
    "#print(sppos)\n",
    "\n",
    "host=data[atpos+1:sppos]\n",
    "host1=data[datpos+1:sppos]\n",
    "host2=data[satpos+1:sppos]\n",
    "host3=data[sppos+1:weekpos]\n",
    "host4=data[weekpos+1:monpos]\n",
    "host5=data[monpos+1:datepos]\n",
    "host6=data[datepos+1:]\n",
    "\n",
    "print(host)\n",
    "print(host1)\n",
    "print(host2)\n",
    "print(host3)\n",
    "print(host4)\n",
    "print(host5)\n",
    "print(host6)"
   ]
  },
  {
   "cell_type": "code",
   "execution_count": null,
   "metadata": {},
   "outputs": [],
   "source": [
    "#join() function in String\n",
    "balloon=\"Sammy has a balloon\"\n",
    "print(\" \".join(balloon))\n",
    "print(\"*\".join(balloon))\n",
    "print(\"\".join(reversed(balloon)))\n",
    "print(\" \".join(reversed(balloon)))\n",
    "\n",
    "#split() function in String\n",
    "print(balloon.split())                   #it returns a list\n",
    "print(balloon.split('a'))\n",
    "print(balloon.split('l'))\n",
    "print(balloon.replace(\"has\",\"had\"))\n",
    "print(balloon)                          #original string is not changed"
   ]
  },
  {
   "cell_type": "code",
   "execution_count": null,
   "metadata": {},
   "outputs": [],
   "source": [
    "#WAP to reverse a string.\n",
    "data=eval(input(\"Enter a String:\"))\n",
    "print(data[::-1])                   #Using slice operator\n",
    "\n",
    "index=len(data)-1                   #Using while loop\n",
    "while index>=0:\n",
    "    letter=data[index]\n",
    "    print(letter,end='')\n",
    "    index-=1\n",
    "\n",
    "print('\\n')\n",
    "for letter in range(0,len(data)):\n",
    "    print(data[letter],end='')\n",
    "    \n",
    "print('\\n')\n",
    "\n",
    "str=\" \"                             #Using for loop\n",
    "for i in data:\n",
    "    str=i+str\n",
    "print(str)"
   ]
  },
  {
   "cell_type": "code",
   "execution_count": null,
   "metadata": {},
   "outputs": [],
   "source": [
    "#WAP to count the total no of vowels in a string\n",
    "str1=eval(input(\"Enter a String:\"))\n",
    "vowel=0\n",
    "for i in str1:\n",
    "    if (i=='a' or i=='e' or i=='i' or i=='o' or i=='u'):\n",
    "        vowel+=1\n",
    "print(\"Total no. of vowels are:\",vowel)"
   ]
  },
  {
   "cell_type": "code",
   "execution_count": null,
   "metadata": {},
   "outputs": [],
   "source": [
    "#WAP to count the total no of vowels,consonants and spaces in a string\n",
    "str1=eval(input(\"Enter a String:\"))\n",
    "vowel=0\n",
    "consonant=0\n",
    "spaces=0\n",
    "digits=0\n",
    "for i in str1:\n",
    "    if (i=='a' or i=='e' or i=='i' or i=='o' or i=='u'):\n",
    "        vowel+=1\n",
    "    elif(i.isspace()):\n",
    "        spaces+=1\n",
    "    elif(i.isdigit()):\n",
    "        digits+=1\n",
    "    else:\n",
    "        consonant+=1\n",
    "print(\"Total no. of vowels are:\",vowel)\n",
    "print(\"Total no. of spaces are:\",spaces)\n",
    "print(\"Total no. of digits are:\",digits)\n",
    "print(\"Total no. of consonants are:\",consonant)"
   ]
  },
  {
   "cell_type": "code",
   "execution_count": null,
   "metadata": {},
   "outputs": [],
   "source": [
    "#In Python,Updation or deletion of characters from a string is not allowed\n",
    "\n",
    "#Updation\n",
    "str2='Original String'\n",
    "print(str2)\n",
    "str2[3]='f'\n",
    "print(str2)\n",
    "\n",
    "#Deletion\n",
    "del str2    #Deletion of entire string is possible with the use of del keyword.\n",
    "print(str2)"
   ]
  },
  {
   "cell_type": "code",
   "execution_count": null,
   "metadata": {},
   "outputs": [],
   "source": [
    "#WAP to check if a substring is present in a string or not.\n",
    "str1=eval(input(\"Enter a String:\"))\n",
    "str2=eval(input(\"Enter a sub-string:\"))\n",
    "if str2 in str1:                                #in is a membership operator\n",
    "    print(\"Substring is present in the String\")\n",
    "else:\n",
    "        print(\"Substring is not present in the String\")"
   ]
  },
  {
   "cell_type": "code",
   "execution_count": null,
   "metadata": {},
   "outputs": [],
   "source": [
    "# title() method in Strings is used to convert each first character of the word to Uppercase\n",
    "str1='phoebe and mike'\n",
    "str2=str1.title()\n",
    "print(str2)"
   ]
  },
  {
   "cell_type": "code",
   "execution_count": null,
   "metadata": {},
   "outputs": [],
   "source": [
    "#Replace all occurences of 'a' with 's'\n",
    "inp=input(\"Enter a string:\")\n",
    "print(inp.replace('a','s'))"
   ]
  },
  {
   "cell_type": "code",
   "execution_count": null,
   "metadata": {},
   "outputs": [],
   "source": [
    "take=input(\"Enter a string:\")\n",
    "lst1=list(take)       #Type Caste\n",
    "lst2=take.split()\n",
    "print(lst1)\n",
    "print(lst2)"
   ]
  },
  {
   "cell_type": "code",
   "execution_count": 4,
   "metadata": {},
   "outputs": [
    {
     "name": "stdout",
     "output_type": "stream",
     "text": [
      "Enter a string:school\n",
      "['s', 'c', 'h', 'o', '?', 'l']\n",
      "scho?l\n"
     ]
    }
   ],
   "source": [
    "#WAP to replace immediate occurence of some letter with '?'.\n",
    "inpp=input(\"Enter a string:\")\n",
    "lst=list(inpp)                #String is converted to List because Strings are immutable\n",
    "for i in range(len(lst)-1):\n",
    "    if lst[i]==lst[i+1]:\n",
    "        lst[i+1]='?'\n",
    "print(lst)\n",
    "print(\"\".join(lst))          #join() function is used to convert List to String"
   ]
  },
  {
   "cell_type": "code",
   "execution_count": null,
   "metadata": {},
   "outputs": [],
   "source": [
    "#WAP to fetch string after the colon.\n",
    "str='X-DSPAM-Confidence:0.8475'\n",
    "atpos=str.find(':')\n",
    "host=str[atpos+1:]\n",
    "print(host)"
   ]
  },
  {
   "cell_type": "code",
   "execution_count": 1,
   "metadata": {},
   "outputs": [
    {
     "name": "stdout",
     "output_type": "stream",
     "text": [
      "Enter a String:hello world\n",
      "dello worlh\n"
     ]
    }
   ],
   "source": [
    "#Input a string and swap the first and last character of the string.\n",
    "inp=input(\"Enter a String:\")\n",
    "lisp=list(inp)\n",
    "#print(lisp)\n",
    "for i in range(len(lisp)):\n",
    "    temp=lisp[0]\n",
    "    lisp[0]=lisp[-1]\n",
    "    lisp[-1]=temp\n",
    "print(\"\".join(lisp))"
   ]
  },
  {
   "cell_type": "code",
   "execution_count": 11,
   "metadata": {},
   "outputs": [
    {
     "name": "stdout",
     "output_type": "stream",
     "text": [
      "Enter a String:hello\n",
      "Enter index:5\n",
      "hello\n"
     ]
    }
   ],
   "source": [
    "#Ask user to enter a String and a index,then remove the character present at that index and print the String.\n",
    "inp=input(\"Enter a String:\")\n",
    "indexx=int(input(\"Enter index:\"))\n",
    "#new_str=inp.replace('h','')\n",
    "new_str=inp[:indexx]+inp[indexx+1:]\n",
    "print(new_str)"
   ]
  },
  {
   "cell_type": "code",
   "execution_count": 14,
   "metadata": {},
   "outputs": [
    {
     "name": "stdout",
     "output_type": "stream",
     "text": [
      "Enter q to quit or any other key to continue:y\n",
      "Enter Deposit12000\n",
      "Enter withdraw4000\n",
      "8000\n",
      "Enter q to quit or any other key to continue:q\n"
     ]
    }
   ],
   "source": [
    "#Input a Transaction Log and calculate the Net Amount.\n",
    "while input(\"Enter q to quit or any other key to continue:\")!='q':\n",
    "    dep=eval(input(\"Enter Deposit:\"))\n",
    "    witd=eval(input(\"Enter withdraw:\"))\n",
    "    amnt=dep-witd\n",
    "    print(amnt)"
   ]
  },
  {
   "cell_type": "code",
   "execution_count": null,
   "metadata": {},
   "outputs": [],
   "source": [
    "#Pattern 1\n",
    "n=int(input(\"Enter value of n:\"))\n",
    "for i in range(1,n+1):\n",
    "    for j in range(1,n+1):\n",
    "        print('*',end='')\n",
    "    print('\\n')"
   ]
  },
  {
   "cell_type": "code",
   "execution_count": null,
   "metadata": {},
   "outputs": [],
   "source": [
    "#Pattern 2\n",
    "n=int(input(\"Enter value of n:\"))\n",
    "for i in range(1,n+1):\n",
    "    for j in range(1,i+1):  #j<=i\n",
    "        print('*',end='')\n",
    "    print('\\n')"
   ]
  },
  {
   "cell_type": "code",
   "execution_count": null,
   "metadata": {},
   "outputs": [],
   "source": [
    "#Pattern 3\n",
    "n=int(input(\"Enter value of n:\"))\n",
    "for i in range(1,n+1):\n",
    "    for j in range(1,(n+1-i)+1):   #j<=(n-i)\n",
    "        print('*',end='')\n",
    "    print('\\n')"
   ]
  },
  {
   "cell_type": "code",
   "execution_count": null,
   "metadata": {},
   "outputs": [],
   "source": [
    "#Pattern 4\n",
    "n=int(input(\"Enter value of n:\"))\n",
    "for i in range(1,n+1):\n",
    "    for j in range(1,(n+1-i)+1,-1):\n",
    "        print('*',end='')\n",
    "    print('\\n')   \n",
    "    \n",
    "    #doubt"
   ]
  },
  {
   "cell_type": "code",
   "execution_count": null,
   "metadata": {},
   "outputs": [],
   "source": [
    "#Pattern 5\n",
    "for i in range(1,6):\n",
    "    for j in range(1,10):\n",
    "        if(j>=6-i and j<=4+i):\n",
    "            print('*',end='')\n",
    "    print('\\n')"
   ]
  },
  {
   "cell_type": "code",
   "execution_count": 1,
   "metadata": {},
   "outputs": [
    {
     "name": "stdout",
     "output_type": "stream",
     "text": [
      "A\n",
      "AB\n",
      "ABC\n",
      "ABCD\n",
      "ABCDE\n"
     ]
    }
   ],
   "source": [
    "#Pattern 6\n",
    "for i in range(1,6):\n",
    "    chr1=65\n",
    "    for j in range(1,i+1):\n",
    "        print(chr(chr1),end='')\n",
    "        chr1+=1\n",
    "    print()"
   ]
  },
  {
   "cell_type": "code",
   "execution_count": 21,
   "metadata": {},
   "outputs": [
    {
     "name": "stdout",
     "output_type": "stream",
     "text": [
      "Enter the String:sakshi\n",
      "s\n",
      "sa\n",
      "sak\n",
      "saks\n",
      "saksh\n",
      "sakshi\n"
     ]
    }
   ],
   "source": [
    "#Pattern 7\n",
    "string=input(\"Enter the String:\")\n",
    "length=len(string)\n",
    "for i in range(0,length):\n",
    "    for j in range(0,i+1):\n",
    "        print(string[j],end='')\n",
    "    print()"
   ]
  },
  {
   "cell_type": "markdown",
   "metadata": {},
   "source": []
  },
  {
   "cell_type": "code",
   "execution_count": 12,
   "metadata": {},
   "outputs": [
    {
     "name": "stdout",
     "output_type": "stream",
     "text": [
      "Enter the size of list:5\n",
      "Enter element:1\n",
      "1\n",
      "Enter element:2\n",
      "2\n",
      "Enter element:3\n",
      "3\n",
      "Enter element:4\n",
      "4\n",
      "Enter element:5\n",
      "5\n",
      "[1, 2, 3, 4, 5]\n",
      "15\n"
     ]
    }
   ],
   "source": [
    "#WAP to add elements in the list\n",
    "size=eval(input(\"Enter the size of list:\"))\n",
    "L=[]\n",
    "s=0\n",
    "for i in range(0,size):\n",
    "    a=int(input(\"Enter element:\"))\n",
    "    L.append(a)\n",
    "    s=s+L[i]\n",
    "print(L)\n",
    "print(s)                 #Total sum of the elements"
   ]
  },
  {
   "cell_type": "code",
   "execution_count": 21,
   "metadata": {},
   "outputs": [
    {
     "name": "stdout",
     "output_type": "stream",
     "text": [
      "[2, 4, 6, 1, 3, 5]\n",
      "[2, 4, 6, 1, 3, 5, 9, ['a', 30]]\n",
      "[2, 4, 6, 1, 3, 5, 9, ['a', 30], 1, 3, 5]\n",
      "a\n",
      "30\n"
     ]
    }
   ],
   "source": [
    "#extend() appends one list to another\n",
    "L1=[2,4,6]\n",
    "L2=[1,3,5]\n",
    "L1.extend(L2)\n",
    "print(L1)\n",
    "L1.append(9)\n",
    "L1.append(['a',30])\n",
    "#L1.append('a',30)\n",
    "print(L1)\n",
    "L3=L1+L2      #Using concatenation opertor\n",
    "print(L3)\n",
    "print(L1[7][0])\n",
    "print(L1[7][1])"
   ]
  },
  {
   "cell_type": "code",
   "execution_count": 23,
   "metadata": {},
   "outputs": [
    {
     "name": "stdout",
     "output_type": "stream",
     "text": [
      "List before sorting: [5, 9, 2, 3, 16, 10, 7, 21, 6, 4]\n",
      "List after sorting: [2, 3, 4, 5, 6, 7, 9, 10, 16, 21]\n"
     ]
    }
   ],
   "source": [
    "#Merge Sort\n",
    "L1=[5,9,2,3,16]\n",
    "L2=[10,7,21,6,4]\n",
    "L1.extend(L2)\n",
    "print(\"List before sorting:\",L1)\n",
    "for i in range(len(L1)):\n",
    "    for j in range(len(L1)-1):\n",
    "        if(L1[j]>L1[j+1]):\n",
    "            L1[j],L1[j+1]=L1[j+1],L1[j]\n",
    "print(\"List after sorting:\",L1)"
   ]
  },
  {
   "cell_type": "code",
   "execution_count": 24,
   "metadata": {},
   "outputs": [
    {
     "name": "stdout",
     "output_type": "stream",
     "text": [
      "Enter a number:6\n",
      "1\n"
     ]
    }
   ],
   "source": [
    "#Ask user to enter a number and check the occurences of the number in the list.\n",
    "num=int(input(\"Enter a number:\"))\n",
    "L=[1,6,9,0,3,2,5]\n",
    "count=0\n",
    "for i in L:\n",
    "    if i==num:\n",
    "        count+=1\n",
    "print(count)"
   ]
  },
  {
   "cell_type": "code",
   "execution_count": 28,
   "metadata": {},
   "outputs": [
    {
     "name": "stdout",
     "output_type": "stream",
     "text": [
      "[6, 3, 12, 4]\n",
      "1\n"
     ]
    }
   ],
   "source": [
    "L4=[6,3,1,12,4,9]\n",
    "L4.pop()      #pop() function by default pops the last element\n",
    "L4.pop(2)     #pop the number at index 2\n",
    "print(L4)\n",
    "print(L4.index(3))"
   ]
  },
  {
   "cell_type": "code",
   "execution_count": 30,
   "metadata": {},
   "outputs": [
    {
     "name": "stdout",
     "output_type": "stream",
     "text": [
      "set: {0, 1, 3, 5, 6, 7, 9}\n"
     ]
    }
   ],
   "source": [
    "#To convert List to Set\n",
    "L=[6,3,5,6,7,3,1,0,9,3]\n",
    "myset=set(L)\n",
    "print(\"set:\",myset)"
   ]
  },
  {
   "cell_type": "code",
   "execution_count": 37,
   "metadata": {},
   "outputs": [
    {
     "name": "stdout",
     "output_type": "stream",
     "text": [
      "True\n"
     ]
    }
   ],
   "source": [
    "#Check if the list contains equal number of even and odd numbers.If equal,print True otherwise False.\n",
    "L=[]\n",
    "even=0\n",
    "odd=0\n",
    "for i in L:\n",
    "    if i%2==0:\n",
    "        even+=1\n",
    "    else:\n",
    "        odd+=1\n",
    "if even==odd:\n",
    "    print(True)\n",
    "elif len(L)==0:\n",
    "    print(\"Empty List\",True)\n",
    "else:\n",
    "    print(False)"
   ]
  },
  {
   "cell_type": "code",
   "execution_count": 51,
   "metadata": {},
   "outputs": [
    {
     "name": "stdout",
     "output_type": "stream",
     "text": [
      "7\n",
      "-1\n",
      "-5\n",
      "-4\n",
      "3\n"
     ]
    },
    {
     "ename": "IndexError",
     "evalue": "list index out of range",
     "output_type": "error",
     "traceback": [
      "\u001b[1;31m---------------------------------------------------------------------------\u001b[0m",
      "\u001b[1;31mIndexError\u001b[0m                                Traceback (most recent call last)",
      "\u001b[1;32m<ipython-input-51-b45aa9a0377e>\u001b[0m in \u001b[0;36m<module>\u001b[1;34m()\u001b[0m\n\u001b[0;32m      1\u001b[0m \u001b[0mL\u001b[0m\u001b[1;33m=\u001b[0m\u001b[1;33m[\u001b[0m\u001b[1;36m7\u001b[0m\u001b[1;33m,\u001b[0m\u001b[1;33m-\u001b[0m\u001b[1;36m1\u001b[0m\u001b[1;33m,\u001b[0m\u001b[1;36m9\u001b[0m\u001b[1;33m,\u001b[0m\u001b[1;33m-\u001b[0m\u001b[1;36m5\u001b[0m\u001b[1;33m,\u001b[0m\u001b[1;36m0\u001b[0m\u001b[1;33m,\u001b[0m\u001b[1;33m-\u001b[0m\u001b[1;36m4\u001b[0m\u001b[1;33m,\u001b[0m\u001b[1;36m2\u001b[0m\u001b[1;33m,\u001b[0m\u001b[1;36m3\u001b[0m\u001b[1;33m]\u001b[0m\u001b[1;33m\u001b[0m\u001b[0m\n\u001b[0;32m      2\u001b[0m \u001b[1;32mfor\u001b[0m \u001b[0mi\u001b[0m \u001b[1;32min\u001b[0m \u001b[0mrange\u001b[0m\u001b[1;33m(\u001b[0m\u001b[0mlen\u001b[0m\u001b[1;33m(\u001b[0m\u001b[0mL\u001b[0m\u001b[1;33m)\u001b[0m\u001b[1;33m)\u001b[0m\u001b[1;33m:\u001b[0m\u001b[1;33m\u001b[0m\u001b[0m\n\u001b[1;32m----> 3\u001b[1;33m     \u001b[0mprint\u001b[0m\u001b[1;33m(\u001b[0m\u001b[0mL\u001b[0m\u001b[1;33m[\u001b[0m\u001b[0mi\u001b[0m\u001b[1;33m]\u001b[0m\u001b[1;33m)\u001b[0m\u001b[1;33m\u001b[0m\u001b[0m\n\u001b[0m\u001b[0;32m      4\u001b[0m     \u001b[1;32mif\u001b[0m \u001b[0mL\u001b[0m\u001b[1;33m[\u001b[0m\u001b[0mi\u001b[0m\u001b[1;33m]\u001b[0m\u001b[1;33m<\u001b[0m\u001b[1;36m0\u001b[0m\u001b[1;33m:\u001b[0m\u001b[1;33m\u001b[0m\u001b[0m\n\u001b[0;32m      5\u001b[0m         \u001b[0mL\u001b[0m\u001b[1;33m.\u001b[0m\u001b[0mremove\u001b[0m\u001b[1;33m(\u001b[0m\u001b[0mL\u001b[0m\u001b[1;33m[\u001b[0m\u001b[0mi\u001b[0m\u001b[1;33m]\u001b[0m\u001b[1;33m)\u001b[0m\u001b[1;33m\u001b[0m\u001b[0m\n",
      "\u001b[1;31mIndexError\u001b[0m: list index out of range"
     ]
    }
   ],
   "source": [
    "L=[7,-1,9,-5,0,-4,2,3]\n",
    "for i in range(len(L)):\n",
    "    print(L[i])\n",
    "    if L[i]<0:\n",
    "        L.remove(L[i])\n",
    "#print(L)"
   ]
  },
  {
   "cell_type": "code",
   "execution_count": 45,
   "metadata": {},
   "outputs": [
    {
     "name": "stdout",
     "output_type": "stream",
     "text": [
      "[7, 9, 0, 2, 3]\n"
     ]
    }
   ],
   "source": [
    "L=[7,-1,9,-5,0,-4,2,3]\n",
    "for i in L:\n",
    "    if i<0:\n",
    "        L.remove(i)\n",
    "print(L)"
   ]
  },
  {
   "cell_type": "code",
   "execution_count": 26,
   "metadata": {},
   "outputs": [
    {
     "name": "stdout",
     "output_type": "stream",
     "text": [
      "<zip object at 0x000001C6B734B4C8>\n",
      "{('chen', 0), ('yaqin', 1), ('ben', 0)}\n",
      "[('ben', 0), ('chen', 0), ('yaqin', 1)]\n",
      "(('ben', 0), ('chen', 0), ('yaqin', 1))\n"
     ]
    }
   ],
   "source": [
    "#zip() function:\n",
    "Names=['ben','chen','yaqin']\n",
    "Gender=[0,0,1]\n",
    "#zip() function is an Iterator\n",
    "print(zip(Names,Gender))\n",
    "#set,list and tuple are known as Iterables\n",
    "print(set(zip(Names,Gender)))\n",
    "print(list(zip(Names,Gender)))\n",
    "print(tuple(zip(Names,Gender)))"
   ]
  },
  {
   "cell_type": "code",
   "execution_count": 9,
   "metadata": {},
   "outputs": [
    {
     "name": "stdout",
     "output_type": "stream",
     "text": [
      "Enter number to search:283\n",
      "[17, 143, 283, 384, 902, 909]\n",
      "Element found at position: 3\n"
     ]
    }
   ],
   "source": [
    "#Binary Search\n",
    "L=[902,17,384,283,143,909]\n",
    "num=int(input(\"Enter number to search:\"))\n",
    "L.sort()\n",
    "print(L)\n",
    "front=0\n",
    "end=len(L)-1\n",
    "while front<=end:\n",
    "    mid=front+(end-front)//2\n",
    "    found=False\n",
    "    if num==L[mid]:\n",
    "        found=True             #element is always found at mid in binary search\n",
    "        break\n",
    "    elif num<L[mid]:\n",
    "        end=mid-1\n",
    "    elif num>L[mid]:\n",
    "        beg=mid+1\n",
    "if found==True:\n",
    "    print(\"Element found at position:\",mid+1)"
   ]
  },
  {
   "cell_type": "code",
   "execution_count": 7,
   "metadata": {},
   "outputs": [
    {
     "name": "stdout",
     "output_type": "stream",
     "text": [
      "[('C', 30), ('A', 40), ('B', 50)]\n"
     ]
    }
   ],
   "source": [
    "#Sorting list of tuples based on 2nd number in the tuple.\n",
    "L=[('A',40),('C',30),('B',50)]\n",
    "for i in range(len(L)):\n",
    "    for j in range(len(L)-1):\n",
    "        if L[j][1]>L[j+1][1]:\n",
    "            L[j],L[j+1]=L[j+1],L[j]    #The whole Tuple has to be swapped\n",
    "print(L)"
   ]
  },
  {
   "cell_type": "code",
   "execution_count": 14,
   "metadata": {},
   "outputs": [
    {
     "name": "stdout",
     "output_type": "stream",
     "text": [
      "Enter size of List 1:2\n",
      "Enter element in list 1:1\n",
      "Enter element in list 1:2\n",
      "Enter size of List 2:2\n",
      "Enter element in list 2:3\n",
      "Enter element in list 2:2\n",
      "2 found at position: 1\n"
     ]
    }
   ],
   "source": [
    "#Consider two Lists and check whether atleast one of the element is common \n",
    "size1=eval(input(\"Enter size of List 1:\"))\n",
    "L1=[]\n",
    "for i in range(0,size1):\n",
    "    a=int(input(\"Enter element in list 1:\"))\n",
    "    L1.append(a)\n",
    "    \n",
    "size2=eval(input(\"Enter size of List 2:\"))\n",
    "L2=[]\n",
    "for i in range(0,size2):\n",
    "    b=int(input(\"Enter element in list 2:\"))\n",
    "    L2.append(b)\n",
    "for i in range(len(L1)):\n",
    "    for j in range(len(L2)):\n",
    "        if L1[i]==L2[j]:\n",
    "            print(\"Element\",L1[i],\"found at position:\",i)"
   ]
  },
  {
   "cell_type": "code",
   "execution_count": 2,
   "metadata": {},
   "outputs": [
    {
     "name": "stdout",
     "output_type": "stream",
     "text": [
      "Enter size of List :5\n",
      "Enter element in list :12\n",
      "Enter element in list :34\n",
      "Enter element in list :45\n",
      "Enter element in list :31\n",
      "Enter element in list :21\n",
      "Enter Range:\n",
      "beg:1\n",
      "end:25\n",
      "Total number of elements in the list that lie in this range: 2\n"
     ]
    }
   ],
   "source": [
    "#Count the total number of elements in the List that lie in a particular range.\n",
    "size1=eval(input(\"Enter size of List :\"))\n",
    "L1=[]\n",
    "for i in range(0,size1):\n",
    "    a=int(input(\"Enter element in list :\"))\n",
    "    L1.append(a)\n",
    "print(\"Enter Range:\")\n",
    "beg=int(input(\"beg:\"))\n",
    "end=int(input(\"end:\"))\n",
    "count=0\n",
    "for i in L1:\n",
    "    if i>=beg and i<=end:\n",
    "        count+=1\n",
    "print(\"Total number of elements in the list that lie in this range:\",count)"
   ]
  },
  {
   "cell_type": "code",
   "execution_count": 3,
   "metadata": {},
   "outputs": [
    {
     "name": "stdout",
     "output_type": "stream",
     "text": [
      "Enter size of List :4\n",
      "Enter element in List :21\n",
      "Enter element in List :1\n",
      "Enter element in List :2\n",
      "Enter element in List :3\n",
      "[42, 2, 4, 6]\n"
     ]
    }
   ],
   "source": [
    "#Multiply each element of the list by 2 using List Comprehensions.\n",
    "size1=eval(input(\"Enter size of List :\"))\n",
    "L1=[]\n",
    "for i in range(0,size1):\n",
    "    a=int(input(\"Enter element in List :\"))\n",
    "    L1.append(a)\n",
    "#x=[operation for each x in List]\n",
    "x=[i*2 for i in L1]                          #List Comprehension\n",
    "print(x)"
   ]
  },
  {
   "cell_type": "code",
   "execution_count": 4,
   "metadata": {},
   "outputs": [
    {
     "name": "stdout",
     "output_type": "stream",
     "text": [
      "Enter size of List :3\n",
      "Enter element in List :1\n",
      "Enter element in List :2\n",
      "Enter element in List :3\n",
      "[1, 8, 27]\n"
     ]
    }
   ],
   "source": [
    "#To calculate cube of the numbers using List Comprehension.\n",
    "size1=eval(input(\"Enter size of List :\"))\n",
    "L1=[]\n",
    "for i in range(0,size1):\n",
    "    a=int(input(\"Enter element in List :\"))\n",
    "    L1.append(a)\n",
    "x=[i**3 for i in L1]\n",
    "print(x)"
   ]
  },
  {
   "cell_type": "code",
   "execution_count": 6,
   "metadata": {},
   "outputs": [
    {
     "name": "stdout",
     "output_type": "stream",
     "text": [
      "[8, 12, -54]\n",
      "[8, 6, -18, 16, 12, -36, 24, 18, -54]\n"
     ]
    }
   ],
   "source": [
    "#List Comprehensions\n",
    "vect1=[2,4,6]\n",
    "vect2=[4,3,-9]\n",
    "x=[vect1[i]*vect2[i] for i in range(len(vect1))]\n",
    "y=[vect1[i]*vect2[j] for i in range(len(vect1)) for j in range(len(vect2))]\n",
    "print(x)\n",
    "print(y)"
   ]
  },
  {
   "cell_type": "code",
   "execution_count": 10,
   "metadata": {},
   "outputs": [
    {
     "name": "stdout",
     "output_type": "stream",
     "text": [
      "Enter number:4\n",
      "[[4, 1, 4], [4, 2, 8], [4, 3, 12], [4, 4, 16], [4, 5, 20], [4, 6, 24], [4, 7, 28], [4, 8, 32], [4, 9, 36], [4, 10, 40]]\n"
     ]
    }
   ],
   "source": [
    "#WAP to print the Table of a number.\n",
    "num=int(input(\"Enter number:\"))\n",
    "Table=[[num,mul,num*mul] for mul in range(1,11)]\n",
    "print(Table)"
   ]
  },
  {
   "cell_type": "code",
   "execution_count": 19,
   "metadata": {},
   "outputs": [
    {
     "name": "stdout",
     "output_type": "stream",
     "text": [
      "Enter size of List 1:3\n",
      "Enter element in List 1:1\n",
      "Enter element in List 1:2\n",
      "Enter element in List 1:3\n",
      "Enter size of List 2:3\n",
      "Enter element in List 2:4\n",
      "Enter element in List 2:5\n",
      "Enter element in List 2:6\n",
      "[[1, 4], [2, 5], [3, 6]]\n"
     ]
    }
   ],
   "source": [
    "size1=eval(input(\"Enter size of List 1:\"))\n",
    "L1=[]\n",
    "for i in range(0,size1):\n",
    "    a=int(input(\"Enter element in List 1:\"))\n",
    "    L1.append(a)\n",
    "size2=eval(input(\"Enter size of List 2:\"))\n",
    "L2=[]\n",
    "for i in range(0,size2):\n",
    "    b=int(input(\"Enter element in List 2:\"))\n",
    "    L2.append(b)\n",
    "x=[[L1[i],L2[i]] for i in range(len(L1)) if len(L1)==len(L2)]\n",
    "print(x)"
   ]
  },
  {
   "cell_type": "code",
   "execution_count": 23,
   "metadata": {},
   "outputs": [
    {
     "name": "stdout",
     "output_type": "stream",
     "text": [
      "['Hello', 'this', 'very', 'interesting']\n"
     ]
    }
   ],
   "source": [
    "#WAP to print those words from the string in a list whose length is greater than or equal to 4.\n",
    "L1=[]\n",
    "String='Hello,this,is,very,interesting'\n",
    "lisp=String.split(',')\n",
    "for i in lisp:\n",
    "    if len(i)>=4:\n",
    "        L1.append(i)\n",
    "print(L1)"
   ]
  },
  {
   "cell_type": "code",
   "execution_count": 52,
   "metadata": {},
   "outputs": [
    {
     "name": "stdout",
     "output_type": "stream",
     "text": [
      "Enter size of List 1:4\n",
      "Enter element in List 1:90\n",
      "Enter element in List 1:60\n",
      "Enter element in List 1:78\n",
      "Enter element in List 1:31\n",
      "Enter size of List 2:3\n",
      "Enter element in List 2:14\n",
      "Enter element in List 2:14\n",
      "Enter element in List 2:14\n",
      "Sub-list not found\n"
     ]
    }
   ],
   "source": [
    "#WAP and try to search for a list in another list.\n",
    "size1=eval(input(\"Enter size of List 1:\"))\n",
    "L1=[]\n",
    "for i in range(0,size1):\n",
    "    a=int(input(\"Enter element in List 1:\"))\n",
    "    L1.append(a)\n",
    "size2=eval(input(\"Enter size of List 2:\"))\n",
    "L2=[]\n",
    "for i in range(0,size2):\n",
    "    b=int(input(\"Enter element in List 2:\"))\n",
    "    L2.append(b)\n",
    "count=0\n",
    "if len(L1)==0:\n",
    "    print(\"List 1 is empty\")\n",
    "elif len(L2)==0:\n",
    "    print(\"List 2 is empty\")\n",
    "else:\n",
    "    if len(L1)>len(L2):\n",
    "        for i in L1:\n",
    "            for j in L2:\n",
    "                if i==j:\n",
    "                    count+=1\n",
    "    elif len(L1)<len(L2):\n",
    "        for i in L2:\n",
    "            for j in L1:\n",
    "                if i==j:\n",
    "                    count+=1\n",
    "    if count==len(L2):\n",
    "        print(\"Sub-list found in List 1\")\n",
    "    elif count==len(L1):\n",
    "        print(\"Sub-list found in List 2\")\n",
    "    else:\n",
    "        print(\"Sub-list not found\")"
   ]
  },
  {
   "cell_type": "code",
   "execution_count": 1,
   "metadata": {},
   "outputs": [
    {
     "name": "stdout",
     "output_type": "stream",
     "text": [
      "Enter size of List:4\n",
      "Enter element in List:1\n",
      "Enter element in List:5\n",
      "Enter element in List:3\n",
      "Enter element in List:7\n"
     ]
    },
    {
     "ename": "NameError",
     "evalue": "name 'inn' is not defined",
     "output_type": "error",
     "traceback": [
      "\u001b[1;31m---------------------------------------------------------------------------\u001b[0m",
      "\u001b[1;31mNameError\u001b[0m                                 Traceback (most recent call last)",
      "\u001b[1;32m<ipython-input-1-d7c566803eca>\u001b[0m in \u001b[0;36m<module>\u001b[1;34m()\u001b[0m\n\u001b[0;32m     13\u001b[0m     \u001b[0mtemp\u001b[0m\u001b[1;33m=\u001b[0m\u001b[0mL\u001b[0m\u001b[1;33m[\u001b[0m\u001b[0mi\u001b[0m\u001b[1;33m]\u001b[0m\u001b[1;33m\u001b[0m\u001b[0m\n\u001b[0;32m     14\u001b[0m     \u001b[0mL\u001b[0m\u001b[1;33m[\u001b[0m\u001b[0mi\u001b[0m\u001b[1;33m]\u001b[0m\u001b[1;33m=\u001b[0m\u001b[0mminn\u001b[0m\u001b[1;33m\u001b[0m\u001b[0m\n\u001b[1;32m---> 15\u001b[1;33m     \u001b[0mL\u001b[0m\u001b[1;33m[\u001b[0m\u001b[0minn\u001b[0m\u001b[1;33m]\u001b[0m\u001b[1;33m=\u001b[0m\u001b[0mtemp\u001b[0m\u001b[1;33m\u001b[0m\u001b[0m\n\u001b[0m\u001b[0;32m     16\u001b[0m \u001b[0mprint\u001b[0m\u001b[1;33m(\u001b[0m\u001b[0mL\u001b[0m\u001b[1;33m)\u001b[0m\u001b[1;33m\u001b[0m\u001b[0m\n",
      "\u001b[1;31mNameError\u001b[0m: name 'inn' is not defined"
     ]
    }
   ],
   "source": [
    "#WAP to perform Selection Sort\n",
    "size=eval(input(\"Enter size of List:\"))\n",
    "L=[]\n",
    "for i in range(0,size):\n",
    "    a=int(input(\"Enter element in List:\"))\n",
    "    L.append(a)\n",
    "for i in range(len(L)):\n",
    "    minn=L[i]              #To set new value of min after each iteration\n",
    "    for j in range(i+1,len(L)):\n",
    "        if minn>L[j]:\n",
    "            minn=L[j]\n",
    "            inn=L.index(minn)\n",
    "    temp=L[i]\n",
    "    L[i]=minn\n",
    "    L[inn]=temp\n",
    "print(L)"
   ]
  },
  {
   "cell_type": "code",
   "execution_count": 5,
   "metadata": {},
   "outputs": [
    {
     "name": "stdout",
     "output_type": "stream",
     "text": [
      "Enter size of List:5\n",
      "Enter element in List:1\n",
      "Enter element in List:5\n",
      "Enter element in List:8\n",
      "Enter element in List:3\n",
      "Enter element in List:2\n",
      "[1, 5, 8, 3, 2]\n",
      "[1, 25, 8, 9, 2]\n"
     ]
    }
   ],
   "source": [
    "#Square each odd number in the list.\n",
    "size=eval(input(\"Enter size of List:\"))\n",
    "L=[]\n",
    "L1=[]\n",
    "for i in range(0,size):\n",
    "    a=int(input(\"Enter element in List:\"))\n",
    "    L.append(a)\n",
    "print(L)\n",
    "for i in L:\n",
    "    if i%2!=0:\n",
    "        i=i**2\n",
    "        L1.append(i)\n",
    "    else:\n",
    "        L1.append(i)\n",
    "print(L1)"
   ]
  },
  {
   "cell_type": "code",
   "execution_count": 9,
   "metadata": {},
   "outputs": [
    {
     "name": "stdout",
     "output_type": "stream",
     "text": [
      "Enter size of List:5\n",
      "Enter element in List:1\n",
      "Enter element in List:2\n",
      "Enter element in List:3\n",
      "Enter element in List:4\n",
      "Enter element in List:5\n",
      "[1, 2, 3, 4, 5]\n",
      "[1, 9, 25]\n",
      "[1, 2, 9, 4, 25]\n"
     ]
    }
   ],
   "source": [
    "#Use List Comprehension to square each odd number in a list.\n",
    "size=eval(input(\"Enter size of List:\"))\n",
    "L=[]\n",
    "for i in range(0,size):\n",
    "    a=int(input(\"Enter element in List:\"))\n",
    "    L.append(a)\n",
    "#print(L)\n",
    "y=[i**2 if i%2!=0 else i for i in L]\n",
    "print(y)"
   ]
  },
  {
   "cell_type": "code",
   "execution_count": 2,
   "metadata": {},
   "outputs": [
    {
     "name": "stdout",
     "output_type": "stream",
     "text": [
      "Enter range:\n",
      "beg:1\n",
      "end:10\n",
      "[(1, 1), (2, 4), (3, 9), (4, 16), (5, 25), (6, 36), (7, 49), (8, 64), (9, 81), (10, 100)]\n"
     ]
    }
   ],
   "source": [
    "#Take a range and create a list of tuple within that range with the first element as the number and \n",
    "#the second element as the square of the number.\n",
    "print(\"Enter range:\")\n",
    "beg=int(input(\"beg:\"))\n",
    "end=int(input(\"end:\"))\n",
    "x=[(i,i**2) for i in range(beg,end+1)]\n",
    "print(x)"
   ]
  },
  {
   "cell_type": "code",
   "execution_count": 15,
   "metadata": {},
   "outputs": [
    {
     "name": "stdout",
     "output_type": "stream",
     "text": [
      "Enter size of List 1:2\n",
      "Enter element in List 1:1\n",
      "Enter element in List 1:2\n",
      "Enter size of List 2:2\n",
      "Enter element in List 2:1\n",
      "Enter element in List 2:2\n",
      "[1, 2, 1, 2]\n"
     ]
    }
   ],
   "source": [
    "#Union of two lists\n",
    "L1=[]\n",
    "L2=[]\n",
    "size1=eval(input(\"Enter size of List 1:\"))\n",
    "for i in range(0,size1):\n",
    "    a=int(input(\"Enter element in List 1:\"))\n",
    "    L1.append(a)\n",
    "size2=eval(input(\"Enter size of List 2:\"))\n",
    "for i in range(0,size2):\n",
    "    b=int(input(\"Enter element in List 2:\"))\n",
    "    L2.append(b)\n",
    "for i in range(len(L2)):\n",
    "    L1.append(L2[i])\n",
    "print(L1)"
   ]
  },
  {
   "cell_type": "code",
   "execution_count": 5,
   "metadata": {},
   "outputs": [
    {
     "name": "stdout",
     "output_type": "stream",
     "text": [
      "Enter size of List 1:3\n",
      "Enter element in List 1:1\n",
      "Enter element in List 1:2\n",
      "Enter element in List 1:3\n",
      "Enter size of List 2:3\n",
      "Enter element in List 2:2\n",
      "Enter element in List 2:3\n",
      "Enter element in List 2:4\n",
      "[2, 3]\n"
     ]
    }
   ],
   "source": [
    "#Intersection of two lists\n",
    "L1=[]\n",
    "L2=[]\n",
    "L3=[]\n",
    "size1=eval(input(\"Enter size of List 1:\"))\n",
    "for i in range(0,size1):\n",
    "    a=int(input(\"Enter element in List 1:\"))\n",
    "    L1.append(a)\n",
    "size2=eval(input(\"Enter size of List 2:\"))\n",
    "for i in range(0,size2):\n",
    "    b=int(input(\"Enter element in List 2:\"))\n",
    "    L2.append(b)\n",
    "for i in L1:\n",
    "    for j in L2:\n",
    "        if i==j:\n",
    "            L3.append(i)\n",
    "print(L3)"
   ]
  },
  {
   "cell_type": "code",
   "execution_count": 71,
   "metadata": {},
   "outputs": [
    {
     "name": "stdout",
     "output_type": "stream",
     "text": [
      "Enter a string:hie sakshi bye abba sakshi\n",
      "Enter word to remove:sakshi\n",
      "Enter index of word to remove:2\n",
      "occur: 2\n",
      "['hie', 'sakshi', 'bye', 'abba']\n",
      "['abba', 'bye', 'hie', 'sakshi']\n"
     ]
    }
   ],
   "source": [
    "#To remove the ith occurence of the given word in list where words can repeat.\n",
    "string=input(\"Enter a string:\")\n",
    "word=input(\"Enter word to remove:\")\n",
    "occur=int(input(\"Enter index of word to remove:\"))\n",
    "lisp=string.split(\" \")\n",
    "lisp1=[]\n",
    "print(\"occur:\",occur)\n",
    "count=0\n",
    "for i in lisp:\n",
    "    if i==word:\n",
    "        count+=1\n",
    "        if count!=occur:\n",
    "            lisp1.append(i)   #to append the word whose index has not been matched\n",
    "    else:\n",
    "        lisp1.append(i)       #to append other words\n",
    "print(lisp1)\n",
    "lisp1.sort()\n",
    "print(lisp1)"
   ]
  },
  {
   "cell_type": "code",
   "execution_count": 81,
   "metadata": {},
   "outputs": [
    {
     "name": "stdout",
     "output_type": "stream",
     "text": [
      "Enter a comma-separated string:hie,hie,jello,bye\n",
      "bye hie jello\n"
     ]
    }
   ],
   "source": [
    "#Strings\n",
    "#WAP that accepts a comma separated sequence of words as input and prints the unique words in sorted form(alphanumerically).\n",
    "string=input(\"Enter a comma-separated string:\")\n",
    "lisp=string.split(\",\")\n",
    "unique=set(lisp)\n",
    "my_list=list(unique)\n",
    "my_list.sort()\n",
    "str=\" \".join(my_list)\n",
    "print(str)"
   ]
  },
  {
   "cell_type": "code",
   "execution_count": 88,
   "metadata": {},
   "outputs": [
    {
     "name": "stdout",
     "output_type": "stream",
     "text": [
      "Enter a string:sakshi\n",
      "asi\n"
     ]
    }
   ],
   "source": [
    "#Strings\n",
    "#WAP to remove the characters which have odd index values of a given string.\n",
    "string=input(\"Enter a string:\")\n",
    "new_str=\"\"\n",
    "for chr in range(len(string)):\n",
    "    if chr%2!=0:\n",
    "        new_str+=string[chr]\n",
    "print(new_str)"
   ]
  },
  {
   "cell_type": "code",
   "execution_count": null,
   "metadata": {},
   "outputs": [],
   "source": [
    "#Functions"
   ]
  },
  {
   "cell_type": "code",
   "execution_count": 14,
   "metadata": {},
   "outputs": [
    {
     "name": "stdout",
     "output_type": "stream",
     "text": [
      "11\n",
      "11\n",
      "5 6\n",
      "5\n"
     ]
    }
   ],
   "source": [
    "#Syntax 1:\n",
    "def sum():\n",
    "    a=5\n",
    "    b=6\n",
    "    print(a+b)\n",
    "sum()\n",
    "\n",
    "#Syntax 2:\n",
    "def sum():\n",
    "    a=5\n",
    "    b=6\n",
    "    return (a+b)\n",
    "x=sum()\n",
    "print(x)\n",
    "\n",
    "#Syntax 3:\n",
    "def sum():\n",
    "    a=5\n",
    "    b=6\n",
    "    return a,b\n",
    "y,c=sum()\n",
    "print(y,c)\n",
    "\n",
    "#4\n",
    "def sum1(x,y):\n",
    "    print(x+y)\n",
    "sum1(2,3)"
   ]
  },
  {
   "cell_type": "code",
   "execution_count": 19,
   "metadata": {},
   "outputs": [
    {
     "name": "stdout",
     "output_type": "stream",
     "text": [
      "Values inside the function: [10, 20, 30, [1, 2, 3, 4]]\n",
      "Values outside the funcrion: [10, 20, 30, [1, 2, 3, 4]]\n"
     ]
    }
   ],
   "source": [
    "#In Python,calling of function is always done by Call by Reference.\n",
    "def change_me(mylist):\n",
    "    mylist.append([1,2,3,4])\n",
    "    print(\"Values inside the function:\",mylist)\n",
    "    return\n",
    "mylist=[10,20,30]\n",
    "change_me(mylist)\n",
    "print(\"Values outside the funcrion:\",mylist)"
   ]
  },
  {
   "cell_type": "code",
   "execution_count": 22,
   "metadata": {},
   "outputs": [
    {
     "name": "stdout",
     "output_type": "stream",
     "text": [
      "Values inside the function: [1, 2, 3, 4]\n",
      "Values outside the function: [10, 20, 30]\n"
     ]
    }
   ],
   "source": [
    "def change_me(mylist):\n",
    "    mylist=[1,2,3,4]     #Here mylist is a local variable whose scope is within the funcion only.\n",
    "    print(\"Values inside the function:\",mylist)\n",
    "    return\n",
    "\n",
    "mylist=[10,20,30]\n",
    "change_me(mylist)\n",
    "print(\"Values outside the function:\",mylist)"
   ]
  },
  {
   "cell_type": "code",
   "execution_count": 21,
   "metadata": {},
   "outputs": [
    {
     "name": "stdout",
     "output_type": "stream",
     "text": [
      "Enter a number:5\n",
      "5 is not perfect number\n"
     ]
    }
   ],
   "source": [
    "#Write a function to check Perfect Number.\n",
    "def perfect_no(num):\n",
    "    sum=0\n",
    "    for i in range(1,num):\n",
    "        if num%i==0:\n",
    "            sum+=i \n",
    "    return (sum==num)\n",
    "\n",
    "no=int(input(\"Enter a number:\"))\n",
    "x=perfect_no(no)\n",
    "\n",
    "if x==1:\n",
    "    print(no,\"is perfect number\")\n",
    "else:\n",
    "    print(no,\"is not perfect number\")"
   ]
  },
  {
   "cell_type": "code",
   "execution_count": 33,
   "metadata": {},
   "outputs": [
    {
     "name": "stdout",
     "output_type": "stream",
     "text": [
      "10\n",
      "20\n"
     ]
    },
    {
     "data": {
      "text/plain": [
       "['hello', 1, 'bye']"
      ]
     },
     "execution_count": 33,
     "metadata": {},
     "output_type": "execute_result"
    }
   ],
   "source": [
    "#Prog\n",
    "a=10\n",
    "def test(a):\n",
    "    a=20   #Scope of a is within function test() only\n",
    "    print(a)\n",
    "    #bb=30\n",
    "    return ['hello',1,'bye']\n",
    "print(a)\n",
    "#print(bb)\n",
    "test(a)"
   ]
  },
  {
   "cell_type": "code",
   "execution_count": 36,
   "metadata": {},
   "outputs": [
    {
     "name": "stdout",
     "output_type": "stream",
     "text": [
      "Name: sakshi\n",
      "Age: 50\n",
      "Name: sakshi\n",
      "Age: 50\n"
     ]
    }
   ],
   "source": [
    "#Keyword Arguments\n",
    "def print_info(name,age):\n",
    "    print(\"Name:\",name)\n",
    "    print(\"Age:\",age)\n",
    "    return\n",
    "#call function print_info()\n",
    "print_info(age=50,name='sakshi')\n",
    "print_info(name='sakshi',age=50)\n",
    "#print_info(age=50)"
   ]
  },
  {
   "cell_type": "code",
   "execution_count": 41,
   "metadata": {},
   "outputs": [
    {
     "name": "stdout",
     "output_type": "stream",
     "text": [
      "a: 4\n",
      "b: 50\n",
      "c: 5\n",
      "\n",
      "\n",
      "a: 25\n",
      "b: 10\n",
      "c: 24\n"
     ]
    }
   ],
   "source": [
    "#Default Arguments\n",
    "#All default parameters within the parameter list must appear after all non-default parameters.\n",
    "def test(a,b=10,c=5):\n",
    "    print(\"a:\",a)\n",
    "    print(\"b:\",b)\n",
    "    print(\"c:\",c)\n",
    "    return\n",
    "test(4,50)\n",
    "print('\\n')\n",
    "test(25,c=24)"
   ]
  },
  {
   "cell_type": "code",
   "execution_count": 43,
   "metadata": {},
   "outputs": [
    {
     "name": "stdout",
     "output_type": "stream",
     "text": [
      "Enter size of List:4\n",
      "Enter element in List:1\n",
      "Enter element in List:7\n",
      "Enter element in List:3\n",
      "Enter element in List:8\n",
      "Output is:\n",
      "1\n",
      "[1, 7, 3, 8]\n"
     ]
    }
   ],
   "source": [
    "#Variable length Arguments\n",
    "#Variable length argument is represented by asterisk(*) sign.\n",
    "\n",
    "def print_info(arg1,*vartuple):\n",
    "    print(\"Output is:\")\n",
    "    print(arg1)\n",
    "    for var in vartuple:\n",
    "        print(var)\n",
    "    return\n",
    "\n",
    "#Enter list as per user's choice\n",
    "size=eval(input(\"Enter size of List:\"))\n",
    "L=[]\n",
    "for i in range(0,size):\n",
    "    a=int(input(\"Enter element in List:\"))\n",
    "    L.append(a)\n",
    "    \n",
    "print_info(1,L)"
   ]
  },
  {
   "cell_type": "code",
   "execution_count": 48,
   "metadata": {},
   "outputs": [
    {
     "name": "stdout",
     "output_type": "stream",
     "text": [
      "Enter size of List 1:4\n",
      "Enter element in list 1:1\n",
      "Enter element in list 1:2\n",
      "Enter element in list 1:3\n",
      "Enter element in list 1:4\n",
      "Output is:\n",
      "[1, 2, 3, 4]\n"
     ]
    }
   ],
   "source": [
    "#def print_info(*vartuple1,*vartuple2)    This is invalid\n",
    "#def printf_info(vartuple1,arg)           This is invalid,*vartuple1 has to be present on right hand side\n",
    "\n",
    "def print_info(*vartuple1):\n",
    "    print(\"Output is:\")\n",
    "    for var1 in vartuple1:\n",
    "        print(var1)\n",
    "    return\n",
    "\n",
    "#Enter lists as per user's choice\n",
    "size1=eval(input(\"Enter size of List 1:\"))\n",
    "L1=[]\n",
    "for i in range(0,size1):\n",
    "    a=int(input(\"Enter element in list 1:\"))\n",
    "    L1.append(a)\n",
    "\n",
    "print_info(L1)"
   ]
  },
  {
   "cell_type": "code",
   "execution_count": 51,
   "metadata": {},
   "outputs": [
    {
     "name": "stdout",
     "output_type": "stream",
     "text": [
      "Total count: 14\n"
     ]
    }
   ],
   "source": [
    "#varargs parameters\n",
    "\n",
    "def total(initial=5,*numbers,**keywords):\n",
    "    count=initial\n",
    "    for num in numbers:\n",
    "        count+=num\n",
    "    for key in keywords:\n",
    "        count+=keywords[key]\n",
    "    return count\n",
    "\n",
    "#call to total\n",
    "print(\"Total count:\",total(5,1,2,3,Phoebe=1,Joey=2))"
   ]
  },
  {
   "cell_type": "code",
   "execution_count": 53,
   "metadata": {},
   "outputs": [
    {
     "name": "stdout",
     "output_type": "stream",
     "text": [
      "Total count: 14\n"
     ]
    }
   ],
   "source": [
    "#  def total(**keywords,initial=5)       This is invalid\n",
    "#  def total(**keywords,**numbers)       This is invalid\n",
    "\n",
    "def total(*numbers,**keywords):\n",
    "    count=0\n",
    "    for num in numbers:\n",
    "        count+=num\n",
    "    for key in keywords:\n",
    "        count+=keywords[key]\n",
    "    return count\n",
    "\n",
    "#call to total\n",
    "print(\"Total count:\",total(5,1,2,3,Phoebe=1,Joey=2))"
   ]
  },
  {
   "cell_type": "code",
   "execution_count": 59,
   "metadata": {},
   "outputs": [
    {
     "name": "stdout",
     "output_type": "stream",
     "text": [
      "key: a \n",
      " value: monica\n",
      "key: b \n",
      " value: chandler\n"
     ]
    }
   ],
   "source": [
    "def func(**Kw):\n",
    "    for key,value in Kw.items():    #items() function is used to iterate the key value\n",
    "        print(\"key:\",key,\"\\n\",\"value:\",value)\n",
    "#call to func()\n",
    "func(a='monica',b='chandler')"
   ]
  },
  {
   "cell_type": "code",
   "execution_count": 133,
   "metadata": {},
   "outputs": [
    {
     "name": "stdout",
     "output_type": "stream",
     "text": [
      "Formal arg: 1\n",
      "Another keyword arg: a hello\n",
      "Another keyword arg: b welcome\n"
     ]
    }
   ],
   "source": [
    "def test_var(farg,**kwargs):\n",
    "    print(\"Formal arg:\",farg)\n",
    "    for key in kwargs:\n",
    "        print(\"Another keyword arg: %s %s\" %(key,kwargs[key]))\n",
    "        # key:a , value: kwargs[key]=hello\n",
    "        # key:b , value: kwargs[key]=welcome\n",
    "        \n",
    "#call to function test_var\n",
    "test_var(farg=1,a=\"hello\",b=\"welcome\")                        # a and b are keyworded arguments"
   ]
  },
  {
   "cell_type": "code",
   "execution_count": 102,
   "metadata": {},
   "outputs": [
    {
     "name": "stdout",
     "output_type": "stream",
     "text": [
      "Enter a string:PhOebe\n",
      "PHOEBE\n"
     ]
    }
   ],
   "source": [
    "#WAP function to convert a given string to all uppercase if it contains at least 2 uppercase characters in the first 4 characters.\n",
    "def func(str):\n",
    "    count=0\n",
    "    for i in range(len(str)):\n",
    "        if i<4:\n",
    "            if str[i]>='A' and str[i]<='Z':\n",
    "                count+=1\n",
    "    str1=\"\"\n",
    "    if count>=2:\n",
    "        str1=str.upper()\n",
    "        print(str1)\n",
    "    else:\n",
    "        print(str)\n",
    "string=input(\"Enter a string:\")\n",
    "func(string)"
   ]
  },
  {
   "cell_type": "code",
   "execution_count": 129,
   "metadata": {},
   "outputs": [
    {
     "name": "stdout",
     "output_type": "stream",
     "text": [
      "Enter a string:hello\n",
      "lo\n",
      "lolololo\n"
     ]
    }
   ],
   "source": [
    "#WAP function to get a string made of 4 copies of the last two characters of a specified string(length must be at least 2)\n",
    "def func(str):\n",
    "    length=len(str)\n",
    "    if length>=2:\n",
    "        str_end=str[3:]\n",
    "        print(str_end)\n",
    "        new_str=str_end*4\n",
    "        print(new_str)\n",
    "    else:\n",
    "        print(str)\n",
    "string=input(\"Enter a string:\")\n",
    "func(string)"
   ]
  },
  {
   "cell_type": "code",
   "execution_count": 17,
   "metadata": {},
   "outputs": [
    {
     "name": "stdout",
     "output_type": "stream",
     "text": [
      "Enter first string:yts\n",
      "Enter second string:shjw\n",
      "Strings are not anagram\n"
     ]
    }
   ],
   "source": [
    "str1=input(\"Enter first string:\")\n",
    "str2=input(\"Enter second string:\")\n",
    "def anagram(str1,str2):\n",
    "    #sorted() function always return a List\n",
    "    str1=sorted(str1)\n",
    "    str2=sorted(str2)\n",
    "    #print(str1)\n",
    "    #print(str2)\n",
    "    if str1==str2:\n",
    "        print(\"Strings are anagram\")\n",
    "    else:\n",
    "        print(\"Strings are not anagram\")\n",
    "#call\n",
    "anagram(str1,str2)"
   ]
  },
  {
   "cell_type": "code",
   "execution_count": 14,
   "metadata": {},
   "outputs": [
    {
     "name": "stdout",
     "output_type": "stream",
     "text": [
      "I'm gonna sleep!\n"
     ]
    }
   ],
   "source": [
    "l1=[1,2,3]\n",
    "l2=[1,2,3]\n",
    "if l1==l2:\n",
    "    print(\"I'm gonna sleep!\")"
   ]
  },
  {
   "cell_type": "code",
   "execution_count": 127,
   "metadata": {},
   "outputs": [
    {
     "name": "stdout",
     "output_type": "stream",
     "text": [
      "Enter a string:my name sakshi\n",
      "Enter 2nd string:is\n",
      "New String: my name is  sakshi\n"
     ]
    }
   ],
   "source": [
    "#WAP to insert a string in the middle of a string\n",
    "def func(str,ins_str):\n",
    "    lenn=len(str)\n",
    "    mid=lenn//2\n",
    "    new_str=str[:mid]+\" \"+ins_str+\" \"+str[mid:]\n",
    "    print(\"New String:\",new_str)\n",
    "    \n",
    "str1=input(\"Enter a string:\")\n",
    "str2=input(\"Enter 2nd string:\")\n",
    "func(str1,str2)"
   ]
  },
  {
   "cell_type": "code",
   "execution_count": 147,
   "metadata": {},
   "outputs": [
    {
     "name": "stdout",
     "output_type": "stream",
     "text": [
      "Value of total: 30\n",
      "Value of total: 40\n",
      "Value of total: 400\n",
      "Value of total: -10\n"
     ]
    }
   ],
   "source": [
    "#Lambda Function\n",
    "\n",
    "#Function Definition\n",
    "sum=lambda arg1,arg2:arg1+arg2\n",
    "mult=lambda arg1,arg2:arg1*arg2\n",
    "sub=lambda arg1,arg2:arg1-arg2\n",
    "\n",
    "#Function Call\n",
    "print(\"Value of total:\",sum(10,20))\n",
    "print(\"Value of total:\",sum(20,20))\n",
    "print(\"Value of total:\",mult(20,20))\n",
    "print(\"Value of total:\",sub(10,20))"
   ]
  },
  {
   "cell_type": "code",
   "execution_count": 142,
   "metadata": {},
   "outputs": [
    {
     "name": "stdout",
     "output_type": "stream",
     "text": [
      "{0, 8, 2}\n"
     ]
    }
   ],
   "source": [
    "#filter() Function\n",
    "seq=[0,1,2,3,5,8,13]\n",
    "result=filter(lambda x:x%2==0,seq)       #filter(function,sequence)\n",
    "#print(list(result))\n",
    "#print(tuple(result))\n",
    "print(set(result))"
   ]
  },
  {
   "cell_type": "code",
   "execution_count": 149,
   "metadata": {},
   "outputs": [
    {
     "name": "stdout",
     "output_type": "stream",
     "text": [
      "(16, 9, 4, 1)\n"
     ]
    }
   ],
   "source": [
    "# map() Function: It applies the same function to each element of a sequence.\n",
    "n=[4,3,2,1]\n",
    "#print(list(map(lambda x:x**2,n)))\n",
    "print(tuple(map(lambda x:x**2,n)))      #map(function,sequence)"
   ]
  },
  {
   "cell_type": "code",
   "execution_count": 158,
   "metadata": {},
   "outputs": [
    {
     "name": "stdout",
     "output_type": "stream",
     "text": [
      "24\n"
     ]
    }
   ],
   "source": [
    "#reduce() Function: It applies the same operation to items of a sequence.\n",
    "from functools import reduce\n",
    "n=[4,3,2,1]\n",
    "print(reduce(lambda x,y:x*y,n))        # 2 positional arguments are mentioned here"
   ]
  },
  {
   "cell_type": "code",
   "execution_count": 164,
   "metadata": {},
   "outputs": [
    {
     "name": "stdout",
     "output_type": "stream",
     "text": [
      "0.9149470453776224\n",
      "93\n"
     ]
    }
   ],
   "source": [
    "import random\n",
    "y=random.random()\n",
    "x=random.randrange(50,100)\n",
    "print(y)\n",
    "print(x)"
   ]
  },
  {
   "cell_type": "code",
   "execution_count": 27,
   "metadata": {},
   "outputs": [
    {
     "name": "stdout",
     "output_type": "stream",
     "text": [
      "<class 'filter'>\n",
      "['fbgfh']\n"
     ]
    }
   ],
   "source": [
    "#Program to filter a given list whether the values in the list are having length of 6 using lambda\n",
    "lisp=[\"fbgfh\",\"dgdfgdfgd\"]\n",
    "res=filter(lambda l:len(l)==5,lisp)\n",
    "print(type(res))\n",
    "print(list(res))"
   ]
  },
  {
   "cell_type": "code",
   "execution_count": 12,
   "metadata": {},
   "outputs": [
    {
     "data": {
      "text/plain": [
       "False"
      ]
     },
     "execution_count": 12,
     "metadata": {},
     "output_type": "execute_result"
    }
   ],
   "source": [
    "x=lambda l:True if len(l)==6 else False\n",
    "x([\"fbgfh\",\"dgdfgdfgd\"])"
   ]
  },
  {
   "cell_type": "code",
   "execution_count": 17,
   "metadata": {},
   "outputs": [
    {
     "name": "stdout",
     "output_type": "stream",
     "text": [
      "Even: 4\n",
      "Odd: 4\n"
     ]
    }
   ],
   "source": [
    "#Python program to count even,odd numbers in a given array of integers using lambda.\n",
    "lisp=[1,2,3,4,5,6,7,8]\n",
    "even=len(list(filter(lambda l: l%2==0,lisp)))\n",
    "odd=len(list(filter(lambda l: l%2!=0,lisp)))\n",
    "print(\"Even:\",even)\n",
    "print(\"Odd:\",odd)"
   ]
  },
  {
   "cell_type": "code",
   "execution_count": 29,
   "metadata": {},
   "outputs": [
    {
     "name": "stdout",
     "output_type": "stream",
     "text": [
      "Enter a string:hello\n",
      "Enter a character:h\n",
      "True\n",
      "<class 'function'>\n"
     ]
    }
   ],
   "source": [
    "#Python program to find whether a given string starts with a given character using lambda.\n",
    "str=input(\"Enter a string:\")\n",
    "chr=input(\"Enter a character:\")\n",
    "x=lambda seq,sym:True if chr in str else False\n",
    "print(x(str,chr))\n",
    "print(type(x))"
   ]
  },
  {
   "cell_type": "code",
   "execution_count": 38,
   "metadata": {},
   "outputs": [
    {
     "name": "stdout",
     "output_type": "stream",
     "text": [
      "Enter a list of strings:\n",
      "Enter size of List:2\n",
      "Enter element in List:er\n",
      "Enter element in List:rt\n",
      "[]\n",
      "False\n"
     ]
    }
   ],
   "source": [
    "#Given a string,find all palindromes using lambda.\n",
    "print(\"Enter a list of strings:\")\n",
    "size=int(input(\"Enter size of List:\"))\n",
    "L=[]\n",
    "for i in range(0,size):\n",
    "    a=input(\"Enter element in List:\")\n",
    "    L.append(a)\n",
    "    \n",
    "res=filter(lambda x:x==\"\".join(reversed(x)),L)\n",
    "print(list(res))\n",
    "\n",
    "y=lambda x:x==\"\".join(reversed(x))\n",
    "print(y(\"hello\"))"
   ]
  },
  {
   "cell_type": "code",
   "execution_count": 34,
   "metadata": {},
   "outputs": [
    {
     "name": "stdout",
     "output_type": "stream",
     "text": [
      "<reversed object at 0x00000149B68E6128>\n"
     ]
    }
   ],
   "source": [
    "x=\"keek\"\n",
    "print(reversed(x))"
   ]
  },
  {
   "cell_type": "code",
   "execution_count": 1,
   "metadata": {},
   "outputs": [
    {
     "name": "stdout",
     "output_type": "stream",
     "text": [
      "Enter first number:3\n",
      "Enter second number:4\n",
      "x: 1\n",
      "y: 0\n",
      "Divide: 0\n"
     ]
    }
   ],
   "source": [
    "#Check whether two numbers are prime.If both are prime print sum,if one is prime print divide otherwise multiply.\n",
    "def check_prime(num):\n",
    "    count=0\n",
    "    for i in range(2,(num//2+1)):\n",
    "        if(num%i==0):\n",
    "            count+=1\n",
    "    if(count==0 and num!=1):\n",
    "        return 1\n",
    "    else:\n",
    "        return 0\n",
    "\n",
    "num1=int(input(\"Enter first number:\"))\n",
    "num2=int(input(\"Enter second number:\"))\n",
    "\n",
    "x=check_prime(num1)\n",
    "y=check_prime(num2)\n",
    "print(\"x:\",x)\n",
    "print(\"y:\",y)\n",
    "\n",
    "if x==1 and y==1:\n",
    "    print(\"Sum:\",num1+num2)\n",
    "elif (x==1 and y==0) or (x==0 and y==1):\n",
    "    print(\"Divide:\",num1//num2)\n",
    "else:\n",
    "    print(\"Multiply:\",num1*num2)"
   ]
  },
  {
   "cell_type": "code",
   "execution_count": 20,
   "metadata": {},
   "outputs": [
    {
     "name": "stdout",
     "output_type": "stream",
     "text": [
      "Enter a number:33\n",
      "Single digit number: 6\n"
     ]
    }
   ],
   "source": [
    "#Find the sum of digits of a number.Keep on adding numbers until it becomes a single digit.\n",
    "def single_digit(num):\n",
    "    sum=0\n",
    "    while(num!=0):\n",
    "        rem=num%10\n",
    "        num=num//10\n",
    "        sum+=rem\n",
    "    q=sum\n",
    "    if(len(str(q))>1):\n",
    "        single_digit(q)\n",
    "    else:\n",
    "        print(\"Single digit number:\",q)\n",
    "\n",
    "no=int(input(\"Enter a number:\"))\n",
    "single_digit(no)"
   ]
  },
  {
   "cell_type": "code",
   "execution_count": 27,
   "metadata": {},
   "outputs": [
    {
     "name": "stdout",
     "output_type": "stream",
     "text": [
      "Enter size of List:5\n",
      "Enter element in List:1\n",
      "Enter element in List:2\n",
      "Enter element in List:3\n",
      "Enter element in List:4\n",
      "Enter element in List:5\n",
      "Sum of odd numbers: 9\n",
      "Sum of even numbers: 6\n",
      "Odd Numbers List: [1, 3, 5]\n",
      "Count of odd numbers in list: 3\n",
      "Even Numbers List: [2, 4]\n",
      "Count of even numbers in list: 2\n"
     ]
    }
   ],
   "source": [
    "#Read numbers from a list and find sum of odd numbers and count of odd numbers in odd list,sum of even number and count of even\n",
    "#numbers in even list.\n",
    "size=eval(input(\"Enter size of List:\"))\n",
    "L=[]\n",
    "odd_list=[]\n",
    "even_list=[]\n",
    "for i in range(0,size):\n",
    "    a=int(input(\"Enter element in List:\"))\n",
    "    L.append(a)\n",
    "sum1=0\n",
    "sum2=0\n",
    "for item in L:\n",
    "    if item%2!=0:\n",
    "        sum1+=item\n",
    "        odd_list.append(item)\n",
    "    else:\n",
    "        sum2+=item\n",
    "        even_list.append(item)\n",
    "        \n",
    "print(\"Sum of odd numbers:\",sum1)\n",
    "print(\"Sum of even numbers:\",sum2)\n",
    "print(\"Odd Numbers List:\",odd_list)\n",
    "print(\"Count of odd numbers in list:\",len(odd_list))\n",
    "print(\"Even Numbers List:\",even_list)\n",
    "print(\"Count of even numbers in list:\",len(even_list))"
   ]
  },
  {
   "cell_type": "code",
   "execution_count": 28,
   "metadata": {},
   "outputs": [
    {
     "name": "stdout",
     "output_type": "stream",
     "text": [
      "['tram', 'scooter', 'car', 'bus']\n",
      "['tram', 'scooter', 'car', 'bus']\n"
     ]
    }
   ],
   "source": [
    "vehicle=['tram','scooter','car']\n",
    "new_vehicle=vehicle\n",
    "new_vehicle.append('bus')\n",
    "print(vehicle)\n",
    "print(new_vehicle)"
   ]
  },
  {
   "cell_type": "code",
   "execution_count": 6,
   "metadata": {},
   "outputs": [
    {
     "name": "stdout",
     "output_type": "stream",
     "text": [
      "Lists should be sorted\n",
      "Enter size of List 1:5\n",
      "Enter element in List 1:1\n",
      "Enter element in List 1:5\n",
      "Enter element in List 1:6\n",
      "Enter element in List 1:9\n",
      "Enter element in List 1:11\n",
      "Enter size of List 2:5\n",
      "Enter element in List 2:3\n",
      "Enter element in List 2:4\n",
      "Enter element in List 2:7\n",
      "Enter element in List 2:8\n",
      "Enter element in List 2:10\n",
      "[1, 3, 4, 5, 3, 4, 6, 3, 4, 7, 8, 9, 3, 4, 7, 8, 10, 11]\n"
     ]
    }
   ],
   "source": [
    "print(\"Lists should be sorted\")\n",
    "size1=eval(input(\"Enter size of List 1:\"))\n",
    "L1=[]\n",
    "for i in range(0,size1):\n",
    "    a=int(input(\"Enter element in List 1:\"))\n",
    "    L1.append(a)\n",
    "size2=eval(input(\"Enter size of List 2:\"))\n",
    "L2=[]\n",
    "L3=[]\n",
    "for i in range(0,size2):\n",
    "    b=int(input(\"Enter element in List 2:\"))\n",
    "    L2.append(b)\n",
    "    \n",
    "for k in range(len(L1)):\n",
    "        for j in range(len(L2)):\n",
    "                if L1[k]>L2[j]:\n",
    "                    L3.append(L2[j])\n",
    "                    j+=1\n",
    "                else:\n",
    "                    L3.append(L1[k])\n",
    "                    k+=1\n",
    "                    break\n",
    "print(L3+L1[k:]+L2[j:])"
   ]
  },
  {
   "cell_type": "code",
   "execution_count": 10,
   "metadata": {},
   "outputs": [
    {
     "name": "stdout",
     "output_type": "stream",
     "text": [
      "The original list 1 is : [1, 5, 6, 9, 11]\n",
      "The original list 2 is : [3, 4, 7, 8, 10]\n",
      "The combined sorted list is : [1, 3, 4, 5, 6, 7, 8, 9, 10, 11]\n"
     ]
    }
   ],
   "source": [
    "# Python3 code to demonstrate \n",
    "# to combine two sorted list  \n",
    "test_list1 = [1, 5, 6, 9, 11] \n",
    "test_list2 = [3, 4, 7, 8, 10] \n",
    "\n",
    "print (\"The original list 1 is : \" + str(test_list1)) \n",
    "print (\"The original list 2 is : \" + str(test_list2)) \n",
    "\n",
    "size_1 = len(test_list1) \n",
    "size_2 = len(test_list2) \n",
    "\n",
    "res = [] \n",
    "i, j = 0, 0\n",
    "\n",
    "while i < size_1 and j < size_2: \n",
    "    if test_list1[i] < test_list2[j]: \n",
    "        res.append(test_list1[i]) \n",
    "        i+=1\n",
    "    else: \n",
    "        res.append(test_list2[j]) \n",
    "        j+=1\n",
    "res = res + test_list1[i:] + test_list2[j:] \n",
    "print (\"The combined sorted list is : \" + str(res)) \n"
   ]
  },
  {
   "cell_type": "code",
   "execution_count": null,
   "metadata": {},
   "outputs": [],
   "source": [
    "#Dictionary"
   ]
  },
  {
   "cell_type": "code",
   "execution_count": 72,
   "metadata": {},
   "outputs": [
    {
     "name": "stdout",
     "output_type": "stream",
     "text": [
      "{}\n",
      "{'monica': 1, 'chandler': 2, 'phoebe': 3, 'joey': 4}\n",
      "{'monica': 'chandler', 'rachel': 'ross'}\n",
      "chandler\n",
      "{'food': {'ham': 1, 'egg': 2}}\n",
      "2\n",
      "dict_keys(['monica', 'chandler', 'phoebe', 'joey'])\n",
      "dict_values([1, 2, 3, 4])\n",
      "length of dictionary: 2\n"
     ]
    }
   ],
   "source": [
    "#Creating a Dictionary\n",
    "dict={}\n",
    "dict1={'monica':1,'chandler':2,'phoebe':3,'joey':4}\n",
    "dict2={'monica':'chandler','rachel':'ross'}\n",
    "dict3={'food':{'ham':1,'egg':2}}\n",
    "#dict4={{'ham':1,'egg':2}:1}\n",
    "\n",
    "print(dict)\n",
    "print(dict1)\n",
    "print(dict2)\n",
    "print(dict2['monica'])                   #d[key]=value\n",
    "print(dict3)\n",
    "print(dict3['food']['egg'])\n",
    "print(dict1.keys())\n",
    "print(dict1.values())\n",
    "print(\"length of dictionary:\",len(dict2))\n",
    "#print(dict1.has_key('monica'))"
   ]
  },
  {
   "cell_type": "code",
   "execution_count": 69,
   "metadata": {},
   "outputs": [
    {
     "name": "stdout",
     "output_type": "stream",
     "text": [
      "Contact Phoebe at New York\n",
      "Contact Chandler at Los Angeles\n",
      "Phoebe : New York\n",
      "Chandler : Los Angeles\n",
      "Key is present\n",
      "New York\n"
     ]
    }
   ],
   "source": [
    "#Iterating through a Dictionary\n",
    "ab={'Phoebe':'New York','Chandler':'Los Angeles'}\n",
    "\n",
    "#Method 1:\n",
    "for name,address in ab.items():\n",
    "    print('Contact {} at {}'.format(name,address))\n",
    "    \n",
    "#Method 2:\n",
    "for key in ab:\n",
    "    print(key,\":\",ab[key])\n",
    "    \n",
    "if 'Chandler' in ab:\n",
    "    print(\"Key is present\")\n",
    "    \n",
    "print(ab.get('Phoebe'))           #get() function returns the corresponding value associated with the key."
   ]
  },
  {
   "cell_type": "code",
   "execution_count": 66,
   "metadata": {},
   "outputs": [
    {
     "name": "stdout",
     "output_type": "stream",
     "text": [
      "Enter a string:hello\n",
      "{'h': 1, 'e': 1, 'l': 2, 'o': 1}\n"
     ]
    }
   ],
   "source": [
    "# Input: parrot\n",
    "# Output: ['p':1,'a':1,'r':2,'o':1,'t':1]\n",
    "str=input(\"Enter a string:\")\n",
    "def histogram(str):\n",
    "    d={}\n",
    "    for ch in str:\n",
    "        if ch not in d:    #If character is not already present in dictionary,then assign it a value of 1.\n",
    "            d[ch]=1        #d[key]=value\n",
    "        else:\n",
    "            d[ch]+=1       #If character is already present in dictionary,then increment its frequency.\n",
    "    print(d)\n",
    "#call\n",
    "histogram(str)"
   ]
  },
  {
   "cell_type": "code",
   "execution_count": 68,
   "metadata": {},
   "outputs": [
    {
     "name": "stdout",
     "output_type": "stream",
     "text": [
      "{1: ['p', 'a', 'o', 't'], 2: ['r']}\n"
     ]
    }
   ],
   "source": [
    "# Input:  {'p':1,'a':1,'r':2,'o':1,'t':1}\n",
    "# Output: {1:['p','a','o','t'],2:['r']}\n",
    "d={'p':1,'a':1,'r':2,'o':1,'t':1}\n",
    "def invert(d):\n",
    "    d1={}\n",
    "    for key in d:\n",
    "        val=d[key]\n",
    "        if val not in d1:\n",
    "            d1[val]=[key]     #[] brackets make it a list\n",
    "        else:\n",
    "            d1[val].append(key)\n",
    "    print(d1)\n",
    "#call\n",
    "invert(d)"
   ]
  },
  {
   "cell_type": "code",
   "execution_count": 73,
   "metadata": {},
   "outputs": [
    {
     "name": "stdout",
     "output_type": "stream",
     "text": [
      "6\n",
      "2\n",
      "1\n"
     ]
    }
   ],
   "source": [
    "#in-built functions\n",
    "d={'p':1,'a':1,'r':2,'o':1,'t':1}\n",
    "print(sum(d.values()))      #It returns sum of all the values in dictionary\n",
    "print(max(d.values()))      #It returns the maximum value\n",
    "print(min(d.values()))      #It returns the minimum value"
   ]
  },
  {
   "cell_type": "code",
   "execution_count": 75,
   "metadata": {},
   "outputs": [
    {
     "name": "stdout",
     "output_type": "stream",
     "text": [
      "Total sum of values: 6\n"
     ]
    }
   ],
   "source": [
    "#Implementing in-built sum() function \n",
    "d1={'p':1,'a':1,'r':2,'o':1,'t':1}\n",
    "sum=0\n",
    "for key in d1:\n",
    "    sum+=d1[key]\n",
    "print(\"Total sum of values in dictionary:\",sum)"
   ]
  },
  {
   "cell_type": "code",
   "execution_count": 19,
   "metadata": {},
   "outputs": [
    {
     "name": "stdout",
     "output_type": "stream",
     "text": [
      "Maximum value in dictionary: 2\n"
     ]
    }
   ],
   "source": [
    "#Implementing in-built max() function\n",
    "d1={'p':1,'a':1,'r':2,'o':1,'t':1}\n",
    "max=0\n",
    "for key in d1:\n",
    "    if d1[key]>max:\n",
    "        max=d1[key]\n",
    "print(\"Maximum value in dictionary:\",max)"
   ]
  },
  {
   "cell_type": "code",
   "execution_count": 4,
   "metadata": {},
   "outputs": [
    {
     "name": "stdout",
     "output_type": "stream",
     "text": [
      "Minimum value in dictionary: 1\n"
     ]
    }
   ],
   "source": [
    "#Implementing in-built min() function\n",
    "d1={'p':1,'a':1,'r':2,'o':1,'t':1}\n",
    "minn=d1['p']\n",
    "for key in d1:\n",
    "    if d1[key]<minn:\n",
    "        minn=d1[key]\n",
    "print(\"Minimum value in dictionary:\",minn)"
   ]
  },
  {
   "cell_type": "code",
   "execution_count": 12,
   "metadata": {},
   "outputs": [
    {
     "name": "stdout",
     "output_type": "stream",
     "text": [
      "{'p': None, 'a': None, 'r': None}\n"
     ]
    }
   ],
   "source": [
    "#Subtract takes dictionaries d1 and d2 and returns a new dictionary that contains all the keys from d1 that are not in d2.\n",
    "#All those values associated with that keys are set to None.\n",
    "d1={'p':1,'a':1,'r':2,'o':1,'t':1}\n",
    "d2={'o':1,'t':1}\n",
    "\n",
    "def subtract(d1,d2):\n",
    "    res={}\n",
    "    for key in d1:\n",
    "        if key not in d2:\n",
    "            res[key]=None       #Value of key is set to None\n",
    "    print(res)\n",
    "    \n",
    "#call\n",
    "subtract(d1,d2)"
   ]
  },
  {
   "cell_type": "code",
   "execution_count": 21,
   "metadata": {},
   "outputs": [
    {
     "name": "stdout",
     "output_type": "stream",
     "text": [
      "Empty Dictionary: \n",
      "{}\n",
      "\n",
      "Dictionary after adding 3 elements: \n",
      "{0: 'Geeks', 2: 'For', 3: 1}\n",
      "\n",
      "Dictionary after adding 3 elements: \n",
      "{0: 'Geeks', 2: 'For', 3: 1, 'Value_set': {2, 3, 4}}\n",
      "\n",
      "Updated key value: \n",
      "{0: 'Geeks', 2: 'Welcome', 3: 1, 'Value_set': {2, 3, 4}}\n",
      "\n",
      "Adding a Nested Key: \n",
      "{0: 'Geeks', 2: 'Welcome', 3: 1, 'Value_set': {2, 3, 4}, 5: {'Nested': {'1': 'Life', '2': 'Geeks'}}}\n"
     ]
    }
   ],
   "source": [
    "# Creating an empty Dictionary \n",
    "Dict = {} \n",
    "print(\"Empty Dictionary: \") \n",
    "print(Dict) \n",
    "\n",
    "# Adding elements one at a time \n",
    "Dict[0] = 'Geeks'\n",
    "Dict[2] = 'For'\n",
    "Dict[3] = 1\n",
    "print(\"\\nDictionary after adding 3 elements: \") \n",
    "print(Dict) \n",
    "\n",
    "# Adding set of values \n",
    "# to a single Key \n",
    "Dict['Value_set'] = {2, 3, 4}\n",
    "print(\"\\nDictionary after adding 3 elements: \") \n",
    "print(Dict) \n",
    "\n",
    "# Updating existing Key's Value \n",
    "Dict[2] = 'Welcome'\n",
    "print(\"\\nUpdated key value: \") \n",
    "print(Dict) \n",
    "\n",
    "# Adding Nested Key value to Dictionary \n",
    "Dict[5] = {'Nested' :{'1' : 'Life', '2' : 'Geeks'}} \n",
    "print(\"\\nAdding a Nested Key: \") \n",
    "print(Dict) \n"
   ]
  },
  {
   "cell_type": "code",
   "execution_count": 24,
   "metadata": {},
   "outputs": [
    {
     "name": "stdout",
     "output_type": "stream",
     "text": [
      "Accessing an element using get:\n",
      "Geeks\n"
     ]
    }
   ],
   "source": [
    "#Creating a Dictionary \n",
    "Dict = {1: 'Geeks', 'name': 'For', 3: 'Geeks'} \n",
    "\n",
    "#Accessing an element using get() method \n",
    "print(\"Accessing an element using get:\") \n",
    "print(Dict.get(3)) "
   ]
  },
  {
   "cell_type": "code",
   "execution_count": 25,
   "metadata": {},
   "outputs": [
    {
     "name": "stdout",
     "output_type": "stream",
     "text": [
      "Enter a string:hello this is my string\n",
      "{'e': 1, 'o': 1, 'i': 3}\n"
     ]
    }
   ],
   "source": [
    "#To input a string,count the occurences of vowels in the string,then make a dictionary and take vowels as key and their occurence\n",
    "#as value.\n",
    "str=input(\"Enter a string:\")\n",
    "d=dict()\n",
    "for ch in str:\n",
    "    if ch=='a' or ch=='e' or ch=='i' or ch=='o' or ch=='u':\n",
    "        if ch not in d:            #if key is not already made,then set its value to 1\n",
    "            d[ch]=1\n",
    "        else:\n",
    "            d[ch]+=1               #otherwise,increment its value\n",
    "print(d)"
   ]
  },
  {
   "cell_type": "code",
   "execution_count": 26,
   "metadata": {},
   "outputs": [
    {
     "name": "stdout",
     "output_type": "stream",
     "text": [
      "Enter a number:4\n",
      "{1: 1, 2: 4, 3: 9, 4: 16}\n"
     ]
    }
   ],
   "source": [
    "#With a given integral number n,WAP to generate a dictionary that contains(i,i*i) such that it is an integral no. b/w i and n\n",
    "#(both included) and then program should print the dictionary.\n",
    "num=int(input(\"Enter a number:\"))\n",
    "d=dict()\n",
    "for i in range(1,num+1):\n",
    "    d[i]=i*i\n",
    "print(d)"
   ]
  },
  {
   "cell_type": "code",
   "execution_count": 32,
   "metadata": {},
   "outputs": [
    {
     "name": "stdout",
     "output_type": "stream",
     "text": [
      "Enter a number:3\n",
      "{1: 1.0, 2: 1.41, 3: 1.73}\n"
     ]
    }
   ],
   "source": [
    "num=int(input(\"Enter a number:\"))\n",
    "d=dict()\n",
    "for i in range(1,num+1):\n",
    "    d[i]=round(i**0.5,2)\n",
    "print(d)"
   ]
  },
  {
   "cell_type": "code",
   "execution_count": 31,
   "metadata": {},
   "outputs": [
    {
     "name": "stdout",
     "output_type": "stream",
     "text": [
      "anu\n",
      "renu\n",
      "anil\n",
      "dog : dubo\n",
      "cat : cutie\n"
     ]
    }
   ],
   "source": [
    "person=dict()\n",
    "person['children']=['anu','renu','anil']     #key has a value as list\n",
    "person['pets']={'dog':'dubo','cat':'cutie'}  #key has a value as dictionary\n",
    "\n",
    "for key,val in person.items():\n",
    "    if type(val) is list:\n",
    "        for i in val:\n",
    "            print(i)\n",
    "    elif type(val) is dict:\n",
    "        for k,v in val.items():\n",
    "            print(k,':',v)"
   ]
  },
  {
   "cell_type": "code",
   "execution_count": 3,
   "metadata": {},
   "outputs": [
    {
     "name": "stdout",
     "output_type": "stream",
     "text": [
      "I Play Hockey\n",
      "I Play Football\n",
      "I Love Hockey\n",
      "I Love Football\n",
      "You Play Hockey\n",
      "You Play Football\n",
      "You Love Hockey\n",
      "You Love Football\n"
     ]
    }
   ],
   "source": [
    "#Please write a program to generate all sentences.\n",
    "Subject=['I','You']\n",
    "Verb=['Play','Love']\n",
    "Object=['Hockey','Football']\n",
    "for s in Subject:\n",
    "    for v in Verb:\n",
    "        for o in Object:\n",
    "            print(s+\" \"+v+\" \"+o)"
   ]
  },
  {
   "cell_type": "code",
   "execution_count": 90,
   "metadata": {},
   "outputs": [
    {
     "name": "stdout",
     "output_type": "stream",
     "text": [
      "{1: 'Moo Point!', 2: 'Unagi', 3: 'Break', 4: 'Monica', 5: 'I know', 6: 'Noooo!!!!'}\n"
     ]
    }
   ],
   "source": [
    "#update() function : To add one dictionary in another.\n",
    "dict1={1:\"Moo Point!\",2:\"Unagi\",3:\"Break\"}\n",
    "dict2={4:\"Monica\",5:\"I know\",6:\"Noooo!!!!\"}\n",
    "dict1.update(dict2)\n",
    "print(dict1)"
   ]
  },
  {
   "cell_type": "code",
   "execution_count": 168,
   "metadata": {},
   "outputs": [
    {
     "name": "stdout",
     "output_type": "stream",
     "text": [
      "{'name': 5, 'age': 5, 'id': 5}\n",
      "{0: None, 1: None, 2: None}\n",
      "{'name': ['name', 'age', 'id'], 'age': ['name', 'age', 'id'], 'id': ['name', 'age', 'id']}\n",
      "{'name': <function <lambda> at 0x00000152CCB7B598>, 'age': <function <lambda> at 0x00000152CCB7B598>, 'id': <function <lambda> at 0x00000152CCB7B598>}\n",
      "{'name': 'hello', 'age': 'hello', 'id': 'hello'}\n",
      "{'name': None, 'age': None, 'id': None}\n"
     ]
    }
   ],
   "source": [
    "#fromkeys() function : To transform sequence into dictionary.\n",
    "seq=['name','age','id']\n",
    "dict1={}\n",
    "\n",
    "dict1=dict.fromkeys(seq,5)\n",
    "print(dict1)\n",
    "#ss=lambda x: x for x in range(0,3)\n",
    "dict1=dict1.fromkeys(range(3))\n",
    "print(dict1)\n",
    "\n",
    "dict1=dict.fromkeys(seq,seq)\n",
    "print(dict1)\n",
    "\n",
    "dict1=dict.fromkeys(seq,lambda:hello)\n",
    "print(dict1)\n",
    "\n",
    "dict1=dict.fromkeys(seq,\"hello\")\n",
    "print(dict1)\n",
    "\n",
    "dict1=dict.fromkeys(seq,None)\n",
    "print(dict1)"
   ]
  },
  {
   "cell_type": "code",
   "execution_count": 76,
   "metadata": {},
   "outputs": [
    {
     "name": "stdout",
     "output_type": "stream",
     "text": [
      "{1: None, 2: None, 'b': None, 'a': None}\n",
      "{1: 10, 2: 10, 'b': 10, 'a': 10}\n",
      "{1: [1], 2: [1], 'b': [1], 'a': [1]}\n",
      "{1: 'ab', 2: 'cd', 3: 'ef'}\n"
     ]
    }
   ],
   "source": [
    "#fromkeys()     Book\n",
    "k={1,'a',2,'b'}\n",
    "#print(type(k))\n",
    "\n",
    "d=dict.fromkeys(k)\n",
    "print(d)\n",
    "\n",
    "d1=dict.fromkeys(k,10)\n",
    "print(d1)\n",
    "\n",
    "v=[1]                 #A list of values can also be provided as an argument.\n",
    "d2=dict.fromkeys(k,v)\n",
    "print(d2)\n",
    "\n",
    "#dictionary comprehensions\n",
    "ke={1,2,3}\n",
    "va=['ab','cd','ef']\n",
    "d3=dict(zip(ke,va))\n",
    "print(d3)"
   ]
  },
  {
   "cell_type": "code",
   "execution_count": 78,
   "metadata": {},
   "outputs": [
    {
     "name": "stdout",
     "output_type": "stream",
     "text": [
      "{'a': 1, 'b': 2, 'c': 3, 'd': 4, 'e': 5}\n"
     ]
    }
   ],
   "source": [
    "# Python code to demonstrate dictionary comprehension \n",
    "\n",
    "# Lists to represent keys and values \n",
    "keys = ['a','b','c','d','e'] \n",
    "values = [1,2,3,4,5] \n",
    "\n",
    "# Method 1:\n",
    "#myDict = { k:v for (k,v) in zip(keys, values)} \n",
    "\n",
    "# Method 2:\n",
    "myDict = dict(zip(keys, values)) \n",
    "\n",
    "print (myDict) "
   ]
  },
  {
   "cell_type": "code",
   "execution_count": 34,
   "metadata": {},
   "outputs": [
    {
     "name": "stdout",
     "output_type": "stream",
     "text": [
      "<class 'dict'>\n",
      "<class 'set'>\n",
      "<class 'dict'>\n"
     ]
    }
   ],
   "source": [
    "d1={}\n",
    "d2={10,20}\n",
    "d3={1:2,2:3}\n",
    "print(type(d1))\n",
    "print(type(d2))\n",
    "print(type(d3))"
   ]
  },
  {
   "cell_type": "code",
   "execution_count": 39,
   "metadata": {},
   "outputs": [
    {
     "name": "stdout",
     "output_type": "stream",
     "text": [
      "100\n",
      "200\n",
      "300\n",
      "0\n"
     ]
    }
   ],
   "source": [
    "#dictionary\n",
    "b={1:100,2:200,3:300}    \n",
    "print(b[1])\n",
    "print(b[2])\n",
    "print(b[3])\n",
    "#print(b[4])\n",
    "\n",
    "#default dictionary\n",
    "from collections import defaultdict\n",
    "c=defaultdict(int)\n",
    "c[1]=100\n",
    "c[2]=200\n",
    "c[3]=300\n",
    "print(c[4])"
   ]
  },
  {
   "cell_type": "code",
   "execution_count": 42,
   "metadata": {},
   "outputs": [
    {
     "name": "stdout",
     "output_type": "stream",
     "text": [
      "{'x': 50, 'y': 60}\n"
     ]
    }
   ],
   "source": [
    "#A dictionary can be constructed from a multiple list of tuples.It uses the dict keyword.\n",
    "d=dict([(\"x\",50),(\"y\",60)])\n",
    "print(d)"
   ]
  },
  {
   "cell_type": "code",
   "execution_count": 43,
   "metadata": {},
   "outputs": [
    {
     "name": "stdout",
     "output_type": "stream",
     "text": [
      "{1: 200}\n"
     ]
    }
   ],
   "source": [
    "#In case of duplicate keys,only the last value will be maintained in the dictionary.\n",
    "q={1:100,1:200}\n",
    "print(q)"
   ]
  },
  {
   "cell_type": "code",
   "execution_count": 47,
   "metadata": {},
   "outputs": [
    {
     "name": "stdout",
     "output_type": "stream",
     "text": [
      "{'key': 100}\n"
     ]
    }
   ],
   "source": [
    "q1={('key'):100}    #tuple can be taken as a key\n",
    "print(q1)\n",
    "#q1={['key']:100}    #list cannot be taken as a key\n",
    "#print(q1)"
   ]
  },
  {
   "cell_type": "code",
   "execution_count": 48,
   "metadata": {},
   "outputs": [
    {
     "name": "stdout",
     "output_type": "stream",
     "text": [
      "True\n"
     ]
    }
   ],
   "source": [
    "#The == operator can be used to compare two dictionaries.\n",
    "d1={1:100,2:200}\n",
    "d2={1:100,2:200}\n",
    "print(d1==d2)"
   ]
  },
  {
   "cell_type": "code",
   "execution_count": 57,
   "metadata": {},
   "outputs": [
    {
     "name": "stdout",
     "output_type": "stream",
     "text": [
      "2\n",
      "{2: 200}\n"
     ]
    }
   ],
   "source": [
    "d1={1:100,2:200}\n",
    "d1=str(d1)\n",
    "print(type(d1))\n",
    "print(len(d1))\n",
    "\n",
    "#del(d1[1])\n",
    "#print(d1)\n",
    "\n",
    "#doubt"
   ]
  },
  {
   "cell_type": "code",
   "execution_count": 89,
   "metadata": {},
   "outputs": [
    {
     "name": "stdout",
     "output_type": "stream",
     "text": [
      "dict_keys([1, 2, 3, 4])\n",
      "dict_values(['a', 'b', 'c', 'd'])\n",
      "None\n",
      "{}\n",
      "dict_items([(1, 'ab'), (2, 'cd'), (3, 'ef')])\n"
     ]
    }
   ],
   "source": [
    "#Dictionary Operations\n",
    "d1={1:\"a\",2:\"b\",3:\"c\",4:\"d\"}\n",
    "print(d1.keys())\n",
    "print(d1.values())\n",
    "print(d1.clear())\n",
    "print(d1)\n",
    "\n",
    "#items()\n",
    "d3={1:'ab',2:'cd',3:'ef'}\n",
    "print(d3.items())"
   ]
  },
  {
   "cell_type": "code",
   "execution_count": 62,
   "metadata": {},
   "outputs": [
    {
     "name": "stdout",
     "output_type": "stream",
     "text": [
      "\n",
      "d1: {1: 100, 2: 'abc', 3: '5+9j'}\n",
      "\n",
      "Type of d1: <class 'dict'>\n",
      "\n",
      "d2: {1: 100, 2: 'abc', 3: '5+9j'}\n",
      "\n",
      "Type of d2: <class 'dict'>\n",
      "\n",
      "d1: {1: 986, 2: 'abc', 3: '5+9j'}\n",
      "\n",
      "d2: {1: 100, 2: 'abc', 3: '5+9j'}\n"
     ]
    }
   ],
   "source": [
    "#copy() function by default performs Shallow Copy.\n",
    "d1={1:100,2:\"abc\",3:\"5+9j\"}\n",
    "print(\"\\nd1:\",d1)\n",
    "print(\"\\nType of d1:\",type(d1))\n",
    "d2=d1.copy()\n",
    "print(\"\\nd2:\",d2)\n",
    "print(\"\\nType of d2:\",type(d2))\n",
    "d1[1]=986\n",
    "print(\"\\nd1:\",d1)\n",
    "print(\"\\nd2:\",d2)"
   ]
  },
  {
   "cell_type": "code",
   "execution_count": 81,
   "metadata": {},
   "outputs": [
    {
     "name": "stdout",
     "output_type": "stream",
     "text": [
      "ab\n",
      "None\n"
     ]
    }
   ],
   "source": [
    "#get() : It is used to find the input key and return the corresponding value.\n",
    "d3={1:'ab',2:'cd',3:'ef'}\n",
    "#print(d3.get())\n",
    "print(d3.get(1))\n",
    "print(d3.get(4))"
   ]
  },
  {
   "cell_type": "code",
   "execution_count": 88,
   "metadata": {},
   "outputs": [
    {
     "name": "stdout",
     "output_type": "stream",
     "text": [
      "{1: None}\n"
     ]
    }
   ],
   "source": [
    "#setdefault()\n",
    "d4={}\n",
    "d4.setdefault(1,None)\n",
    "#d4.setdefault(1,'None')\n",
    "print(d4)"
   ]
  },
  {
   "cell_type": "code",
   "execution_count": 99,
   "metadata": {},
   "outputs": [
    {
     "name": "stdout",
     "output_type": "stream",
     "text": [
      "{1: 10, 2: 'a', 3: 55.43, 4: 'c', 5: 'd'}\n",
      "55.43\n",
      "{1: 10, 2: 'a', 4: 'c', 5: 'd'}\n",
      "Key not found\n"
     ]
    }
   ],
   "source": [
    "#pop():returns the element from the current dictionary object.\n",
    "d1={1:10,2:'a',3:55.43,4:'c',5:'d'}\n",
    "print(d1)\n",
    "print(d1.pop(3))\n",
    "print(d1)\n",
    "#print(d1.pop(10))\n",
    "print(d1.pop(10,\"Key not found\"))"
   ]
  },
  {
   "cell_type": "code",
   "execution_count": 100,
   "metadata": {},
   "outputs": [
    {
     "name": "stdout",
     "output_type": "stream",
     "text": [
      "Stack: {'a': 10, 'b': 20, 'c': 30}\n",
      "top: ('c', 30)\n",
      "Stack after pop: {'a': 10, 'b': 20}\n"
     ]
    }
   ],
   "source": [
    "#popitem():removes the topmost element from the current dictionary object.\n",
    "stack={'a':10,'b':20,'c':30}\n",
    "print(\"Stack:\",stack)\n",
    "top=stack.popitem()\n",
    "print(\"top:\",top)\n",
    "print(\"Stack after pop:\",stack)"
   ]
  },
  {
   "cell_type": "code",
   "execution_count": 103,
   "metadata": {},
   "outputs": [
    {
     "name": "stdout",
     "output_type": "stream",
     "text": [
      "{0: 0, 1: 2, 2: 4, 3: 6, 4: 8, 5: 10, 6: 12, 7: 14, 8: 16, 9: 18}\n"
     ]
    }
   ],
   "source": [
    "#Dictionary Comprehension\n",
    "#stack={y*2 for y in range(10)}\n",
    "stack={y:y*2 for y in range(10)}\n",
    "print(stack)"
   ]
  },
  {
   "cell_type": "code",
   "execution_count": 104,
   "metadata": {},
   "outputs": [
    {
     "name": "stdout",
     "output_type": "stream",
     "text": [
      "{1: 1, 2: 4, 3: 9, 4: 16, 5: 25}\n"
     ]
    }
   ],
   "source": [
    "# Python code to demonstrate dictionary creation using list comprehension \n",
    "myDict = {x: x**2 for x in [1,2,3,4,5]} \n",
    "print (myDict) "
   ]
  },
  {
   "cell_type": "code",
   "execution_count": 107,
   "metadata": {},
   "outputs": [
    {
     "name": "stdout",
     "output_type": "stream",
     "text": [
      "Enter the length:1\n",
      "Enter the key:1\n",
      "Enter the value:2\n",
      "{1: 2}\n"
     ]
    }
   ],
   "source": [
    "#WAP to read the elements of dictionary from console I/O and display the dictionary.\n",
    "d={}\n",
    "n=int(input(\"Enter the length:\"))\n",
    "for i in range(n):\n",
    "    k=eval(input(\"Enter the key:\"))\n",
    "    v=eval(input(\"Enter the value:\"))\n",
    "    d[k]=v\n",
    "    #or,\n",
    "    #x={k:v}\n",
    "    #d.update(x)\n",
    "print(d)"
   ]
  },
  {
   "cell_type": "code",
   "execution_count": 112,
   "metadata": {},
   "outputs": [
    {
     "name": "stdout",
     "output_type": "stream",
     "text": [
      "Enter the length:2\n",
      "Enter the key:1\n",
      "Enter the value:2\n",
      "Enter the key:2\n",
      "Enter the value:3\n",
      "{1: 2, 2: 3}\n",
      "Enter the key to be searched:4\n",
      "The key is not available\n"
     ]
    }
   ],
   "source": [
    "#WAP to check whether or not the user-provided keys are available in the dictionary with 'in' operator.\n",
    "d={}\n",
    "n=int(input(\"Enter the length:\"))\n",
    "for i in range(n):\n",
    "    k=eval(input(\"Enter the key:\"))\n",
    "    v=eval(input(\"Enter the value:\"))\n",
    "    d[k]=v\n",
    "print(d)\n",
    "\n",
    "search_key=eval(input(\"Enter the key to be searched:\"))\n",
    "\n",
    "if search_key in d.keys():\n",
    "    print(\"The key is available\")\n",
    "else:\n",
    "    print(\"The key is not available\")"
   ]
  },
  {
   "cell_type": "code",
   "execution_count": 113,
   "metadata": {},
   "outputs": [
    {
     "name": "stdout",
     "output_type": "stream",
     "text": [
      "Sorted dictionary: [1, 2, 8, 56]\n"
     ]
    }
   ],
   "source": [
    "#WAP to print sorted dictionary.\n",
    "d={1:56,8:90,56:45,2:45}\n",
    "sorted_d=sorted(d)      #sorted function returns a list.\n",
    "print(\"Sorted dictionary:\",sorted_d)"
   ]
  },
  {
   "cell_type": "code",
   "execution_count": 122,
   "metadata": {},
   "outputs": [
    {
     "name": "stdout",
     "output_type": "stream",
     "text": [
      "Dictionary is not empty\n"
     ]
    }
   ],
   "source": [
    "#WAP to check whether the dictionary is empty or not.\n",
    "d={1:20}\n",
    "if (d=={}):\n",
    "    print(\"Dictionary is empty\")\n",
    "else:\n",
    "    print(\"Dictionary is not empty\")"
   ]
  },
  {
   "cell_type": "code",
   "execution_count": 123,
   "metadata": {},
   "outputs": [
    {
     "name": "stdout",
     "output_type": "stream",
     "text": [
      "{}\n"
     ]
    }
   ],
   "source": [
    "#WAP to remove all the items in the input dictionary.\n",
    "d={1:56,8:90,56:45,2:45}\n",
    "d.clear()\n",
    "print(d)"
   ]
  },
  {
   "cell_type": "code",
   "execution_count": 128,
   "metadata": {},
   "outputs": [
    {
     "name": "stdout",
     "output_type": "stream",
     "text": [
      "dictionary: {}\n",
      "set: {'i', 'h', 'a'}\n"
     ]
    }
   ],
   "source": [
    "#d=dict(\"hai\")\n",
    "print(\"dictionary:\",d)\n",
    "s=set(\"hai\")\n",
    "print(\"set:\",s)"
   ]
  },
  {
   "cell_type": "code",
   "execution_count": 136,
   "metadata": {},
   "outputs": [
    {
     "name": "stdout",
     "output_type": "stream",
     "text": [
      "Counter({1: 3, 2: 2, 3: 2, 4: 1, 6: 1, 7: 1, 8: 1})\n",
      "3\n"
     ]
    }
   ],
   "source": [
    "#Counter\n",
    "from collections import Counter\n",
    "\n",
    "list1=[1,2,3,4,1,2,6,7,3,8,1]\n",
    "cnt=Counter(list1)           #The counter() function takes an iterable/mapping as argument and returns a dictionary.\n",
    "print(cnt)\n",
    "print(cnt[1])"
   ]
  },
  {
   "cell_type": "code",
   "execution_count": 167,
   "metadata": {},
   "outputs": [
    {
     "name": "stdout",
     "output_type": "stream",
     "text": [
      "Type of counter object: <class 'collections.Counter'>\n",
      "(1, 1, 1, 2, 2, 2, 2)\n",
      "<itertools.chain object at 0x00000152CCB83E80>\n"
     ]
    }
   ],
   "source": [
    "#elements() function of Counter\n",
    "\n",
    "#list1=[1,2,3,4,1,2,6,7,3,8,1]\n",
    "d={1:3,2:4}\n",
    "cnt=Counter(d)\n",
    "print(\"Type of counter object:\",type(cnt))\n",
    "print(tuple(cnt.elements()))\n",
    "print(list(cnt.elements()))\n",
    "\n",
    "#doubt"
   ]
  },
  {
   "cell_type": "code",
   "execution_count": 144,
   "metadata": {},
   "outputs": [
    {
     "name": "stdout",
     "output_type": "stream",
     "text": [
      "[(1, 3), (2, 2), (3, 2), (4, 1), (6, 1), (7, 1), (8, 1)]\n"
     ]
    }
   ],
   "source": [
    "# most_common() function: It is applicable on counter object only.\n",
    "list1=[1,2,3,4,1,2,6,7,3,8,1]\n",
    "cnt=Counter(list1)\n",
    "print(cnt.most_common())"
   ]
  },
  {
   "cell_type": "code",
   "execution_count": 151,
   "metadata": {},
   "outputs": [
    {
     "name": "stdout",
     "output_type": "stream",
     "text": [
      "Counter({1: 2, 2: 2})\n"
     ]
    }
   ],
   "source": [
    "# subtract() function\n",
    "d={1:3,2:4}\n",
    "cnt=Counter(d)\n",
    "deduct={1:1,2:2}\n",
    "cnt.subtract(deduct)\n",
    "print(cnt)"
   ]
  },
  {
   "cell_type": "code",
   "execution_count": 152,
   "metadata": {},
   "outputs": [
    {
     "name": "stdout",
     "output_type": "stream",
     "text": [
      "0\n"
     ]
    }
   ],
   "source": [
    "#defaultdict\n",
    "from collections import defaultdict\n",
    "\n",
    "nums=defaultdict(int)\n",
    "nums['one']=1\n",
    "nums['two']=2\n",
    "print(nums['three'])"
   ]
  },
  {
   "cell_type": "code",
   "execution_count": 155,
   "metadata": {},
   "outputs": [
    {
     "name": "stdout",
     "output_type": "stream",
     "text": [
      "<class 'collections.defaultdict'>\n",
      "<class 'list'>\n",
      "defaultdict(<class 'int'>, {'Mark': 3, 'John': 4, 'Smith': 2, 'Hedger': 1})\n"
     ]
    }
   ],
   "source": [
    "count=defaultdict(int)\n",
    "print(type(count))\n",
    "names_list=\"Mark John Smith Mark Mark John Hedger Smith John John\".split()   #split() function returns a list\n",
    "print(type(names_list))\n",
    "for names in names_list:\n",
    "    count[names]+=1\n",
    "print(count)"
   ]
  },
  {
   "cell_type": "code",
   "execution_count": 156,
   "metadata": {},
   "outputs": [
    {
     "name": "stdout",
     "output_type": "stream",
     "text": [
      "Python\n",
      "hello\n"
     ]
    }
   ],
   "source": [
    "text=defaultdict(lambda:'hello')\n",
    "text['a']='Python'\n",
    "text['b']='Java'\n",
    "print(text['a'])\n",
    "print(text['c'])"
   ]
  },
  {
   "cell_type": "code",
   "execution_count": 16,
   "metadata": {},
   "outputs": [
    {
     "name": "stdout",
     "output_type": "stream",
     "text": [
      "d[k] ['Jalandhar']\n",
      "d[k] ['Jalandhar', 'Amritsar']\n",
      "d[k] ['Shimla']\n",
      "d[k] ['Delhi']\n",
      "d[k] ['Delhi', 'Hisar']\n",
      "defaultdict(<class 'list'>, {'Punjab': ['Jalandhar', 'Amritsar'], 'Himachal': ['Shimla'], 'Haryana': ['Delhi', 'Hisar']})\n"
     ]
    }
   ],
   "source": [
    "# Input : city_list=[('Punjab','Jalandhar'),('Punjab','Amritsar'),('Himachal','Shimla'),('Haryana','Delhi'),('Haryana','Hisar')]\n",
    "# Output: {'Punjab':['Jalandhar','Amritsar'],'Himachal':['Shimla'],'Haryana':['Delhi','Hisar'] }\n",
    "from collections import defaultdict\n",
    "city_list=[('Punjab','Jalandhar'),('Punjab','Amritsar'),('Himachal','Shimla'),('Haryana','Delhi'),('Haryana','Hisar')]\n",
    "d=defaultdict(list)\n",
    "for k,v in city_list:\n",
    "    d[k].append(v)\n",
    "    print(\"d[k]\",d[k])\n",
    "print(d)"
   ]
  },
  {
   "cell_type": "code",
   "execution_count": 15,
   "metadata": {},
   "outputs": [
    {
     "name": "stdout",
     "output_type": "stream",
     "text": [
      "k Punjab\n",
      "v Jalandhar\n",
      "k Himachal\n",
      "v Shimla\n",
      "k Haryana\n",
      "v Delhi\n",
      "d: {'Punjab': ['Jalandhar', 'Amritsar'], 'Himachal': ['Shimla'], 'Haryana': ['Delhi', 'Hisar']}\n"
     ]
    }
   ],
   "source": [
    "city_list=[('Punjab','Jalandhar'),('Punjab','Amritsar'),('Himachal','Shimla'),('Haryana','Delhi'),('Haryana','Hisar')]\n",
    "d=dict()\n",
    "for k,v in city_list:\n",
    "    if k not in d:\n",
    "        print(\"k\",k)\n",
    "        print(\"v\",v)\n",
    "        d[k]=[v]\n",
    "    else:\n",
    "        d[k].append(v)\n",
    "print(\"d:\",d)"
   ]
  },
  {
   "cell_type": "code",
   "execution_count": 18,
   "metadata": {},
   "outputs": [
    {
     "name": "stdout",
     "output_type": "stream",
     "text": [
      "monica : ['chandler']\n",
      "regina : ['phalange']\n"
     ]
    }
   ],
   "source": [
    "from collections import defaultdict\n",
    "d=defaultdict(list)\n",
    "d['monica'].append('chandler')\n",
    "d['regina'].append('phalange')\n",
    "for k,v in d.items():\n",
    "    print(k,\":\",v)"
   ]
  },
  {
   "cell_type": "code",
   "execution_count": null,
   "metadata": {},
   "outputs": [],
   "source": [
    "#Numpy Library"
   ]
  },
  {
   "cell_type": "code",
   "execution_count": 30,
   "metadata": {},
   "outputs": [
    {
     "name": "stdout",
     "output_type": "stream",
     "text": [
      "a: [1 2 3 4]\n",
      "Type of a: <class 'numpy.ndarray'>\n",
      "Data type of array a: int32\n",
      "Data type of array b: float64\n",
      "Data type of array c: float64\n",
      "Data type of array d: <U1\n",
      "Data type of array e: <U15\n",
      "4\n",
      "60\n",
      "8\n",
      "Number of elements in array a: 4\n",
      "Shape of array a: (4,)\n"
     ]
    }
   ],
   "source": [
    "import numpy as np\n",
    "from numpy import *\n",
    "\n",
    "a=array([1,2,3,4])\n",
    "b=array([1.4,2.4,5.8])\n",
    "c=array([1.5,1,4.5])\n",
    "d=array(['a','b','c'])\n",
    "e=array(['Monica','Rachel','123456789012345'])\n",
    "print(\"a:\",a)\n",
    "print(\"Type of a:\",type(a))\n",
    "print(\"Data type of array a:\",a.dtype)     #32-bit integer\n",
    "print(\"Data type of array b:\",b.dtype)\n",
    "print(\"Data type of array c:\",c.dtype)\n",
    "print(\"Data type of array d:\",d.dtype)\n",
    "print(\"Data type of array e:\",e.dtype)\n",
    "print(a.itemsize)\n",
    "print(e.itemsize)\n",
    "print(b.itemsize)\n",
    "print(\"Number of elements in array a:\",a.size)\n",
    "print(\"Shape of array a:\",a.shape)"
   ]
  },
  {
   "cell_type": "code",
   "execution_count": 50,
   "metadata": {},
   "outputs": [
    {
     "name": "stdout",
     "output_type": "stream",
     "text": [
      "a: [1 2 3 4]\n",
      "\n",
      "a[0]: 1\n",
      "\n",
      " a.fill(9) : [9 9 9 9]\n",
      "\n",
      "a[:] : [2 2 2 2]\n",
      "a[0] : [10  2  2  2]\n",
      "\n",
      "b: [[ 1  2  3  4  5]\n",
      " [ 6  7  8  9 10]\n",
      " [11 12 13 14 15]\n",
      " [ 1  3  5  7  9]]\n",
      "\n",
      "b[0,3:4] : [4]\n",
      "\n",
      "b[2:,2:] : [[13 14 15]\n",
      " [ 5  7  9]]\n",
      "\n",
      "b[:2,:2] : [[1 2]\n",
      " [6 7]]\n",
      "\n",
      "b[2:,0] : [11  1]\n",
      "\n",
      "b[2:,2:] : [[13 14 15]\n",
      " [ 5  7  9]]\n",
      "\n",
      "b[-1:,-1:] : [[9]]\n",
      "\n",
      "b[-1:,-2:] : [[7 9]]\n",
      "\n",
      "b[-3:,-2:] : [[ 9 10]\n",
      " [14 15]\n",
      " [ 7  9]]\n",
      "\n",
      "b[-3:,-1:] : [[10]\n",
      " [15]\n",
      " [ 9]]\n"
     ]
    }
   ],
   "source": [
    "a=array([1,2,3,4])\n",
    "print(\"a:\",a)\n",
    "print(\"\\na[0]:\",a[0])\n",
    "\n",
    "a.fill(9)\n",
    "print(\"\\n a.fill(9) :\",a)\n",
    "#or use Slicing\n",
    "a[:]=2\n",
    "print(\"\\na[:] :\",a)\n",
    "\n",
    "a[0]=10.4\n",
    "print(\"a[0] :\",a)\n",
    "#Slicing is a view,that means the changes done using slicing are permanent.\n",
    "\n",
    "b=array([[1,2,3,4,5],[6,7,8,9,10],[11,12,13,14,15],[1,3,5,7,9]])\n",
    "print(\"\\nb:\",b)\n",
    "print(\"\\nb[0,3:4] :\",b[0,3:4])\n",
    "print(\"\\nb[2:,2:] :\",b[2:,2:])\n",
    "print(\"\\nb[:2,:2] :\",b[:2,:2])\n",
    "print(\"\\nb[2:,0] :\",b[2:,0])   #doubt\n",
    "print(\"\\nb[2:,2:] :\",b[2:,2:])\n",
    "print(\"\\nb[-1:,-1:] :\",b[-1:,-1:])\n",
    "print(\"\\nb[-1:,-2:] :\",b[-1:,-2:])\n",
    "print(\"\\nb[-3:,-2:] :\",b[-3:,-2:])\n",
    "print(\"\\nb[-3:,-1:] :\",b[-3:,-1:])\n",
    "print(\"\\nb[-3:,-1:] :\",b[-3:,-1:])"
   ]
  },
  {
   "cell_type": "code",
   "execution_count": 56,
   "metadata": {},
   "outputs": [
    {
     "name": "stdout",
     "output_type": "stream",
     "text": [
      "b: [[ 1  2  3  4  5]\n",
      " [ 6  7  8  9 10]\n",
      " [11 12 13 14 15]\n",
      " [ 1  3  5  7  9]\n",
      " [ 4  5  6  7  8]]\n",
      "\n",
      "b[2::2,::2] : [[11 13 15]\n",
      " [ 4  6  8]]\n",
      "\n",
      "b[0::3,1::3] : [[2 5]\n",
      " [3 9]]\n"
     ]
    }
   ],
   "source": [
    "#Strides\n",
    "b=array([[1,2,3,4,5],[6,7,8,9,10],[11,12,13,14,15],[1,3,5,7,9],[4,5,6,7,8]])\n",
    "print(\"b:\",b)\n",
    "print(\"\\nb[2::2,::2] :\",b[2::2,::2])\n",
    "\n",
    "print(\"\\nb[0::3,1::3] :\",b[0::3,1::3]) \n",
    "#Start from row    0 and skip by a factor of 3\n",
    "#Start from column 1 and skip by a factor of 3"
   ]
  },
  {
   "cell_type": "code",
   "execution_count": 117,
   "metadata": {},
   "outputs": [
    {
     "name": "stdout",
     "output_type": "stream",
     "text": [
      "x: [0 1 2 3]\n",
      "\n",
      "arange(9) : [0 1 2 3 4 5 6 7 8]\n",
      "\n",
      "b: [1 3]\n",
      "\n",
      "d: [2. 4. 6.]\n",
      "\n",
      "b: [[ 0  1  2]\n",
      " [ 3  4  5]\n",
      " [ 6  7  8]\n",
      " [ 9 10 11]]\n",
      "\n",
      "b.reshape(2,6) : [[ 0  1  2  3  4  5]\n",
      " [ 6  7  8  9 10 11]]\n",
      "\n",
      "y: [[1. 1.]\n",
      " [1. 1.]\n",
      " [1. 1.]]\n",
      "\n",
      "Type of y: float64\n",
      "\n",
      "z: [[1. 1. 1.]\n",
      " [1. 1. 1.]\n",
      " [1. 1. 1.]\n",
      " [1. 1. 1.]]\n",
      "\n",
      "Type of z: float64\n",
      "\n",
      "c: [[1 1 1]\n",
      " [1 1 1]\n",
      " [1 1 1]]\n",
      "\n",
      "Type of c: int32\n",
      "\n",
      "zeros((5,6)) : [[0. 0. 0. 0. 0. 0.]\n",
      " [0. 0. 0. 0. 0. 0.]\n",
      " [0. 0. 0. 0. 0. 0.]\n",
      " [0. 0. 0. 0. 0. 0.]\n",
      " [0. 0. 0. 0. 0. 0.]]\n"
     ]
    }
   ],
   "source": [
    "#Quick Method to create Array\n",
    "\n",
    "# arange(start,stop,step,dtype)\n",
    "x=arange(4)\n",
    "print(\"x:\",x)\n",
    "print(\"\\narange(9) :\",arange(9))\n",
    "b=arange(1,5,2)\n",
    "print(\"\\nb:\",b)\n",
    "d=arange(2,8,2,float)\n",
    "print(\"\\nd:\",d)\n",
    "\n",
    "b=arange(12).reshape(4,3)\n",
    "print(\"\\nb:\",b)\n",
    "#print(b.reshape(5,4))        ValueError: cannot reshape array of size 12 into shape (5,4)\n",
    "print(\"\\nb.reshape(2,6) :\",b.reshape(2,6))\n",
    "\n",
    "\n",
    "\n",
    "# ones(shape,dtype,order)\n",
    "y=ones((3,2),float,'F')\n",
    "print(\"\\ny:\",y)\n",
    "print(\"\\nType of y:\",y.dtype)\n",
    "\n",
    "z=ones((4,3))\n",
    "print(\"\\nz:\",z)\n",
    "print(\"\\nType of z:\",z.dtype)    #default data type is : float64\n",
    "\n",
    "c=ones((3,3),int)\n",
    "print(\"\\nc:\",c)\n",
    "print(\"\\nType of c:\",c.dtype)\n",
    "\n",
    "\n",
    "#zeros()\n",
    "print(\"\\nzeros((5,6)) :\",zeros((5,6)))"
   ]
  },
  {
   "cell_type": "code",
   "execution_count": 104,
   "metadata": {},
   "outputs": [
    {
     "name": "stdout",
     "output_type": "stream",
     "text": [
      "\n",
      "y: [0.04988919 0.50661826 0.22297211]\n",
      "Data type of y: float64\n",
      "\n",
      "x: [[0.1984073  0.84980247]\n",
      " [0.04524882 0.8637108 ]\n",
      " [0.60116914 0.00335781]]\n",
      "\n",
      "z: [[1.90020842 1.48961468]\n",
      " [3.74315804 3.26194956]\n",
      " [4.14938898 1.7892396 ]]\n"
     ]
    }
   ],
   "source": [
    "# random in numpy\n",
    "y=np.random.random(3)\n",
    "print(\"\\ny:\",y)\n",
    "print(\"Data type of y:\",y.dtype)\n",
    "\n",
    "x=np.random.random_sample((3, 2))     #or   random.random_sample((3,2))\n",
    "print(\"\\nx:\",x)\n",
    "\n",
    "z=5*np.random.random_sample((3, 2))\n",
    "print(\"\\nz:\",z)"
   ]
  },
  {
   "cell_type": "code",
   "execution_count": 119,
   "metadata": {},
   "outputs": [
    {
     "name": "stdout",
     "output_type": "stream",
     "text": [
      "1\n",
      "1\n",
      "1\n",
      "2\n",
      "[0, 0, 0][0, 0, 1][0, 1, 0][1, 0, 0][1, 1, 1]"
     ]
    }
   ],
   "source": [
    "x=int(input())\n",
    "y=int(input())\n",
    "z=int(input())\n",
    "n=int(input())\n",
    "for i in range(x+1):\n",
    "    for j in range(y+1):\n",
    "        for k in range(z+1):\n",
    "            if (i+j+k)!=n:\n",
    "                print([i,j,k],end='')"
   ]
  },
  {
   "cell_type": "code",
   "execution_count": 121,
   "metadata": {},
   "outputs": [
    {
     "name": "stdout",
     "output_type": "stream",
     "text": [
      "1\n",
      "sakshi 12 12 12\n",
      "sakshi\n",
      "12.00\n"
     ]
    }
   ],
   "source": [
    "marks = {}\n",
    "for i in range(int(input())):\n",
    "    line = input().split()\n",
    "    marks[line[0]] = list(map(float, line[1:]))\n",
    "print('%.2f' %(sum(marks[input()])/3))"
   ]
  },
  {
   "cell_type": "code",
   "execution_count": 3,
   "metadata": {},
   "outputs": [
    {
     "name": "stdout",
     "output_type": "stream",
     "text": [
      "Enter no. of students:2\n",
      "Enter name of student and marks in 3 subjects in a single line:sakshi 65 78 90\n",
      "Enter name of student and marks in 3 subjects in a single line:priya 43 45 67\n",
      "sakshi\n"
     ]
    },
    {
     "ename": "TypeError",
     "evalue": "unsupported operand type(s) for +: 'int' and 'str'",
     "output_type": "error",
     "traceback": [
      "\u001b[1;31m---------------------------------------------------------------------------\u001b[0m",
      "\u001b[1;31mTypeError\u001b[0m                                 Traceback (most recent call last)",
      "\u001b[1;32m<ipython-input-3-d3c48f048f60>\u001b[0m in \u001b[0;36m<module>\u001b[1;34m()\u001b[0m\n\u001b[0;32m      3\u001b[0m     \u001b[0mdata\u001b[0m\u001b[1;33m=\u001b[0m\u001b[0minput\u001b[0m\u001b[1;33m(\u001b[0m\u001b[1;34m\"Enter name of student and marks in 3 subjects in a single line:\"\u001b[0m\u001b[1;33m)\u001b[0m\u001b[1;33m.\u001b[0m\u001b[0msplit\u001b[0m\u001b[1;33m(\u001b[0m\u001b[1;33m)\u001b[0m    \u001b[1;31m#it will return a list\u001b[0m\u001b[1;33m\u001b[0m\u001b[0m\n\u001b[0;32m      4\u001b[0m     \u001b[0mmarks\u001b[0m\u001b[1;33m[\u001b[0m\u001b[0mdata\u001b[0m\u001b[1;33m[\u001b[0m\u001b[1;36m0\u001b[0m\u001b[1;33m]\u001b[0m\u001b[1;33m]\u001b[0m\u001b[1;33m=\u001b[0m\u001b[0mlist\u001b[0m\u001b[1;33m(\u001b[0m\u001b[0mdata\u001b[0m\u001b[1;33m[\u001b[0m\u001b[1;36m1\u001b[0m\u001b[1;33m:\u001b[0m\u001b[1;33m]\u001b[0m\u001b[1;33m)\u001b[0m                                      \u001b[1;31m#key:name of student  value:list of marks of that student\u001b[0m\u001b[1;33m\u001b[0m\u001b[0m\n\u001b[1;32m----> 5\u001b[1;33m \u001b[0mavg\u001b[0m\u001b[1;33m=\u001b[0m\u001b[0msum\u001b[0m\u001b[1;33m(\u001b[0m\u001b[0mmarks\u001b[0m\u001b[1;33m[\u001b[0m\u001b[0minput\u001b[0m\u001b[1;33m(\u001b[0m\u001b[1;33m)\u001b[0m\u001b[1;33m]\u001b[0m\u001b[1;33m)\u001b[0m\u001b[1;33m/\u001b[0m\u001b[1;36m3\u001b[0m\u001b[1;33m\u001b[0m\u001b[0m\n\u001b[0m\u001b[0;32m      6\u001b[0m \u001b[0mprint\u001b[0m\u001b[1;33m(\u001b[0m\u001b[0mavg\u001b[0m\u001b[1;33m)\u001b[0m\u001b[1;33m\u001b[0m\u001b[0m\n",
      "\u001b[1;31mTypeError\u001b[0m: unsupported operand type(s) for +: 'int' and 'str'"
     ]
    }
   ],
   "source": [
    "marks={}  #dictionary\n",
    "for i in range(int(input(\"Enter no. of students:\"))):                          #This loop will run for the total no. of students\n",
    "    data=input(\"Enter name of student and marks in 3 subjects in a single line:\").split()    #it will return a list\n",
    "    marks[data[0]]=list(data[1:])                                      #key:name of student  value:list of marks of that student\n",
    "avg=sum(marks[input()])/3\n",
    "print(avg)"
   ]
  },
  {
   "cell_type": "code",
   "execution_count": 16,
   "metadata": {},
   "outputs": [
    {
     "name": "stdout",
     "output_type": "stream",
     "text": [
      "\n",
      "Array corresponding to the list: [1 2 3 4]\n",
      "arr+2 : [3 4 5 6]\n",
      "arr*2 : [2 4 6 8]\n",
      "arr-2 : [-1  0  1  2]\n",
      "\n",
      "Array corresponding to lists of lists: [[1, 2], [3, 4], [5, 6]]\n",
      "\n",
      "Array corresponding to lists of lists of list: [[[  1   2   3]\n",
      "  [  4   5   6]\n",
      "  [  7   8   9]\n",
      "  [ 10  11  12]]\n",
      "\n",
      " [[ 11  22  33]\n",
      "  [ 44  55  66]\n",
      "  [ 77  88  99]\n",
      "  [100 111 112]]]\n"
     ]
    }
   ],
   "source": [
    "#Converting List to Array in Numpy\n",
    "import numpy as np\n",
    "from numpy import *\n",
    "\n",
    "list1=[1,2,3,4]\n",
    "#print(list1)\n",
    "arr=array(list1)       #1-D array\n",
    "#print(\"list1 +2 :\",list1+2)                  TypeError: can only concatenate list (not \"int\") to list\n",
    "print(\"\\nArray corresponding to the list:\",arr)\n",
    "print(\"arr+2 :\",arr+2)\n",
    "print(\"arr*2 :\",arr*2)\n",
    "print(\"arr-2 :\",arr-2)\n",
    "\n",
    "list2=[[1,2],[3,4],[5,6]]\n",
    "arr2=array(list2)     #2-D array\n",
    "print(\"\\nArray corresponding to lists of lists:\",list2)\n",
    "\n",
    "list3=[[[1,2,3],[4,5,6],[7,8,9],[10,11,12]],\n",
    "      [[11,22,33],[44,55,66],[77,88,99],[100,111,112]]]\n",
    "arr3=array(list3)\n",
    "print(\"\\nArray corresponding to lists of lists of list:\",arr3)"
   ]
  },
  {
   "cell_type": "code",
   "execution_count": 27,
   "metadata": {},
   "outputs": [
    {
     "name": "stdout",
     "output_type": "stream",
     "text": [
      "Array arr1 : [1 2 3 4]\n",
      "List corresponding to array: [1, 2, 3, 4]\n",
      "No of dimensions in array: 1\n",
      "Shape of array arr1: (4,)\n",
      "Shape of array arr2: (2, 4, 3)\n",
      "Shape of array arr3: (3, 2)\n"
     ]
    }
   ],
   "source": [
    "#To convert Array to List\n",
    "arr1=array([1,2,3,4])\n",
    "arr2=array([[[1,2,3],[4,5,6],[7,8,9],[10,11,12]],\n",
    "      [[11,22,33],[44,55,66],[77,88,99],[100,111,112]]])\n",
    "arr3=array([[1,2],[3,4],[5,6]])\n",
    "print(\"Array arr1 :\",arr1)\n",
    "print(\"List corresponding to array:\",arr1.tolist())\n",
    "\n",
    "print(\"No of dimensions in array:\",arr1.ndim)\n",
    "print(\"Shape of array arr1:\",arr1.shape)\n",
    "print(\"Shape of array arr2:\",arr2.shape)\n",
    "print(\"Shape of array arr3:\",arr3.shape)"
   ]
  },
  {
   "cell_type": "code",
   "execution_count": 39,
   "metadata": {},
   "outputs": [
    {
     "name": "stdout",
     "output_type": "stream",
     "text": [
      "b: [[False False]\n",
      " [False False]\n",
      " [ True  True]]\n",
      "\n",
      "arr[b]: [5 6]\n",
      "\n",
      "arr[False] : []\n",
      "\n",
      "arr[True] : [[[1 2]\n",
      "  [3 4]\n",
      "  [5 6]]]\n"
     ]
    }
   ],
   "source": [
    "#Logical Expressions can be applied on array\n",
    "arr=array([[1,2],[3,4],[5,6]])\n",
    "b=arr>4\n",
    "print(\"b:\",b)               #It will return an array of True and False\n",
    "print(\"\\narr[b]:\",arr[b])   #It will return as O/P those values which returned True in print(b) statement\n",
    "print(\"\\narr[False] :\",arr[False])\n",
    "print(\"\\narr[True] :\",arr[True])"
   ]
  },
  {
   "cell_type": "code",
   "execution_count": 52,
   "metadata": {},
   "outputs": [
    {
     "ename": "ValueError",
     "evalue": "cannot convert float NaN to integer",
     "output_type": "error",
     "traceback": [
      "\u001b[1;31m---------------------------------------------------------------------------\u001b[0m",
      "\u001b[1;31mValueError\u001b[0m                                Traceback (most recent call last)",
      "\u001b[1;32m<ipython-input-52-561b5b248de4>\u001b[0m in \u001b[0;36m<module>\u001b[1;34m()\u001b[0m\n\u001b[0;32m      1\u001b[0m \u001b[1;31m#nan and inf\u001b[0m\u001b[1;33m\u001b[0m\u001b[1;33m\u001b[0m\u001b[0m\n\u001b[0;32m      2\u001b[0m \u001b[0marr\u001b[0m\u001b[1;33m=\u001b[0m\u001b[0marray\u001b[0m\u001b[1;33m(\u001b[0m\u001b[1;33m[\u001b[0m\u001b[1;33m[\u001b[0m\u001b[1;36m1\u001b[0m\u001b[1;33m,\u001b[0m\u001b[1;36m2\u001b[0m\u001b[1;33m]\u001b[0m\u001b[1;33m,\u001b[0m\u001b[1;33m[\u001b[0m\u001b[1;36m3\u001b[0m\u001b[1;33m,\u001b[0m\u001b[1;36m4\u001b[0m\u001b[1;33m]\u001b[0m\u001b[1;33m,\u001b[0m\u001b[1;33m[\u001b[0m\u001b[1;36m5\u001b[0m\u001b[1;33m,\u001b[0m\u001b[1;36m6\u001b[0m\u001b[1;33m]\u001b[0m\u001b[1;33m]\u001b[0m\u001b[1;33m)\u001b[0m\u001b[1;33m\u001b[0m\u001b[0m\n\u001b[1;32m----> 3\u001b[1;33m \u001b[0marr\u001b[0m\u001b[1;33m[\u001b[0m\u001b[1;36m0\u001b[0m\u001b[1;33m,\u001b[0m\u001b[1;36m1\u001b[0m\u001b[1;33m]\u001b[0m\u001b[1;33m=\u001b[0m\u001b[0mnan\u001b[0m   \u001b[1;31m#doubt\u001b[0m\u001b[1;33m\u001b[0m\u001b[0m\n\u001b[0m\u001b[0;32m      4\u001b[0m \u001b[0mprint\u001b[0m\u001b[1;33m(\u001b[0m\u001b[0marr\u001b[0m\u001b[1;33m)\u001b[0m\u001b[1;33m\u001b[0m\u001b[0m\n\u001b[0;32m      5\u001b[0m \u001b[0marr\u001b[0m\u001b[1;33m[\u001b[0m\u001b[1;36m1\u001b[0m\u001b[1;33m,\u001b[0m\u001b[1;36m1\u001b[0m\u001b[1;33m]\u001b[0m\u001b[1;33m=\u001b[0m\u001b[0minf\u001b[0m\u001b[1;33m\u001b[0m\u001b[0m\n",
      "\u001b[1;31mValueError\u001b[0m: cannot convert float NaN to integer"
     ]
    }
   ],
   "source": [
    "#nan and inf\n",
    "arr=array([[1,2],[3,4],[5,6]])\n",
    "arr[0,1]=nan   #doubt\n",
    "print(arr)\n",
    "arr[1,1]=inf\n",
    "print(\"\\n\",arr)  "
   ]
  },
  {
   "cell_type": "code",
   "execution_count": 49,
   "metadata": {},
   "outputs": [
    {
     "name": "stdout",
     "output_type": "stream",
     "text": [
      "Column-wise min value: [1 2]\n",
      "Row-wise min value: [1 3 5]\n",
      "Cumulative sum: [ 1  3  6 10 15 21]\n",
      "Flattening: [1 2 3 4 5 6]\n"
     ]
    }
   ],
   "source": [
    "arr=array([[1,2],[3,4],[5,6]])\n",
    "print(\"Column-wise min value:\",amin(arr,axis=0))\n",
    "print(\"Row-wise min value:\",amin(arr,axis=1))\n",
    "print(\"Cumulative sum:\",cumsum(arr))\n",
    "print(\"Flattening:\",arr.flatten())"
   ]
  },
  {
   "cell_type": "code",
   "execution_count": 65,
   "metadata": {},
   "outputs": [
    {
     "name": "stdout",
     "output_type": "stream",
     "text": [
      "Array using list : [[1. 2. 3.]\n",
      " [4. 5. 6.]]\n",
      "\n",
      "Array using tuple : [1 2 3]\n",
      "\n",
      "Array with all zeros :\n",
      " [[0. 0. 0.]\n",
      " [0. 0. 0.]]\n",
      "\n",
      "arr3:\n",
      " [[5 5 5]\n",
      " [5 5 5]\n",
      " [5 5 5]]\n",
      "\n",
      "arr4:\n",
      " [[4.+0.j 4.+0.j 4.+0.j]\n",
      " [4.+0.j 4.+0.j 4.+0.j]\n",
      " [4.+0.j 4.+0.j 4.+0.j]]\n",
      "\n",
      "Array with random values :\n",
      " [[0.89870997 0.28605566]\n",
      " [0.70003711 0.26096149]]\n",
      "\n",
      "Arange : [ 0  5 10 15 20 25]\n",
      "\n",
      "Reshaped Array :\n",
      " [[[ 1  2]\n",
      "  [ 3  4]\n",
      "  [ 5  6]]\n",
      "\n",
      " [[ 7  8]\n",
      "  [ 9 10]\n",
      "  [11 12]]]\n",
      "\n",
      "Flattened Array : [ 1  2  3  4  5  6  7  8  9 10 11 12]\n"
     ]
    }
   ],
   "source": [
    "import numpy as np\n",
    "\n",
    "arr=np.array([[1,2,3],[4,5,6]],dtype='float')       #creating array from list with type float\n",
    "print(\"Array using list :\",arr)\n",
    "\n",
    "arr1=np.array((1,2,3))             #creating array from tuple\n",
    "print(\"\\nArray using tuple :\",arr1)\n",
    "\n",
    "arr2=np.zeros((2,3))\n",
    "print(\"\\nArray with all zeros :\\n\",arr2)\n",
    "\n",
    "arr3=np.full((3,3),5)              #creating a constant array with all same values\n",
    "print(\"\\narr3:\\n\",arr3)\n",
    "\n",
    "arr4=np.full((3,3),4,dtype='complex')\n",
    "print(\"\\narr4:\\n\",arr4)\n",
    "\n",
    "arr5=np.random.random((2,2))\n",
    "print(\"\\nArray with random values :\\n\",arr5)\n",
    "\n",
    "arr6=np.arange(0,30,5)       #creates a sequence of integers from 0 to 30 with step size 5\n",
    "print(\"\\nArange :\",arr6)\n",
    "\n",
    "arr8=arr7.flatten()                                         #to flatten the array in single list\n",
    "print(\"\\nFlattened Array :\",arr8)"
   ]
  },
  {
   "cell_type": "code",
   "execution_count": 71,
   "metadata": {},
   "outputs": [
    {
     "name": "stdout",
     "output_type": "stream",
     "text": [
      "\n",
      "Reshaped Array 1 :\n",
      " [[[ 1  2]\n",
      "  [ 3  4]\n",
      "  [ 5  6]]\n",
      "\n",
      " [[ 7  8]\n",
      "  [ 9 10]\n",
      "  [11 12]]]\n",
      "\n",
      "Reshaped Array 2 :\n",
      " [[ 1  2  3  4  5  6]\n",
      " [ 7  8  9 10 11 12]]\n",
      "\n",
      "Reshaped Array 3 :\n",
      " [[[ 1  2]\n",
      "  [ 3  4]]\n",
      "\n",
      " [[ 5  6]\n",
      "  [ 7  8]]\n",
      "\n",
      " [[ 9 10]\n",
      "  [11 12]]]\n"
     ]
    }
   ],
   "source": [
    "#Reshape\n",
    "arr=np.array([[1,2,3],[4,5,6],[7,8,9],[10,11,12]])      #3*4 array\n",
    "rshape1=arr.reshape(2,3,2)                              #creates 2 arrays of 2*3\n",
    "rshape2=arr.reshape(2,6)                                #creates 1 array of 2*6\n",
    "rshape3=arr.reshape(3,2,2)                              #creates 3 arrays of 2*2\n",
    "print(\"\\nReshaped Array 1 :\\n\",rshape1)\n",
    "print(\"\\nReshaped Array 2 :\\n\",rshape2)\n",
    "print(\"\\nReshaped Array 3 :\\n\",rshape3)"
   ]
  },
  {
   "cell_type": "markdown",
   "metadata": {},
   "source": []
  },
  {
   "cell_type": "code",
   "execution_count": 23,
   "metadata": {},
   "outputs": [
    {
     "name": "stdout",
     "output_type": "stream",
     "text": [
      "arr1: [[1 2]\n",
      " [3 4]\n",
      " [5 6]]\n",
      "\n",
      "arr2: [[1 2]\n",
      " [3 4]\n",
      " [5 6]]\n",
      "\n",
      "arr1: [[1 2]\n",
      " [3 4]\n",
      " [5 6]]\n",
      "arr2: [[ 1 10]\n",
      " [ 3  4]\n",
      " [ 5  6]]\n",
      "\n",
      "arr1: [[1 2]\n",
      " [3 4]\n",
      " [5 6]]\n",
      "arr2: [[ 1 10]\n",
      " [ 3  4]\n",
      " [ 5  6]]\n"
     ]
    }
   ],
   "source": [
    "arr1=np.array([[1,2],[3,4],[5,6]])\n",
    "print(\"arr1:\",arr1)\n",
    "\n",
    "arr2=arr1.copy()\n",
    "print(\"\\narr2:\",arr2)\n",
    "\n",
    "arr2[0][1]=10\n",
    "print(\"\\narr1:\",arr1)\n",
    "print(\"arr2:\",arr2)\n",
    "\n",
    "arr3=arr2[:1,:1].copy()    \n",
    "print(\"\\narr1:\",arr1)\n",
    "print(\"arr2:\",arr2)"
   ]
  },
  {
   "cell_type": "markdown",
   "metadata": {},
   "source": [
    "# arr1=[[1,2],[3,4],[5,6]]\n",
    "print(\"arr1:\",arr1)\n",
    "\n",
    "arr2=arr1.copy()\n",
    "print(\"\\narr2:\",arr2)\n",
    "arr3=arr2[:2,:2].copy()\n"
   ]
  },
  {
   "cell_type": "code",
   "execution_count": 2,
   "metadata": {},
   "outputs": [
    {
     "name": "stdout",
     "output_type": "stream",
     "text": [
      "Largest element is :\n",
      " 9\n",
      "Row wise largest element :\n",
      " [3 6 9]\n",
      "Column wise largest element :\n",
      " [7 8 9]\n",
      "Minimum element is :\n",
      " 1\n",
      "Row wise Minimum element is :\n",
      " [1 4 7]\n",
      "Column wise Minimum element is :\n",
      " [1 2 3]\n"
     ]
    }
   ],
   "source": [
    "#Unary Operators\n",
    "import numpy as np\n",
    "arr1=np.array([[1,2,3],[4,5,6],[7,8,9]])\n",
    "\n",
    "print(\"Largest element is :\\n\",arr1.max())\n",
    "print(\"Row wise largest element :\\n\",arr1.max(axis=1))\n",
    "print(\"Column wise largest element :\\n\",arr1.max(axis=0))\n",
    "\n",
    "print(\"Minimum element is :\\n\",arr1.min())\n",
    "print(\"Row wise Minimum element is :\\n\",arr1.min(axis=1))\n",
    "print(\"Column wise Minimum element is :\\n\",arr1.min(axis=0))"
   ]
  },
  {
   "cell_type": "code",
   "execution_count": 5,
   "metadata": {},
   "outputs": [
    {
     "name": "stdout",
     "output_type": "stream",
     "text": [
      "Result : [123 190 100]\n",
      "[188 190  99]\n"
     ]
    }
   ],
   "source": [
    "#Fancy indexing in 1-D\n",
    "C=np.array([123,188,190,99,77,88,100])  #The array C in indexed  by applying a mask(array)\n",
    "A=np.array([4,7,2,8,6,9,5])  #The Boolean mask of one array is used to select the corresponding elements of other array.\n",
    "R=C[A<=5]\n",
    "print(\"Result :\",R)\n",
    "print(C[[1,2,3]])   "
   ]
  },
  {
   "cell_type": "code",
   "execution_count": 6,
   "metadata": {},
   "outputs": [
    {
     "name": "stdout",
     "output_type": "stream",
     "text": [
      "Fancy Indexing in 2-D : [ 1 12 23 34 45]\n"
     ]
    }
   ],
   "source": [
    "#fancy indexing in 2-D\n",
    "arr=np.array([[0,1,2,3,4,5],\n",
    "            [10,11,12,13,14,15],\n",
    "            [20,21,22,23,24,25],\n",
    "            [30,31,32,33,34,35],\n",
    "            [40,41,42,43,44,45],\n",
    "            [50,51,52,53,54,55]])\n",
    "\n",
    "#accessing one to one mapping, 0,1    1,2   2,3   3,4   4,5 \n",
    "\n",
    "a=arr[(0,1,2,3,4),(1,2,3,4,5)]\n",
    "print(\"Fancy Indexing in 2-D :\",a)"
   ]
  },
  {
   "cell_type": "code",
   "execution_count": 7,
   "metadata": {},
   "outputs": [
    {
     "name": "stdout",
     "output_type": "stream",
     "text": [
      "Normal array :\n",
      " [[ 0  1  2  3  4  5]\n",
      " [10 11 12 13 14 15]\n",
      " [20 21 22 23 24 25]\n",
      " [30 31 32 33 34 35]\n",
      " [40 41 42 43 44 45]\n",
      " [50 51 52 53 54 55]]\n",
      "After Indexing :\n",
      " [[30 32 35]\n",
      " [40 42 45]\n",
      " [50 52 55]]\n"
     ]
    }
   ],
   "source": [
    "#fancy indexing in 2-D\n",
    "arr=np.array([[0,1,2,3,4,5],\n",
    "            [10,11,12,13,14,15],\n",
    "            [20,21,22,23,24,25],\n",
    "            [30,31,32,33,34,35],\n",
    "            [40,41,42,43,44,45],\n",
    "            [50,51,52,53,54,55]])\n",
    "print(\"Normal array :\\n\",arr) \n",
    "a=arr[3:,[0, 2, 5]]\n",
    "print(\"After Indexing :\\n\",a)"
   ]
  },
  {
   "cell_type": "code",
   "execution_count": 8,
   "metadata": {},
   "outputs": [
    {
     "name": "stdout",
     "output_type": "stream",
     "text": [
      "After masking :\n",
      "\n",
      "[ 2 22 52]\n"
     ]
    }
   ],
   "source": [
    "arr=np.array([[0,1,2,3,4,5],\n",
    "            [10,11,12,13,14,15],\n",
    "            [20,21,22,23,24,25],\n",
    "            [30,31,32,33,34,35],\n",
    "            [40,41,42,43,44,45],\n",
    "            [50,51,52,53,54,55]])\n",
    "mask = np.array([1,0,1,0,0,1],dtype=bool) \n",
    "#mask with column 2 \n",
    "b=arr[mask,2]\n",
    "print(\"After masking :\\n\")\n",
    "print(b)"
   ]
  },
  {
   "cell_type": "code",
   "execution_count": 12,
   "metadata": {},
   "outputs": [
    {
     "name": "stdout",
     "output_type": "stream",
     "text": [
      "[[1], [2], [3]]\n",
      "[1, 2, 3]\n",
      "Let's just stay!\n"
     ]
    }
   ],
   "source": [
    "arr=[[1],[2],[3]]\n",
    "arr1=[1,2,3]\n",
    "print(arr)\n",
    "print(arr1)\n",
    "if arr==arr1:\n",
    "    print(\"Ok Bye!\")\n",
    "else:\n",
    "    print(\"Let's just stay!\")"
   ]
  },
  {
   "cell_type": "code",
   "execution_count": 26,
   "metadata": {},
   "outputs": [
    {
     "name": "stdout",
     "output_type": "stream",
     "text": [
      "arr: [ 0 10 20 30 40 50 60 70]\n",
      "\n",
      "y: [10 20 50]\n"
     ]
    }
   ],
   "source": [
    "#Fancy Indexing\n",
    "import numpy as np\n",
    "from numpy import *\n",
    "\n",
    "arr=arange(0,80,10)\n",
    "print(\"arr:\",arr)\n",
    "y=take(arr,[1,2,-3])\n",
    "print(\"\\ny:\",y)"
   ]
  },
  {
   "cell_type": "code",
   "execution_count": 37,
   "metadata": {},
   "outputs": [
    {
     "name": "stdout",
     "output_type": "stream",
     "text": [
      "b: [0 2 5]\n",
      "c: [0 2]\n"
     ]
    }
   ],
   "source": [
    "#Fancy Indexing\n",
    " #Compress Function\n",
    "arr1=array([[0,1,2,3,4,5],\n",
    "           [10,11,12,13,14,15],\n",
    "           [20,21,22,23,24,25],\n",
    "           [30,31,32,33,34,35],\n",
    "           [40,41,42,43,44,45],\n",
    "           [50,51,52,53,54,55]])\n",
    "mask=array([1,0,1,0,0,1],dtype=bool)    #The concept of mask works for only 0's and 1's\n",
    "#This produces output for 1st row\n",
    "mask1=array([1,0,1],dtype=bool)\n",
    "b=compress(mask,arr1)\n",
    "c=compress(mask1,arr1)\n",
    "print(\"b:\",b)\n",
    "print(\"c:\",c)"
   ]
  },
  {
   "cell_type": "code",
   "execution_count": 53,
   "metadata": {},
   "outputs": [
    {
     "name": "stdout",
     "output_type": "stream",
     "text": [
      "x: [0 1 2 3 4 5 6 7 8 9]\n",
      "i: [2 1 8 4]\n",
      "x[i] : [2 1 8 4]\n",
      "Updated x[i] : [99 99 99 99]\n",
      "x: [ 0 99 99  3 99  5  6  7 99  9]\n"
     ]
    }
   ],
   "source": [
    "#Modifying values with Fancy Indexing\n",
    "x=np.array([0,1,2,3,4,5,6,7,8,9])\n",
    "i=np.array([2,1,8,4])\n",
    "print(\"x:\",x)\n",
    "print(\"i:\",i)\n",
    "print(\"x[i] :\",x[i])\n",
    "x[i]=99   #Here array is passed to an array\n",
    "print(\"Updated x[i] :\",x[i])\n",
    "print(\"x:\",x)"
   ]
  },
  {
   "cell_type": "code",
   "execution_count": 48,
   "metadata": {},
   "outputs": [
    {
     "name": "stdout",
     "output_type": "stream",
     "text": [
      "b:\n",
      " [[3 3 3]\n",
      " [4 5 5]]\n"
     ]
    }
   ],
   "source": [
    "#Clip\n",
    "a=array([[1,2,3],[4,5,6]])\n",
    "b=a.clip(3,5)\n",
    "#set value less than 3 equal to 3\n",
    "#set value greater than 5 equal to 5\n",
    "print(\"b:\\n\",b)"
   ]
  },
  {
   "cell_type": "code",
   "execution_count": 64,
   "metadata": {},
   "outputs": [
    {
     "name": "stdout",
     "output_type": "stream",
     "text": [
      "zip(x,y) : [(2, 1), (4, 3)]\n",
      "a: 2\n",
      "b: 1\n",
      "a: 4\n",
      "b: 3\n",
      "14\n",
      "a: [ 2 12]\n",
      "14\n",
      "14\n"
     ]
    }
   ],
   "source": [
    "#Dot Product\n",
    "x=np.array([2,4])\n",
    "y=np.array([1,3])\n",
    "\n",
    "#Method 1:\n",
    "dot_product=0\n",
    "print(\"zip(x,y) :\",list(zip(x,y)))\n",
    "for a,b in zip(x,y):\n",
    "    print(\"a:\",a)\n",
    "    print(\"b:\",b)\n",
    "    dot_product+=a*b     #(2*1 + 4*3)\n",
    "print(dot_product)\n",
    "\n",
    "#Method 2:\n",
    "a=x*y      #product of two arrays\n",
    "print(\"a:\",a)\n",
    "print(a.sum())\n",
    "\n",
    "#Method 3:\n",
    "print(x.dot(y))"
   ]
  },
  {
   "cell_type": "code",
   "execution_count": 87,
   "metadata": {},
   "outputs": [
    {
     "name": "stdout",
     "output_type": "stream",
     "text": [
      "a:\n",
      " [[1 2]\n",
      " [3 4]]\n",
      "b:\n",
      " [[5 6]\n",
      " [7 8]]\n",
      "Column(c) Concatenation:\n",
      " [[1 2]\n",
      " [3 4]\n",
      " [5 6]\n",
      " [7 8]]\n",
      "Row(r) Concatenation:\n",
      " [[1 2 5 6]\n",
      " [3 4 7 8]]\n",
      "Concatenation:\n",
      " [1 2 3 4 5 6 7 8]\n",
      "r.size : 8\n",
      "r.dtype : int32\n",
      "c.size : 8\n"
     ]
    }
   ],
   "source": [
    "#Methods to concatenate two arrays.\n",
    "#Method 1:Using concatenate() function\n",
    "a = np.array([[1, 2], [3, 4]])   # 2x2\n",
    "b = np.array([[5, 6],[7,8]])     # 1x2\n",
    "print(\"a:\\n\",a)\n",
    "print(\"b:\\n\",b)\n",
    "\n",
    "c=concatenate((a,b),axis=0)\n",
    "r=concatenate((a,b),axis=1)\n",
    "cr=concatenate((a,b),axis=None)\n",
    "\n",
    "print(\"Column(c) Concatenation:\\n\",c)  #axis=0 means Column\n",
    "print(\"Row(r) Concatenation:\\n\",r)     #axis=1 means Row\n",
    "print(\"Concatenation:\\n\",cr)\n",
    "print(\"r.size :\",r.size)\n",
    "print(\"r.dtype :\",r.dtype)\n",
    "print(\"c.size :\",c.size)"
   ]
  },
  {
   "cell_type": "code",
   "execution_count": 98,
   "metadata": {},
   "outputs": [
    {
     "name": "stdout",
     "output_type": "stream",
     "text": [
      "Column Concatenation:\n",
      " [[1 2]\n",
      " [3 4]\n",
      " [5 6]]\n",
      "Row Concatenation:\n",
      " [[1 2 5]\n",
      " [3 4 6]]\n",
      "Concatenation:\n",
      " [1 2 3 4 5 6]\n"
     ]
    }
   ],
   "source": [
    "#concatenation() function(part 2)\n",
    "a=np.array([[1,2],[3,4]])\n",
    "b=np.array([[5, 6]])\n",
    "print(\"Column Concatenation:\\n\",np.concatenate((a,b),axis=0))\n",
    "\n",
    "#print(\"Row Concatenation:\\n\",np.concatenate((a,b),axis=1)) \n",
    "# ValueError: all the input array dimensions except for the concatenation axis must match exactly\n",
    "print(\"Row Concatenation:\\n\",np.concatenate((a, b.T), axis=1))\n",
    "\n",
    "print(\"Concatenation:\\n\",np.concatenate((a,b),axis=None))"
   ]
  },
  {
   "cell_type": "code",
   "execution_count": 104,
   "metadata": {},
   "outputs": [
    {
     "name": "stdout",
     "output_type": "stream",
     "text": [
      "res:\n",
      " [[1 2 3]\n",
      " [2 3 4]]\n",
      "a:\n",
      " [[1]\n",
      " [2]\n",
      " [3]]\n",
      "res1:\n",
      " [[1]\n",
      " [2]\n",
      " [3]\n",
      " [2]\n",
      " [3]\n",
      " [4]]\n"
     ]
    }
   ],
   "source": [
    "#Method 2: numpy.vstack\n",
    "#It stack arrays in sequence vertically(row-wise)\n",
    "a=np.array([1, 2, 3])\n",
    "b=np.array([2, 3, 4])\n",
    "res=np.vstack((a,b))\n",
    "print(\"res:\\n\",res)\n",
    "\n",
    "a=np.array([[1],[2],[3]])\n",
    "print(\"a:\\n\",a)\n",
    "b=np.array([[2],[3],[4]])\n",
    "res1=np.vstack((a,b))\n",
    "print(\"res1:\\n\",res1)"
   ]
  },
  {
   "cell_type": "code",
   "execution_count": 106,
   "metadata": {},
   "outputs": [
    {
     "name": "stdout",
     "output_type": "stream",
     "text": [
      "res:\n",
      " [1 2 3 4 5 6]\n",
      "res1:\n",
      " [[1 4]\n",
      " [2 5]\n",
      " [3 6]]\n"
     ]
    }
   ],
   "source": [
    "#Method 3: numpy.hstack\n",
    "#It stack arrays in sequence horizontally(column-wise)\n",
    "a = np.array((1,2,3))\n",
    "b = np.array((4,5,6))\n",
    "print(\"res:\\n\",np.hstack((a,b)))\n",
    "\n",
    "a = np.array([[1],[2],[3]])\n",
    "b = np.array([[4],[5],[6]])\n",
    "print(\"res1:\\n\",np.hstack((a,b)))"
   ]
  },
  {
   "cell_type": "code",
   "execution_count": 112,
   "metadata": {},
   "outputs": [
    {
     "name": "stdout",
     "output_type": "stream",
     "text": [
      "1:\n",
      " [0 1 2 0 1 2]\n",
      "2:\n",
      " [[0 1 2 0 1 2]\n",
      " [0 1 2 0 1 2]]\n",
      "3:\n",
      " [[[0 1 2 0 1 2]]\n",
      "\n",
      " [[0 1 2 0 1 2]]]\n"
     ]
    }
   ],
   "source": [
    "#tile() : It constructs an array by repeating 'A' the number of times given by reps.\n",
    "a=np.array([0,1,2])\n",
    "print(\"1:\\n\",np.tile(a,2))\n",
    "print(\"2:\\n\",np.tile(a,(2,2)))\n",
    "print(\"3:\\n\",np.tile(a,(2,1,2))) #row=1 ,col=2"
   ]
  },
  {
   "cell_type": "code",
   "execution_count": 121,
   "metadata": {},
   "outputs": [
    {
     "name": "stdout",
     "output_type": "stream",
     "text": [
      "The zipped result is : [('Manjeet', 4, 40), ('Nikhil', 1, 50), ('Shambhavi', 3, 60), ('Astha', 2, 70)]\n",
      "The unzipped result: \n",
      "The name list is : ('Manjeet', 'Nikhil', 'Shambhavi', 'Astha')\n",
      "The roll_no list is : (4, 1, 3, 2)\n",
      "The marks list is : (40, 50, 60, 70)\n"
     ]
    }
   ],
   "source": [
    "# Python code to demonstrate the working of zip() \n",
    "\n",
    "# initializing lists \n",
    "name = [ \"Manjeet\", \"Nikhil\", \"Shambhavi\", \"Astha\" ] \n",
    "roll_no = [ 4, 1, 3, 2 ] \n",
    "marks = [ 40, 50, 60, 70 ] \n",
    "\n",
    "# using zip() to map values \n",
    "mapped = zip(name, roll_no, marks) \n",
    "\n",
    "# converting values to print as set \n",
    "mapped = list(mapped) \n",
    "\n",
    "# printing resultant values \n",
    "print (\"The zipped result is : \",end=\"\") \n",
    "print (mapped) \n",
    "\n",
    "# unzipping values \n",
    "namz, roll_noz, marksz = zip(*mapped) \n",
    "\n",
    "print (\"The unzipped result: \\n\",end=\"\") \n",
    "\n",
    "# printing initial lists \n",
    "print (\"The name list is : \",end=\"\") \n",
    "print (namz) \n",
    "\n",
    "print (\"The roll_no list is : \",end=\"\") \n",
    "print (roll_noz) \n",
    "\n",
    "print (\"The marks list is : \",end=\"\") \n",
    "print (marksz)"
   ]
  },
  {
   "cell_type": "code",
   "execution_count": 130,
   "metadata": {},
   "outputs": [
    {
     "name": "stdout",
     "output_type": "stream",
     "text": [
      "\n",
      " A sequential array with a negative step: \n",
      " [10  8  6  4  2]\n",
      "\n",
      " Elements at these indices are:\n",
      " [4 8 6]\n",
      "[10  8  6  4  2]\n"
     ]
    }
   ],
   "source": [
    "# Python program to demonstrate the use of index arrays.\n",
    "import numpy as np\n",
    " \n",
    "# Create a sequence of integers from 10 to 1 with a step of -2\n",
    "a = np.arange(10, 1, -2) \n",
    "print(\"\\n A sequential array with a negative step: \\n\",a)\n",
    " \n",
    "# Indexes are specified inside the np.array method.\n",
    "newarr = a[[3, 1, 2 ]]\n",
    "print(\"\\n Elements at these indices are:\\n\",newarr)\n",
    "print(a)"
   ]
  },
  {
   "cell_type": "code",
   "execution_count": 131,
   "metadata": {},
   "outputs": [
    {
     "name": "stdout",
     "output_type": "stream",
     "text": [
      "[1 3 6]\n"
     ]
    }
   ],
   "source": [
    "# Python program showing advanced indexing\n",
    "import numpy as np\n",
    " \n",
    "a = np.array([[1 ,2 ],[3 ,4 ],[5 ,6 ]])\n",
    "print(a[[0 ,1 ,2 ],[0 ,0 ,1]])"
   ]
  },
  {
   "cell_type": "code",
   "execution_count": 134,
   "metadata": {},
   "outputs": [
    {
     "name": "stdout",
     "output_type": "stream",
     "text": [
      "[]\n",
      "[1600 6400]\n"
     ]
    }
   ],
   "source": [
    "#WAP:To square the multiples of 40 \n",
    "import numpy as np\n",
    " \n",
    "a = np.array([10, 40, 80, 50, 100])\n",
    "print(a[10%40==0]**2)\n",
    "print(a[a%40==0]**2)"
   ]
  },
  {
   "cell_type": "code",
   "execution_count": 138,
   "metadata": {},
   "outputs": [
    {
     "name": "stdout",
     "output_type": "stream",
     "text": [
      "y: [[ 2  2  4]\n",
      " [ 5  5  7]\n",
      " [ 8  8 10]\n",
      " [11 11 13]]\n"
     ]
    }
   ],
   "source": [
    "#To add the vector 'v' to each row of the matrix 'x' and store the result in matrix 'y'.\n",
    "x = np.array([[1,2,3], [4,5,6], [7,8,9], [10,11,12]])\n",
    "v = np.array([1, 0, 1])\n",
    "y = np.empty_like(x)  \n",
    "for i in range(4):\n",
    "    y[i, :] = x[i, :] + v\n",
    "print(\"y:\",y)"
   ]
  },
  {
   "cell_type": "code",
   "execution_count": 143,
   "metadata": {},
   "outputs": [
    {
     "name": "stdout",
     "output_type": "stream",
     "text": [
      "arr: [[[0 1 2 0 1 2]]\n",
      "\n",
      " [[0 1 2 0 1 2]]]\n",
      "3\n",
      "12\n",
      "rows: 2\n",
      "cols: 1\n"
     ]
    }
   ],
   "source": [
    "arr=np.array([[[0, 1, 2, 0, 1, 2]],\n",
    "       [[0, 1, 2, 0, 1, 2]]])\n",
    "print(\"arr:\",arr)\n",
    "print(arr.ndim)\n",
    "print(arr.size)\n",
    "rows=len(arr)\n",
    "cols=len(arr[0])\n",
    "print(\"rows:\",rows)\n",
    "print(\"cols:\",cols)\n",
    "#(row,col)-> (2,1)"
   ]
  },
  {
   "cell_type": "code",
   "execution_count": 156,
   "metadata": {},
   "outputs": [
    {
     "name": "stdout",
     "output_type": "stream",
     "text": [
      "dimensions: 3\n",
      "rows: 2\n",
      "cols: 1\n",
      "ar: [[[0 1 2 0 1 2]]\n",
      "\n",
      " [[0 1 2 0 1 2]]]\n",
      "shape of ar: (2, 1, 6)\n"
     ]
    }
   ],
   "source": [
    "a=np.array([0,1,2])\n",
    "ar=np.tile(a,(2, 1, 2))\n",
    "print(\"dimensions:\",ar.ndim)\n",
    "rows=len(ar)\n",
    "print(\"rows:\",rows)\n",
    "cols=len(arr[0])\n",
    "print(\"cols:\",cols)\n",
    "print(\"ar:\",ar)\n",
    "print(\"shape of ar:\",ar.shape)\n",
    "#d=2   reps\n",
    "#ar.ndim=3\n",
    "#ar.ndim > d\n",
    "#So, reps(d) is promoted to ar.ndim by pre-pending 1’s to it."
   ]
  },
  {
   "cell_type": "code",
   "execution_count": 161,
   "metadata": {},
   "outputs": [
    {
     "name": "stdout",
     "output_type": "stream",
     "text": [
      "[[0 1]\n",
      " [2 3]]\n",
      "2\n",
      "\n",
      "Repeating arr : \n",
      " [[0 1]\n",
      " [2 3]]\n"
     ]
    }
   ],
   "source": [
    "#tile()\n",
    "import numpy as geek\n",
    "arr = geek.arange(4).reshape(2,2)\n",
    "print(arr)  #array is 2-d\n",
    "print(arr.ndim)\n",
    "print(\"\\nRepeating arr : \\n\", geek.tile(arr, 1)) \n",
    "\n",
    "#repetition=1\n",
    "#arr.ndim=2\n",
    "#arr.ndim < reps\n",
    "#If arr.ndim > repetitions, reps is promoted to arr.ndim by pre-pending 1’s to it.\n",
    "#If arr.ndim < repetitions, reps is promoted to arr.ndim by pre-pending new axis."
   ]
  },
  {
   "cell_type": "code",
   "execution_count": 169,
   "metadata": {},
   "outputs": [
    {
     "name": "stdout",
     "output_type": "stream",
     "text": [
      "(4,)\n",
      "[0 1 2 3]\n",
      "\n",
      "Repeating arr : \n",
      " [0 1 2 3 0 1 2 3]\n"
     ]
    }
   ],
   "source": [
    "arr = geek.arange(4)\n",
    "print(arr.shape)\n",
    "print(arr)\n",
    "print(\"\\nRepeating arr : \\n\", geek.tile(arr,2))\n",
    "#promoted to (1,4)"
   ]
  },
  {
   "cell_type": "code",
   "execution_count": 172,
   "metadata": {},
   "outputs": [
    {
     "name": "stdout",
     "output_type": "stream",
     "text": [
      "y:\n",
      " [[ 2  2  4]\n",
      " [ 5  5  7]\n",
      " [ 8  8 10]\n",
      " [11 11 13]]\n"
     ]
    }
   ],
   "source": [
    "x = np.array([[1,2,3], [4,5,6], [7,8,9], [10,11,12]])\n",
    "v = np.array([1,0,1])\n",
    "y = x + v         #Add v to each row of x using broadcasting\n",
    "print(\"y:\\n\",y)"
   ]
  },
  {
   "cell_type": "code",
   "execution_count": 213,
   "metadata": {},
   "outputs": [
    {
     "name": "stdout",
     "output_type": "stream",
     "text": [
      " a: [ 0 10 20 30]\n",
      " b: [0 1 2]\n",
      "a[:,None] :\n",
      " [[ 0]\n",
      " [10]\n",
      " [20]\n",
      " [30]]\n",
      "y:\n",
      " [[ 0  1  2]\n",
      " [10 11 12]\n",
      " [20 21 22]\n",
      " [30 31 32]]\n",
      "a[None,:] : [[ 0 10 20 30]]\n"
     ]
    }
   ],
   "source": [
    "#Broadcasting\n",
    "a = array( (0,10,20,30) )\n",
    "b = array( (0,1,2) )\n",
    "print(\" a:\" , a)\n",
    "print(\" b:\" , b)\n",
    "#print(a+b)\n",
    "print(\"a[:,None] :\\n\",a[:,None]) \n",
    "y = a[:,None] + b\n",
    "#print(a[:,None].shape)\n",
    "print(\"y:\\n\",y)\n",
    "print(\"a[None,:] :\",a[None,:])"
   ]
  },
  {
   "cell_type": "code",
   "execution_count": 192,
   "metadata": {},
   "outputs": [
    {
     "name": "stdout",
     "output_type": "stream",
     "text": [
      "[[0. 0. 0.]\n",
      " [0. 0. 0.]\n",
      " [0. 0. 0.]\n",
      " [0. 0. 0.]]\n",
      "[3 3 8]\n",
      "\n",
      " [[  2.4   8.7  31.2]\n",
      " [157.2  70.8 292. ]\n",
      " [165.6  95.1 191.2]\n",
      " [ 43.2  33.   39.2]]\n"
     ]
    }
   ],
   "source": [
    "macros = array([ \n",
    "[0.8, 2.9, 3.9], \n",
    "[52.4, 23.6, 36.5], \n",
    "[55.2, 31.7, 23.9], \n",
    "[14.4, 11, 4.9] \n",
    "]) \n",
    "\n",
    "# Create a new array filled with zeros, \n",
    "# of the same shape as macros. \n",
    "result = zeros_like(macros) \n",
    "print(result)\n",
    "cal_per_macro = array([3, 3, 8]) \n",
    "print(cal_per_macro)\n",
    "\n",
    "#Now multiply each row of macros by cal_per_macro.In Numpy,`*` is element-wise multiplication between two arrays. \n",
    "#print(macros.shape[0])\n",
    "#print(len(macros))\n",
    "3\n",
    "for i in range(len(macros)): \n",
    "\tresult[i, :] = macros[i, :]*cal_per_macro \n",
    "print(\"\\n\",result)"
   ]
  },
  {
   "cell_type": "code",
   "execution_count": 2,
   "metadata": {},
   "outputs": [
    {
     "data": {
      "text/plain": [
       "numpy.int32"
      ]
     },
     "execution_count": 2,
     "metadata": {},
     "output_type": "execute_result"
    }
   ],
   "source": [
    "import numpy as np\n",
    "type(np.int_(10))"
   ]
  },
  {
   "cell_type": "code",
   "execution_count": 5,
   "metadata": {},
   "outputs": [
    {
     "name": "stdout",
     "output_type": "stream",
     "text": [
      "False\n",
      "True\n"
     ]
    }
   ],
   "source": [
    "print(int is np.int_)\n",
    "print(int is np.int)"
   ]
  }
 ],
 "metadata": {
  "kernelspec": {
   "display_name": "Python 3",
   "language": "python",
   "name": "python3"
  },
  "language_info": {
   "codemirror_mode": {
    "name": "ipython",
    "version": 3
   },
   "file_extension": ".py",
   "mimetype": "text/x-python",
   "name": "python",
   "nbconvert_exporter": "python",
   "pygments_lexer": "ipython3",
   "version": "3.7.0"
  }
 },
 "nbformat": 4,
 "nbformat_minor": 2
}
