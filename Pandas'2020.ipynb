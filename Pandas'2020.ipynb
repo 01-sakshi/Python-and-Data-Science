{
 "cells": [
  {
   "cell_type": "markdown",
   "metadata": {},
   "source": [
    "## Pandas Library\n",
    "Pandas is the most popular python library that is used for data analysis. It provides highly optimized performance with back-end source code is purely written in C or Python.\n",
    "\n",
    "We can analyze data in pandas with:\n",
    "1.Series\n",
    "2.DataFrames"
   ]
  },
  {
   "cell_type": "code",
   "execution_count": 21,
   "metadata": {},
   "outputs": [
    {
     "name": "stdout",
     "output_type": "stream",
     "text": [
      "Series([], dtype: float64)\n",
      "\n",
      "0    4\n",
      "1    7\n",
      "2   -5\n",
      "3    3\n",
      "dtype: int64\n",
      "\n",
      "0    4.2\n",
      "1    7.8\n",
      "2   -5.0\n",
      "3    3.2\n",
      "dtype: float64\n",
      "\n",
      "Values: [ 4  7 -5  3]\n",
      "\n",
      "Index: RangeIndex(start=0, stop=4, step=1)\n"
     ]
    }
   ],
   "source": [
    "import pandas as pd\n",
    "#Since we did not specify an index for the data, a default one\n",
    "#consisting of the integers 0 through N - 1 (where N is the length of the\n",
    "#data) is created.\n",
    "\n",
    "#Series\n",
    "obj0=pd.Series([])\n",
    "print(obj0)  \n",
    "\n",
    "print()\n",
    "obj1=pd.Series([4, 7, -5, 3])\n",
    "print(obj1)\n",
    "\n",
    "print()\n",
    "obj2=pd.Series([4.2, 7.8, -5, 3.2])\n",
    "print(obj2)\n",
    "\n",
    "print(\"\\nValues:\",obj1.values)\n",
    "print(\"\\nIndex:\",obj1.index)"
   ]
  },
  {
   "cell_type": "code",
   "execution_count": 52,
   "metadata": {},
   "outputs": [
    {
     "name": "stdout",
     "output_type": "stream",
     "text": [
      "Type: <class 'pandas.core.series.Series'>\n",
      "\n",
      "dd    4\n",
      "bb    7\n",
      "1    -5\n",
      "c     3\n",
      "dtype: int64\n",
      "\n",
      "Values: [ 4  7 -5  3]\n",
      "\n",
      "Index: Index(['dd', 'bb', 1, 'c'], dtype='object')\n",
      "7\n",
      "\n",
      "obj2[obj2>0] :\n",
      " dd    4\n",
      "bb    7\n",
      "c     3\n",
      "dtype: int64\n",
      "\n",
      "obj2*2 :\n",
      " dd     8\n",
      "bb    14\n",
      "1    -10\n",
      "c      6\n",
      "dtype: int64\n",
      "\n",
      "obj2**2 :\n",
      " dd    16\n",
      "bb    49\n",
      "1     25\n",
      "c      9\n",
      "dtype: int64\n"
     ]
    }
   ],
   "source": [
    "#We can define our own index.\n",
    "obj2 = pd.Series([4, 7, -5, 3],index=['dd', 'bb', 1, 'c'])\n",
    "print(\"Type:\",type(obj2))\n",
    "print()\n",
    "print(obj2)\n",
    "print(\"\\nValues:\",obj1.values)\n",
    "print(\"\\nIndex:\",obj2.index)\n",
    "print(obj2['bb'])\n",
    "print()\n",
    "print(\"obj2[obj2>0] :\\n\",obj2[obj2>0])    #return data for values greater then 0.\n",
    "print()\n",
    "print(\"obj2*2 :\\n\",obj2*2)\n",
    "print()\n",
    "print(\"obj2**2 :\\n\",obj2**2)"
   ]
  },
  {
   "cell_type": "code",
   "execution_count": 63,
   "metadata": {},
   "outputs": [
    {
     "name": "stdout",
     "output_type": "stream",
     "text": [
      "<class 'dict'>\n",
      "\n",
      "Ohio      35000\n",
      "Texas     71000\n",
      "Oregon    16000\n",
      "Utah       5000\n",
      "dtype: int64\n",
      "\n",
      "California        NaN\n",
      "Ohio          35000.0\n",
      "Oregon        16000.0\n",
      "Texas         71000.0\n",
      "dtype: float64\n",
      "\n",
      "True\n",
      "False\n"
     ]
    }
   ],
   "source": [
    "#Series is as a fixed-length, ordered dict.\n",
    "\n",
    "#1. When you are only passing a dict, the index in the resulting Series will have the dict’s keys in sorted order.\n",
    "sdata={'Ohio': 35000, 'Texas': 71000, 'Oregon': 16000, 'Utah': 5000}\n",
    "print(type(sdata))\n",
    "print()\n",
    "obj3=pd.Series(sdata)\n",
    "print(obj3) \n",
    "\n",
    "\n",
    "#2. You can override this by passing the dict keys in the order you want them to appear in the resulting Series.\n",
    "states=['California', 'Ohio', 'Oregon', 'Texas']\n",
    "obj4 = pd.Series(sdata, index=states)\n",
    "print()\n",
    "print(obj4)\n",
    "\n",
    "print()\n",
    "#3. Membership tests\n",
    "if 'Texas' in sdata:     \n",
    "    print(True)\n",
    "    \n",
    "if 'California' not in sdata:\n",
    "    print(False)"
   ]
  },
  {
   "cell_type": "code",
   "execution_count": 69,
   "metadata": {},
   "outputs": [
    {
     "name": "stdout",
     "output_type": "stream",
     "text": [
      "obj3:\n",
      " Ohio      35000\n",
      "Texas     71000\n",
      "Oregon    16000\n",
      "Utah       5000\n",
      "dtype: int64\n",
      "\n",
      "obj4:\n",
      " California        NaN\n",
      "Ohio          35000.0\n",
      "Oregon        16000.0\n",
      "Texas         71000.0\n",
      "dtype: float64\n",
      "\n",
      "Ohio      False\n",
      "Texas     False\n",
      "Oregon    False\n",
      "Utah      False\n",
      "dtype: bool\n",
      "\n",
      "California     True\n",
      "Ohio          False\n",
      "Oregon        False\n",
      "Texas         False\n",
      "dtype: bool\n"
     ]
    }
   ],
   "source": [
    "#The isnull and notnull functions in pandas should be used to detect missing data.\n",
    "print(\"obj3:\\n\",obj3)\n",
    "print()\n",
    "print(\"obj4:\\n\",obj4)\n",
    "print()\n",
    "print(pd.isnull(obj3))\n",
    "print()\n",
    "print(pd.isnull(obj4))"
   ]
  },
  {
   "cell_type": "code",
   "execution_count": 87,
   "metadata": {},
   "outputs": [
    {
     "name": "stdout",
     "output_type": "stream",
     "text": [
      "obj3:\n",
      " Bob      35000\n",
      "Steve    71000\n",
      "Jeff     16000\n",
      "Ryan      5000\n",
      "dtype: int64\n",
      "\n",
      "obj4:\n",
      " state\n",
      "California        NaN\n",
      "Ohio          35000.0\n",
      "Oregon        16000.0\n",
      "Texas         71000.0\n",
      "Name: population, dtype: float64\n",
      "\n",
      "Bob          NaN\n",
      "California   NaN\n",
      "Jeff         NaN\n",
      "Ohio         NaN\n",
      "Oregon       NaN\n",
      "Ryan         NaN\n",
      "Steve        NaN\n",
      "Texas        NaN\n",
      "dtype: float64\n"
     ]
    }
   ],
   "source": [
    "#Two Series objects can be added.\n",
    "print(\"obj3:\\n\",obj3)\n",
    "#print(type(obj3))\n",
    "print()\n",
    "print(\"obj4:\\n\",obj4)\n",
    "print()\n",
    "print(obj3+obj4)"
   ]
  },
  {
   "cell_type": "code",
   "execution_count": 80,
   "metadata": {},
   "outputs": [
    {
     "name": "stdout",
     "output_type": "stream",
     "text": [
      "obj4:\n",
      " state\n",
      "California        NaN\n",
      "Ohio          35000.0\n",
      "Oregon        16000.0\n",
      "Texas         71000.0\n",
      "Name: population, dtype: float64\n",
      "\n",
      "Name of object obj4: population\n",
      "Name of object obj3: None\n",
      "\n",
      "obj4:\n",
      " state\n",
      "California        NaN\n",
      "Ohio          35000.0\n",
      "Oregon        16000.0\n",
      "Texas         71000.0\n",
      "Name: population, dtype: float64\n"
     ]
    }
   ],
   "source": [
    "print(\"obj4:\\n\",obj4)\n",
    "print()\n",
    " \n",
    "obj4.name = 'population'                #To assign name to an object\n",
    "print(\"Name of object obj4:\",obj4.name)\n",
    "print(\"Name of object obj3:\",obj3.name)\n",
    "print()\n",
    "\n",
    "obj4.index.name = 'state'\n",
    "print(\"obj4:\\n\",obj4)"
   ]
  },
  {
   "cell_type": "code",
   "execution_count": 86,
   "metadata": {},
   "outputs": [
    {
     "name": "stdout",
     "output_type": "stream",
     "text": [
      "obj3:\n",
      " Bob      35000\n",
      "Steve    71000\n",
      "Jeff     16000\n",
      "Ryan      5000\n",
      "dtype: int64\n",
      "\n",
      "Object with new indexes:\n",
      " Bob      35000\n",
      "Steve    71000\n",
      "Jeff     16000\n",
      "Ryan      5000\n",
      "dtype: int64\n"
     ]
    }
   ],
   "source": [
    "#A Series’s index can be altered in-place by assignment:\n",
    "print(\"obj3:\\n\",obj3)\n",
    "print()\n",
    "obj3.index=['Bob','Steve','Jeff','Ryan']\n",
    "print(\"Object with new indexes:\\n\",obj3)\n",
    "     #the changes made to index are permanent"
   ]
  },
  {
   "cell_type": "code",
   "execution_count": 163,
   "metadata": {},
   "outputs": [
    {
     "name": "stdout",
     "output_type": "stream",
     "text": [
      "a    1\n",
      "b    3\n",
      "c    4\n",
      "d    5\n",
      "e    6\n",
      "f    2\n",
      "g    9\n",
      "dtype: int64\n"
     ]
    }
   ],
   "source": [
    "# Program to Create series with scalar values. \n",
    "Data =[1, 3, 4, 5, 6, 2, 9] # Numeric data \n",
    "\n",
    "# Creating series with default index values \n",
    "s = pd.Series(Data)\n",
    "\n",
    "# predefined index values \n",
    "Index =['a', 'b', 'c', 'd', 'e', 'f', 'g'] \n",
    "\n",
    "# Creating series with predefined index values \n",
    "si = pd.Series(Data, Index) \n",
    "print(si)"
   ]
  },
  {
   "cell_type": "code",
   "execution_count": 161,
   "metadata": {},
   "outputs": [
    {
     "name": "stdout",
     "output_type": "stream",
     "text": [
      "1      one\n",
      "2      two\n",
      "3    three\n",
      "4     four\n",
      "dtype: object\n"
     ]
    }
   ],
   "source": [
    "#Creating series using dictionary.\n",
    "dict={1:'one',2:'two',3:'three',4:'four'}\n",
    "data=pd.Series(dict)\n",
    "print(data)"
   ]
  },
  {
   "cell_type": "code",
   "execution_count": 166,
   "metadata": {},
   "outputs": [
    {
     "name": "stdout",
     "output_type": "stream",
     "text": [
      "0    [1, 2, 3]\n",
      "1    [4, 5, 6]\n",
      "dtype: object\n"
     ]
    }
   ],
   "source": [
    "#Program to Create ndarray series.\n",
    "nd_array=[[1,2,3],[4,5,6]]\n",
    "nd_data=pd.Series(nd_array)\n",
    "print(nd_data)"
   ]
  },
  {
   "cell_type": "code",
   "execution_count": 104,
   "metadata": {},
   "outputs": [
    {
     "name": "stdout",
     "output_type": "stream",
     "text": [
      "<class 'pandas.core.frame.DataFrame'>\n",
      "\n",
      "frame:\n",
      "     state  year  pop\n",
      "0    Ohio  2000  1.5\n",
      "1    Ohio  2001  1.7\n",
      "2    Ohio  2002  3.6\n",
      "3  Nevada  2001  2.4\n",
      "4  Nevada  2002  2.9\n",
      "5  Nevada  2003  3.2\n",
      "\n",
      "frame1:\n",
      "    year   state  pop\n",
      "0  2000    Ohio  1.5\n",
      "1  2001    Ohio  1.7\n",
      "2  2002    Ohio  3.6\n",
      "3  2001  Nevada  2.4\n",
      "4  2002  Nevada  2.9\n",
      "5  2003  Nevada  3.2\n",
      "\n",
      "frame2:\n",
      "    year   state  pop debt\n",
      "0  2000    Ohio  1.5  NaN\n",
      "1  2001    Ohio  1.7  NaN\n",
      "2  2002    Ohio  3.6  NaN\n",
      "3  2001  Nevada  2.4  NaN\n",
      "4  2002  Nevada  2.9  NaN\n",
      "5  2003  Nevada  3.2  NaN\n",
      "\n",
      "frame.head() :\n",
      "     state  year  pop\n",
      "0    Ohio  2000  1.5\n",
      "1    Ohio  2001  1.7\n",
      "2    Ohio  2002  3.6\n",
      "3  Nevada  2001  2.4\n",
      "4  Nevada  2002  2.9\n",
      "\n",
      "frame.tail() :\n",
      "     state  year  pop\n",
      "1    Ohio  2001  1.7\n",
      "2    Ohio  2002  3.6\n",
      "3  Nevada  2001  2.4\n",
      "4  Nevada  2002  2.9\n",
      "5  Nevada  2003  3.2\n"
     ]
    }
   ],
   "source": [
    "#Data Frame: A DataFrame represents a rectangular table of data and contains an ordered collection of columns.\n",
    "data = {'state':['Ohio', 'Ohio', 'Ohio', 'Nevada', 'Nevada', 'Nevada'],\n",
    "        'year':[2000, 2001, 2002, 2001, 2002, 2003],'pop':[1.5, 1.7, 3.6, 2.4, 2.9, 3.2]} \n",
    "\n",
    "frame = pd.DataFrame(data)\n",
    "print(type(frame))\n",
    "print(\"\\nframe:\\n\",frame)\n",
    "\n",
    "#If you specify a sequence of columns, the DataFrame’s columns will be arranged in that order.\n",
    "frame1=pd.DataFrame(data,columns=['year','state','pop'])\n",
    "print(\"\\nframe1:\\n\",frame1)\n",
    "\n",
    "#If you pass a column that isn’t contained in the dict, it will appear with missing values in the result.\n",
    "frame2=pd.DataFrame(data,columns=['year','state','pop','debt'])\n",
    "print(\"\\nframe2:\\n\",frame2)\n",
    "\n",
    "print(\"\\nframe.head() :\\n\",frame.head())   #the head() method selects only the first five rows.\n",
    "print(\"\\nframe.tail() :\\n\",frame.tail())   #the tail() method selects only the last five rows."
   ]
  },
  {
   "cell_type": "code",
   "execution_count": 115,
   "metadata": {},
   "outputs": [
    {
     "name": "stdout",
     "output_type": "stream",
     "text": [
      "0      Ohio\n",
      "1      Ohio\n",
      "2      Ohio\n",
      "3    Nevada\n",
      "4    Nevada\n",
      "5    Nevada\n",
      "Name: state, dtype: object\n",
      "\n",
      " 0      Ohio\n",
      "1      Ohio\n",
      "2      Ohio\n",
      "3    Nevada\n",
      "4    Nevada\n",
      "5    Nevada\n",
      "Name: state, dtype: object\n",
      "\n",
      "frame2:\n",
      "    year   state  pop  debt\n",
      "0  2000    Ohio  1.5     8\n",
      "1  2001    Ohio  1.7     8\n",
      "2  2002    Ohio  3.6     8\n",
      "3  2001  Nevada  2.4     8\n",
      "4  2002  Nevada  2.9     8\n",
      "5  2003  Nevada  3.2     8\n",
      "\n",
      "frame2:\n",
      "    year   state  pop  debt\n",
      "0  2000    Ohio  1.5   0.0\n",
      "1  2001    Ohio  1.7   1.0\n",
      "2  2002    Ohio  3.6   2.0\n",
      "3  2001  Nevada  2.4   3.0\n",
      "4  2002  Nevada  2.9   4.0\n",
      "5  2003  Nevada  3.2   5.0\n"
     ]
    }
   ],
   "source": [
    "#A column in a DataFrame can be retrieved as a Series either by dict-like notation or by attribute.\n",
    "print(frame2.state)         #Attribute\n",
    "print(\"\\n\",frame2['state']) #Dict-like notation\n",
    "\n",
    "#Columns can be modified by assignment.\n",
    "frame2['debt']=8\n",
    "print(\"\\nframe2:\\n\",frame2)\n",
    "\n",
    "#frame2['debt'] = np.arange(8.)    #ValueError: Length of values does not match length of index\n",
    "frame2['debt'] = np.arange(6.)\n",
    "print(\"\\nframe2:\\n\",frame2)"
   ]
  },
  {
   "cell_type": "code",
   "execution_count": 136,
   "metadata": {},
   "outputs": [
    {
     "name": "stdout",
     "output_type": "stream",
     "text": [
      "frame2:\n",
      "    year   state  pop  debt  eastern\n",
      "0  2000    Ohio  1.5   NaN     True\n",
      "1  2001    Ohio  1.7   NaN     True\n",
      "2  2002    Ohio  3.6  -1.2     True\n",
      "3  2001  Nevada  2.4   NaN    False\n",
      "4  2002  Nevada  2.9  -1.5    False\n",
      "5  2003  Nevada  3.2  -1.7    False\n",
      "\n",
      "frame3:\n",
      "         state  year  pop debt\n",
      "one      Ohio  2000  1.5  NaN\n",
      "two      Ohio  2001  1.7  NaN\n",
      "three    Ohio  2002  3.6  NaN\n",
      "four   Nevada  2001  2.4  NaN\n",
      "five   Nevada  2002  2.9  NaN\n",
      "six    Nevada  2003  3.2  NaN\n"
     ]
    }
   ],
   "source": [
    "#Assignment in a DataFrame.\n",
    "val=pd.Series([-1.2,-1.5,-1.7], index=[2,4,5])\n",
    "frame2['debt'] = val\n",
    "print(\"frame2:\\n\",frame2)\n",
    "\n",
    "frame3=pd.DataFrame(data,index=['one','two','three','four','five','six'],columns=['state','year','pop','debt'])\n",
    "print(\"\\nframe3:\\n\",frame3)"
   ]
  },
  {
   "cell_type": "code",
   "execution_count": 150,
   "metadata": {},
   "outputs": [
    {
     "name": "stdout",
     "output_type": "stream",
     "text": [
      "frame2:\n",
      "    year   state  pop  debt  eastern\n",
      "0  2000    Ohio  1.5   NaN     True\n",
      "1  2001    Ohio  1.7   NaN     True\n",
      "2  2002    Ohio  3.6  -1.2     True\n",
      "3  2001  Nevada  2.4   NaN    False\n",
      "4  2002  Nevada  2.9  -1.5    False\n",
      "5  2003  Nevada  3.2  -1.7    False\n",
      "\n",
      "frame3:\n",
      "         state  year  pop debt  eastern\n",
      "one      Ohio  2000  1.5  NaN    False\n",
      "two      Ohio  2001  1.7  NaN    False\n",
      "three    Ohio  2002  3.6  NaN     True\n",
      "four   Nevada  2001  2.4  NaN    False\n",
      "five   Nevada  2002  2.9  NaN     True\n",
      "six    Nevada  2003  3.2  NaN     True\n",
      "\n",
      "frame2:\n",
      "    year   state  pop  debt\n",
      "0  2000    Ohio  1.5   NaN\n",
      "1  2001    Ohio  1.7   NaN\n",
      "2  2002    Ohio  3.6  -1.2\n",
      "3  2001  Nevada  2.4   NaN\n",
      "4  2002  Nevada  2.9  -1.5\n",
      "5  2003  Nevada  3.2  -1.7\n",
      "\n",
      "Frame 1 columns: Index(['year', 'state', 'pop'], dtype='object')\n",
      "\n",
      "Frame 2 columns: Index(['year', 'state', 'pop', 'debt'], dtype='object')\n",
      "\n",
      "Frame 3 columns: Index(['state', 'year', 'pop', 'debt', 'eastern'], dtype='object')\n"
     ]
    }
   ],
   "source": [
    "#Add a new column of boolean values where the state column equals 'Ohio':\n",
    "\n",
    "#frame3.eastern = frame3['state'] =='Ohio'        # Pandas doesn't allow columns to be created via a new attribute name.\n",
    "frame2['eastern'] = frame2['state'] =='Ohio'\n",
    "print(\"frame2:\\n\",frame2)\n",
    "\n",
    "frame3['eastern'] = frame3['year']>2001\n",
    "print(\"\\nframe3:\\n\",frame3)\n",
    "\n",
    "#Deleting a column\n",
    "del frame2['eastern']\n",
    "#del frame2.debt            AttributeError: debt\n",
    "print(\"\\nframe2:\\n\",frame2)\n",
    "\n",
    "print(\"\\nFrame 1 columns:\",frame1.columns)\n",
    "print(\"\\nFrame 2 columns:\",frame2.columns)\n",
    "print(\"\\nFrame 3 columns:\",frame3.columns)"
   ]
  },
  {
   "cell_type": "code",
   "execution_count": 155,
   "metadata": {},
   "outputs": [
    {
     "name": "stdout",
     "output_type": "stream",
     "text": [
      "frame 2:\n",
      "    year   state  pop  debt\n",
      "0  2000    Ohio  1.5   NaN\n",
      "1  2001    Ohio  1.7   NaN\n",
      "2  2002    Ohio  3.6  -1.2\n",
      "3  2001  Nevada  2.4   NaN\n",
      "4  2002  Nevada  2.9  -1.5\n",
      "5  2003  Nevada  3.2  -1.7\n",
      "\n",
      "Transposed frame 2:\n",
      "           0     1     2       3       4       5\n",
      "year   2000  2001  2002    2001    2002    2003\n",
      "state  Ohio  Ohio  Ohio  Nevada  Nevada  Nevada\n",
      "pop     1.5   1.7   3.6     2.4     2.9     3.2\n",
      "debt    NaN   NaN  -1.2     NaN    -1.5    -1.7\n"
     ]
    }
   ],
   "source": [
    "#Transpose: You can transpose the DataFrame(swap rows and columns). \n",
    "print(\"frame 2:\\n\",frame2)\n",
    "print(\"\\nTransposed frame 2:\\n\",frame2.T)"
   ]
  },
  {
   "cell_type": "markdown",
   "metadata": {},
   "source": [
    "## To Create DataFrame :\n",
    "import pandas as pd   # Import Library \n",
    "  \n",
    "a = pd.DataFrame(Data)  # Create DataFrame with Data \n",
    "Here, Data can be:\n",
    "\n",
    "1.One or more dictionaries\n",
    "2.One or more Series\n",
    "3.2D-numpy Ndarray"
   ]
  },
  {
   "cell_type": "code",
   "execution_count": 15,
   "metadata": {},
   "outputs": [
    {
     "name": "stdout",
     "output_type": "stream",
     "text": [
      "Series:\n",
      " first     {'a': 1, 'b': 2, 'c': 3, 'd': 4, 'e': 7, 'f': 11}\n",
      "second             {'a': 5, 'b': 6, 'c': 7, 'd': 8, 'e': 9}\n",
      "dtype: object\n",
      "\n",
      "DataFrame:\n",
      "    first  second\n",
      "a      1     5.0\n",
      "b      2     6.0\n",
      "c      3     7.0\n",
      "d      4     8.0\n",
      "e      7     9.0\n",
      "f     11     NaN\n",
      "<class 'pandas.core.frame.DataFrame'>\n"
     ]
    }
   ],
   "source": [
    "# 1.Program to Create Data Frame with two dictionaries.\n",
    "\n",
    "import pandas as pd\n",
    "dict1 ={'a':1, 'b':2, 'c':3, 'd':4,'e':7,'f':11}  # Define Dictionary 1 \n",
    "dict2 ={'a':5, 'b':6, 'c':7, 'd':8, 'e':9}        # Define Dictionary 2 \n",
    "Data = {'first':dict1,'second':dict2}             # Define Data with dict1 and dict2 \n",
    "\n",
    "my_series = pd.Series(Data)             # Create Series \n",
    "print(\"Series:\\n\",my_series)\n",
    "\n",
    "df=pd.DataFrame(Data)                   # Create DataFrame\n",
    "print(\"\\nDataFrame:\\n\",df)\n",
    "print(type(df))"
   ]
  },
  {
   "cell_type": "code",
   "execution_count": 21,
   "metadata": {},
   "outputs": [
    {
     "name": "stdout",
     "output_type": "stream",
     "text": [
      "DataFrame:\n",
      "    first  second third\n",
      "0      1     1.1     a\n",
      "1      3     3.5     b\n",
      "2      4     4.7     c\n",
      "3      5     5.8     d\n",
      "4      6     2.9     e\n",
      "5      2     9.3   NaN\n",
      "6      9     NaN   NaN\n",
      "\n",
      "Series:\n",
      " first     0    1\n",
      "1    3\n",
      "2    4\n",
      "3    5\n",
      "4    6\n",
      "5    2\n",
      "6   ...\n",
      "second    0    1.1\n",
      "1    3.5\n",
      "2    4.7\n",
      "3    5.8\n",
      "4    2.9\n",
      "5...\n",
      "third      0    a\n",
      "1    b\n",
      "2    c\n",
      "3    d\n",
      "4    e\n",
      "dtype: object\n",
      "dtype: object\n"
     ]
    }
   ],
   "source": [
    "#2. Program to create Dataframe of three series.\n",
    "\n",
    "import pandas as pd \n",
    "s1 = pd.Series([1, 3, 4, 5, 6, 2, 9])\t\t   # Define series 1 \n",
    "s2 = pd.Series([1.1, 3.5, 4.7, 5.8, 2.9, 9.3]) # Define series 2 \n",
    "s3 = pd.Series(['a', 'b', 'c', 'd', 'e'])\t   # Define series 3 \n",
    "\n",
    "Data ={'first':s1, 'second':s2, 'third':s3}  # Define Data \n",
    "\n",
    "dfseries = pd.DataFrame(Data)\t\t\t    # Create DataFrame \n",
    "print(\"DataFrame:\\n\",dfseries)\n",
    "\n",
    "my_series = pd.Series(Data)\t\t\t       # Create DataFrame \n",
    "print(\"\\nSeries:\\n\",my_series)"
   ]
  },
  {
   "cell_type": "code",
   "execution_count": 25,
   "metadata": {},
   "outputs": [
    {
     "name": "stdout",
     "output_type": "stream",
     "text": [
      "DataFrame:\n",
      "        first     second\n",
      "0  [2, 3, 4]  [2, 4, 8]\n",
      "1  [5, 6, 7]  [1, 3, 9]\n",
      "\n",
      "Series:\n",
      " first     [[2, 3, 4], [5, 6, 7]]\n",
      "second    [[2, 4, 8], [1, 3, 9]]\n",
      "dtype: object\n"
     ]
    }
   ],
   "source": [
    "#3. Program to create DataFrame from 2D array. \n",
    "import pandas as pd       # Import Library\n",
    "\n",
    "d1 =[[2, 3, 4],[5, 6, 7]] # Define 2d array 1 \n",
    "d2 =[[2, 4, 8],[1, 3, 9]] # Define 2d array 2 \n",
    "Data ={'first': d1, 'second': d2} # Define Data \n",
    "\n",
    "df2d = pd.DataFrame(Data) # Create DataFrame \n",
    "print(\"DataFrame:\\n\",df2d)\n",
    "\n",
    "my_series= pd.Series(Data) # Create Series\n",
    "print(\"\\nSeries:\\n\",my_series)"
   ]
  },
  {
   "cell_type": "code",
   "execution_count": 31,
   "metadata": {},
   "outputs": [
    {
     "name": "stdout",
     "output_type": "stream",
     "text": [
      "DataFrame:\n",
      "    first  second\n",
      "1      2       2\n",
      "2      3       4\n",
      "3      4       8\n",
      "4      5       1\n",
      "5      6       3\n",
      "6      7       9\n",
      "\n",
      "Series:\n",
      " first     [2, 3, 4, 5, 6, 7]\n",
      "second    [2, 4, 8, 1, 3, 9]\n",
      "dtype: object\n"
     ]
    }
   ],
   "source": [
    "#4. Program to create DataFrame from numpy array. \n",
    "import numpy as np\n",
    "d1 =np.array([2, 3, 4,5, 6, 7]) # Define array 1 \n",
    "d2 =np.array([2, 4, 8,1, 3, 9]) # Define array 2 \n",
    "Data ={'first': d1, 'second': d2} # Define Data \n",
    "\n",
    "df2d = pd.DataFrame(Data,index=[1,2,3,4,5,6]) # Create DataFrame \n",
    "print(\"DataFrame:\\n\",df2d)\n",
    "\n",
    "my_series= pd.Series(Data) # Create Series\n",
    "print(\"\\nSeries:\\n\",my_series)"
   ]
  },
  {
   "cell_type": "markdown",
   "metadata": {},
   "source": [
    "## There are two ways to store text data in Pandas:\n",
    "1. Object dtype\n",
    "2. String dtype\n",
    "\n",
    "*String dtype is recommended to store text data."
   ]
  },
  {
   "cell_type": "code",
   "execution_count": 43,
   "metadata": {},
   "outputs": [
    {
     "name": "stdout",
     "output_type": "stream",
     "text": [
      "0    a\n",
      "1    b\n",
      "2    c\n",
      "dtype: object\n"
     ]
    }
   ],
   "source": [
    "import pandas as pd\n",
    "s=pd.Series(['a','b','c'])\n",
    "print(s)\n",
    "#print(\"\\n\",pd.Series(['a', 'b', 'c'], dtype=\"string\"))\n",
    "#print(\"\\n\",pd.Series(['a', 'b', 'c'], dtype=pd.StringDtype()))\n",
    "#print(s.astype(\"String\"))"
   ]
  }
 ],
 "metadata": {
  "kernelspec": {
   "display_name": "Python 3",
   "language": "python",
   "name": "python3"
  },
  "language_info": {
   "codemirror_mode": {
    "name": "ipython",
    "version": 3
   },
   "file_extension": ".py",
   "mimetype": "text/x-python",
   "name": "python",
   "nbconvert_exporter": "python",
   "pygments_lexer": "ipython3",
   "version": "3.7.0"
  }
 },
 "nbformat": 4,
 "nbformat_minor": 2
}
